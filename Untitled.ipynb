{
 "cells": [
  {
   "cell_type": "code",
   "execution_count": 46,
   "metadata": {},
   "outputs": [
    {
     "ename": "ModuleNotFoundError",
     "evalue": "No module named 'GPy'",
     "output_type": "error",
     "traceback": [
      "\u001b[0;31m---------------------------------------------------------------------------\u001b[0m",
      "\u001b[0;31mModuleNotFoundError\u001b[0m                       Traceback (most recent call last)",
      "\u001b[0;32m<ipython-input-46-c5a17eb08deb>\u001b[0m in \u001b[0;36m<module>\u001b[0;34m\u001b[0m\n\u001b[1;32m      1\u001b[0m \u001b[0;31m#%pylab inline\u001b[0m\u001b[0;34m\u001b[0m\u001b[0;34m\u001b[0m\u001b[0;34m\u001b[0m\u001b[0m\n\u001b[0;32m----> 2\u001b[0;31m \u001b[0;32mimport\u001b[0m \u001b[0mGPy\u001b[0m\u001b[0;34m\u001b[0m\u001b[0;34m\u001b[0m\u001b[0m\n\u001b[0m\u001b[1;32m      3\u001b[0m \u001b[0;32mimport\u001b[0m \u001b[0mGPyOpt\u001b[0m\u001b[0;34m\u001b[0m\u001b[0;34m\u001b[0m\u001b[0m\n\u001b[1;32m      4\u001b[0m \u001b[0;32mimport\u001b[0m \u001b[0mnumpy\u001b[0m \u001b[0;32mas\u001b[0m \u001b[0mnp\u001b[0m\u001b[0;34m\u001b[0m\u001b[0;34m\u001b[0m\u001b[0m\n\u001b[1;32m      5\u001b[0m \u001b[0;32mfrom\u001b[0m \u001b[0mnumpy\u001b[0m\u001b[0;34m.\u001b[0m\u001b[0mrandom\u001b[0m \u001b[0;32mimport\u001b[0m \u001b[0mseed\u001b[0m\u001b[0;34m\u001b[0m\u001b[0;34m\u001b[0m\u001b[0m\n",
      "\u001b[0;31mModuleNotFoundError\u001b[0m: No module named 'GPy'"
     ]
    }
   ],
   "source": [
    "#%pylab inline  \n",
    "import GPy\n",
    "import GPyOpt\n",
    "import numpy as np\n",
    "from numpy.random import seed\n",
    "seed(12345)"
   ]
  },
  {
   "cell_type": "code",
   "execution_count": 47,
   "metadata": {},
   "outputs": [
    {
     "name": "stdout",
     "output_type": "stream",
     "text": [
      "[2021-07-06 10:41:53+0100] INFO - prefect.FlowRunner | Beginning Flow run for 'My Flow'\n",
      "[2021-07-06 10:41:53+0100] INFO - prefect.TaskRunner | Task 'Subtract 42': Starting task run...\n",
      "[2021-07-06 10:41:53+0100] INFO - prefect.TaskRunner | Task 'Subtract 42': Finished task run for task with final state: 'Success'\n",
      "[2021-07-06 10:41:53+0100] INFO - prefect.FlowRunner | Flow run SUCCESS: all reference tasks succeeded\n"
     ]
    }
   ],
   "source": [
    "import prefect.tasks.core.constants\n",
    "import prefect.tasks.core.collections\n",
    "import prefect.tasks.core.function\n",
    "from prefect import Flow\n",
    "task = prefect.tasks.core.function.FunctionTask(lambda x: x - 42, name=\"Subtract 42\")\n",
    "\n",
    "\n",
    "\n",
    "with Flow(\"My Flow\") as f:\n",
    "    first_result = task(42)\n",
    "state = f.run()\n",
    "\n",
    "first_task_state = state.result[first_result]"
   ]
  },
  {
   "cell_type": "code",
   "execution_count": 76,
   "metadata": {},
   "outputs": [
    {
     "ename": "ModuleNotFoundError",
     "evalue": "No module named 'src.models'",
     "output_type": "error",
     "traceback": [
      "\u001b[0;31m---------------------------------------------------------------------------\u001b[0m",
      "\u001b[0;31mModuleNotFoundError\u001b[0m                       Traceback (most recent call last)",
      "\u001b[0;32m<ipython-input-76-75fb31b0e5f9>\u001b[0m in \u001b[0;36m<module>\u001b[0;34m\u001b[0m\n\u001b[1;32m      2\u001b[0m \u001b[0;34m\u001b[0m\u001b[0m\n\u001b[1;32m      3\u001b[0m \u001b[0;32mwith\u001b[0m \u001b[0mopen\u001b[0m\u001b[0;34m(\u001b[0m\u001b[0;34m\"/home/juan/Documents/Gitlab_projects/baseline/2018-11-01/Baseline_00/trained_model_100.pkl\"\u001b[0m\u001b[0;34m,\u001b[0m \u001b[0;34m\"rb\"\u001b[0m\u001b[0;34m)\u001b[0m \u001b[0;32mas\u001b[0m \u001b[0mf\u001b[0m\u001b[0;34m:\u001b[0m\u001b[0;34m\u001b[0m\u001b[0;34m\u001b[0m\u001b[0m\n\u001b[0;32m----> 4\u001b[0;31m     \u001b[0mdest_object_name\u001b[0m \u001b[0;34m=\u001b[0m \u001b[0mpickle\u001b[0m\u001b[0;34m.\u001b[0m\u001b[0mload\u001b[0m\u001b[0;34m(\u001b[0m\u001b[0mf\u001b[0m\u001b[0;34m)\u001b[0m\u001b[0;34m\u001b[0m\u001b[0;34m\u001b[0m\u001b[0m\n\u001b[0m\u001b[1;32m      5\u001b[0m \u001b[0;34m\u001b[0m\u001b[0m\n\u001b[1;32m      6\u001b[0m \u001b[0mdest_object_name\u001b[0m\u001b[0;34m\u001b[0m\u001b[0;34m\u001b[0m\u001b[0m\n",
      "\u001b[0;31mModuleNotFoundError\u001b[0m: No module named 'src.models'"
     ]
    }
   ],
   "source": [
    "import pickle\n",
    "\n",
    "with open(\"/home/juan/Documents/Gitlab_projects/baseline/2018-11-01/Baseline_00/trained_model_100.pkl\", \"rb\") as f:\n",
    "    dest_object_name = pickle.load(f)\n",
    "\n",
    "dest_object_name"
   ]
  },
  {
   "cell_type": "code",
   "execution_count": 106,
   "metadata": {},
   "outputs": [],
   "source": [
    "import pickle\n",
    "import pandas as pd\n",
    "with open(\"/home/juan/Documents/Gitlab_projects/baseline/2018-11-01/Baseline_00/metrics.pkl\", \"rb\") as f:\n",
    "    dest_object_name = pickle.load(f)\n",
    "\n",
    "df = pd.DataFrame(dest_object_name, index=[\"mean\", \"stdev\"]).drop(columns=[\"model_name\"])"
   ]
  },
  {
   "cell_type": "code",
   "execution_count": 104,
   "metadata": {},
   "outputs": [
    {
     "data": {
      "text/plain": [
       "{'accuracy': 0.5249808788571859,\n",
       " 'precision': 0.3789673702010542,\n",
       " 'recall': 0.4021936357627728,\n",
       " 'f1': 0.38692896022877443,\n",
       " 'recall_at_5percent': 0.04730460426581717,\n",
       " 'recall_at_20percent': 0.1991998704759032,\n",
       " 'recall_at_50percent': 0.519534875678002}"
      ]
     },
     "execution_count": 104,
     "metadata": {},
     "output_type": "execute_result"
    }
   ],
   "source": [
    "df.loc[\"mean\"].to_dict()"
   ]
  },
  {
   "cell_type": "code",
   "execution_count": 110,
   "metadata": {
    "scrolled": true
   },
   "outputs": [
    {
     "data": {
      "text/plain": [
       "'2021-07-07 19:06:43.298272'"
      ]
     },
     "execution_count": 110,
     "metadata": {},
     "output_type": "execute_result"
    }
   ],
   "source": [
    "import datetime\n",
    "now = datetime.datetime.now()\n",
    "str(now)"
   ]
  },
  {
   "cell_type": "code",
   "execution_count": null,
   "metadata": {},
   "outputs": [],
   "source": [
    "import pickle\n",
    "\n",
    "with open(\"/home/juan/Documents/Gitlab_projects/data//train_test_folds.pkl\", \"rb\") as f:\n",
    "    dest_object_name = pickle.load(f)\n",
    "    "
   ]
  },
  {
   "cell_type": "code",
   "execution_count": 107,
   "metadata": {},
   "outputs": [
    {
     "ename": "ModuleNotFoundError",
     "evalue": "No module named 'src.models'",
     "output_type": "error",
     "traceback": [
      "\u001b[0;31m---------------------------------------------------------------------------\u001b[0m",
      "\u001b[0;31mModuleNotFoundError\u001b[0m                       Traceback (most recent call last)",
      "\u001b[0;32m<ipython-input-107-d033e0d54820>\u001b[0m in \u001b[0;36m<module>\u001b[0;34m\u001b[0m\n\u001b[1;32m      2\u001b[0m \u001b[0;34m\u001b[0m\u001b[0m\n\u001b[1;32m      3\u001b[0m \u001b[0;32mwith\u001b[0m \u001b[0mopen\u001b[0m\u001b[0;34m(\u001b[0m\u001b[0;34m\"/home/juan/Documents/Gitlab_projects/baseline/2018-11-01/Baseline_00/trained_model_100.pkl\"\u001b[0m\u001b[0;34m,\u001b[0m \u001b[0;34m\"rb\"\u001b[0m\u001b[0;34m)\u001b[0m \u001b[0;32mas\u001b[0m \u001b[0mf\u001b[0m\u001b[0;34m:\u001b[0m\u001b[0;34m\u001b[0m\u001b[0;34m\u001b[0m\u001b[0m\n\u001b[0;32m----> 4\u001b[0;31m     \u001b[0mdest_object_name\u001b[0m \u001b[0;34m=\u001b[0m \u001b[0mpickle\u001b[0m\u001b[0;34m.\u001b[0m\u001b[0mload\u001b[0m\u001b[0;34m(\u001b[0m\u001b[0mf\u001b[0m\u001b[0;34m)\u001b[0m\u001b[0;34m\u001b[0m\u001b[0;34m\u001b[0m\u001b[0m\n\u001b[0m\u001b[1;32m      5\u001b[0m \u001b[0;34m\u001b[0m\u001b[0m\n",
      "\u001b[0;31mModuleNotFoundError\u001b[0m: No module named 'src.models'"
     ]
    }
   ],
   "source": [
    "import pickle\n",
    "\n",
    "with open(\"/home/juan/Documents/Gitlab_projects/baseline/2018-11-01/Baseline_00/trained_model_100.pkl\", \"rb\") as f:\n",
    "    dest_object_name = pickle.load(f)\n",
    "    "
   ]
  },
  {
   "cell_type": "code",
   "execution_count": 65,
   "metadata": {},
   "outputs": [
    {
     "data": {
      "text/plain": [
       "(2501, 29)"
      ]
     },
     "execution_count": 65,
     "metadata": {},
     "output_type": "execute_result"
    }
   ],
   "source": [
    "dest_object_name[\"trainxy\"][0].shape"
   ]
  },
  {
   "cell_type": "code",
   "execution_count": 66,
   "metadata": {},
   "outputs": [
    {
     "data": {
      "text/plain": [
       "(2360, 29)"
      ]
     },
     "execution_count": 66,
     "metadata": {},
     "output_type": "execute_result"
    }
   ],
   "source": [
    "dest_object_name[\"folds\"][0][0].shape"
   ]
  },
  {
   "cell_type": "code",
   "execution_count": 67,
   "metadata": {},
   "outputs": [
    {
     "data": {
      "text/plain": [
       "(1193,)"
      ]
     },
     "execution_count": 67,
     "metadata": {},
     "output_type": "execute_result"
    }
   ],
   "source": [
    "dest_object_name[\"folds\"][0][1].shape"
   ]
  },
  {
   "cell_type": "code",
   "execution_count": 68,
   "metadata": {},
   "outputs": [
    {
     "data": {
      "text/plain": [
       "(980, 29)"
      ]
     },
     "execution_count": 68,
     "metadata": {},
     "output_type": "execute_result"
    }
   ],
   "source": [
    "dest_object_name[\"folds\"][0][2].shape"
   ]
  },
  {
   "cell_type": "code",
   "execution_count": 69,
   "metadata": {},
   "outputs": [
    {
     "data": {
      "text/plain": [
       "(433,)"
      ]
     },
     "execution_count": 69,
     "metadata": {},
     "output_type": "execute_result"
    }
   ],
   "source": [
    "dest_object_name[\"folds\"][0][3].shape"
   ]
  },
  {
   "cell_type": "code",
   "execution_count": 43,
   "metadata": {},
   "outputs": [
    {
     "data": {
      "text/plain": [
       "Index(['providers:ownership_type', 'providers:organisation_type',\n",
       "       'providers:provider_subtype',\n",
       "       'providers:address_government_office_region',\n",
       "       'providers:income_deprivation_affecting_children_index_idaci_score',\n",
       "       'providers:deprivation_band', 'providers:staff',\n",
       "       'providers:places_with_estimates', 'providers:normally_operates',\n",
       "       'providers:operating_hours',\n",
       "       'providers:open_for_five_or_more_days_of_the_week',\n",
       "       'providers:open_for_at_least_45_weeks_per_year',\n",
       "       'providers:normally_only_operates_before_and_or_after_school',\n",
       "       'inspections:overall_effectiveness_ewavg',\n",
       "       'inspections:quality_of_teaching_learning_and_assessment_ewavg',\n",
       "       'inspections:inspection_count',\n",
       "       'inspections:overall_effectiveness_last',\n",
       "       'inspections:overall_effectiveness_first',\n",
       "       'inspections:overall_effectiveness_min',\n",
       "       'inspections:overall_effectiveness_max',\n",
       "       'inspections:quality_of_teaching_learning_and_assessment_last',\n",
       "       'inspections:quality_of_teaching_learning_and_assessment_first',\n",
       "       'complaints:complaints_count',\n",
       "       'inspections:inspection_count/providers:places_with_estimates',\n",
       "       'complaints:complaints_count/providers:places_with_estimates',\n",
       "       'providers:staff//providers:places_with_estimates&providers:address_local_authority',\n",
       "       'complaints:complaints_count//providers:places_with_estimates&providers:address_government_office_region',\n",
       "       'complaints:complaints_count//providers:address_government_office_region',\n",
       "       'inspections:inspection_count//providers:address_government_office_region'],\n",
       "      dtype='object')"
      ]
     },
     "execution_count": 43,
     "metadata": {},
     "output_type": "execute_result"
    }
   ],
   "source": [
    "dest_object_name[\"folds\"][0][2].columns"
   ]
  },
  {
   "cell_type": "code",
   "execution_count": 33,
   "metadata": {},
   "outputs": [
    {
     "data": {
      "text/plain": [
       "1"
      ]
     },
     "execution_count": 33,
     "metadata": {},
     "output_type": "execute_result"
    }
   ],
   "source": [
    "import numpy as np\n",
    "a = np.array([1,5,6])\n",
    "int(np.random.choice(a, 1, replace=False))"
   ]
  },
  {
   "cell_type": "code",
   "execution_count": 37,
   "metadata": {},
   "outputs": [
    {
     "data": {
      "text/plain": [
       "[[0, 1],\n",
       " [0, 2],\n",
       " [0, 3],\n",
       " [0, 4],\n",
       " [1, 2],\n",
       " [1, 3],\n",
       " [1, 4],\n",
       " [2, 3],\n",
       " [2, 4],\n",
       " [3, 4]]"
      ]
     },
     "execution_count": 37,
     "metadata": {},
     "output_type": "execute_result"
    }
   ],
   "source": [
    "from itertools import combinations\n",
    "Ny=5\n",
    "comb = combinations(range(Ny), 2)\n",
    "comb = [list(i) for i in comb]\n",
    "comb"
   ]
  },
  {
   "cell_type": "code",
   "execution_count": 5,
   "metadata": {},
   "outputs": [
    {
     "name": "stdout",
     "output_type": "stream",
     "text": [
      "True\n"
     ]
    }
   ],
   "source": [
    "import numpy as np\n",
    "import GPy as gp\n",
    "\n",
    "k = gp.kern.RBF(input_dim=1, variance=1., lengthscale=1.)\n",
    "\n",
    "X = np.random.uniform(-3.,3., (20,1))\n",
    "Y = np.sin(X) + np.random.randn(20,1)*0.05\n",
    "\n",
    "m = gp.models.GPRegression(X, Y, kernel=k)\n",
    "\n",
    "grad = m.predictive_gradients(X)\n",
    "\n",
    "from GPy.util.config import config\n",
    "print(config.getboolean('cython', 'working'))"
   ]
  },
  {
   "cell_type": "code",
   "execution_count": 11,
   "metadata": {},
   "outputs": [
    {
     "data": {
      "text/plain": [
       "<matplotlib.collections.PathCollection at 0x7fcab4791640>"
      ]
     },
     "execution_count": 11,
     "metadata": {},
     "output_type": "execute_result"
    },
    {
     "data": {
      "image/png": "[encoded data removed]",
      "text/plain": [
       "<Figure size 432x288 with 1 Axes>"
      ]
     },
     "metadata": {
      "needs_background": "light"
     },
     "output_type": "display_data"
    }
   ],
   "source": [
    "import matplotlib\n",
    "import matplotlib.pyplot as plt\n",
    "\n",
    "x= np.linspace(0,1,100)\n",
    "y =np.linspace(0,1,100)\n",
    "void_fraction = np.linspace(1e-10,1e-5,100)\n",
    "plt.scatter(x,y,edgecolors='none',c=void_fraction,\n",
    "                norm=matplotlib.colors.LogNorm())"
   ]
  },
  {
   "cell_type": "code",
   "execution_count": 65,
   "metadata": {},
   "outputs": [],
   "source": [
    "base = 10\n",
    "dim = 3\n",
    "points = base**dim\n",
    "\n",
    "arr = np.ones((points,1))\n",
    "partitioned_arr = np.array_split(arr, base)\n",
    "# help(np.partition)"
   ]
  },
  {
   "cell_type": "code",
   "execution_count": 66,
   "metadata": {},
   "outputs": [
    {
     "data": {
      "text/plain": [
       "10"
      ]
     },
     "execution_count": 66,
     "metadata": {},
     "output_type": "execute_result"
    }
   ],
   "source": [
    "len(partitioned_arr )"
   ]
  },
  {
   "cell_type": "code",
   "execution_count": 67,
   "metadata": {},
   "outputs": [
    {
     "data": {
      "text/plain": [
       "(100, 1)"
      ]
     },
     "execution_count": 67,
     "metadata": {},
     "output_type": "execute_result"
    }
   ],
   "source": [
    "partitioned_arr[0].shape"
   ]
  },
  {
   "cell_type": "code",
   "execution_count": 68,
   "metadata": {},
   "outputs": [
    {
     "data": {
      "text/plain": [
       "1000"
      ]
     },
     "execution_count": 68,
     "metadata": {},
     "output_type": "execute_result"
    }
   ],
   "source": [
    "base**dim"
   ]
  },
  {
   "cell_type": "code",
   "execution_count": 70,
   "metadata": {},
   "outputs": [
    {
     "data": {
      "text/plain": [
       "16112"
      ]
     },
     "execution_count": 70,
     "metadata": {},
     "output_type": "execute_result"
    }
   ],
   "source": [
    "np.array([])"
   ]
  },
  {
   "cell_type": "code",
   "execution_count": 80,
   "metadata": {},
   "outputs": [
    {
     "data": {
      "text/plain": [
       "(840, 4)"
      ]
     },
     "execution_count": 80,
     "metadata": {},
     "output_type": "execute_result"
    }
   ],
   "source": [
    "n_marginalisation_points = np.array([-3.09, -1.64, -0.67, 0 ,0.67,1.64, 3.09])\n",
    "\n",
    "from itertools import permutations  \n",
    "  \n",
    "# Get all permutations of [1, 2, 3]  \n",
    "perm = permutations(n_marginalisation_points, 4)  \n",
    "  \n",
    "# Print the obtained permutations  \n",
    "np.array(list(perm)).shape"
   ]
  },
  {
   "cell_type": "code",
   "execution_count": 85,
   "metadata": {},
   "outputs": [
    {
     "data": {
      "text/plain": [
       "(100, 2)"
      ]
     },
     "execution_count": 85,
     "metadata": {},
     "output_type": "execute_result"
    }
   ],
   "source": [
    "np.ones((100,2,2)).shape[:2]"
   ]
  },
  {
   "cell_type": "code",
   "execution_count": 106,
   "metadata": {},
   "outputs": [],
   "source": [
    "mm =np.array([0.00000000e+00, 6.48624737e-52, 6.48624737e-52, 6.48624737e-52,\n",
    " 0.00000000e+00, 0.00000000e+00, 0.00000000e+00, 0.00000000e+00,\n",
    " 0.00000000e+00, 0.00000000e+00])\n",
    "\n",
    "ss = np.array([0.00000000e+00, 4.91693275e-53 ,4.91693275e-53, 4.91693275e-53,\n",
    " 0.00000000e+00, 0.00000000e+00, 0.00000000e+00, 0.00000000e+00,\n",
    " 0.00000000e+00, 0.00000000e+00])\n",
    "\n",
    "mmss = np.vstack((mm,ss)).T"
   ]
  },
  {
   "cell_type": "code",
   "execution_count": 107,
   "metadata": {},
   "outputs": [
    {
     "data": {
      "text/plain": [
       "array([[0.00000000e+00, 0.00000000e+00],\n",
       "       [6.48624737e-52, 4.91693275e-53],\n",
       "       [6.48624737e-52, 4.91693275e-53],\n",
       "       [6.48624737e-52, 4.91693275e-53],\n",
       "       [0.00000000e+00, 0.00000000e+00],\n",
       "       [0.00000000e+00, 0.00000000e+00],\n",
       "       [0.00000000e+00, 0.00000000e+00],\n",
       "       [0.00000000e+00, 0.00000000e+00],\n",
       "       [0.00000000e+00, 0.00000000e+00],\n",
       "       [0.00000000e+00, 0.00000000e+00]])"
      ]
     },
     "execution_count": 107,
     "metadata": {},
     "output_type": "execute_result"
    }
   ],
   "source": [
    "mmss"
   ]
  },
  {
   "cell_type": "code",
   "execution_count": 116,
   "metadata": {},
   "outputs": [
    {
     "data": {
      "text/plain": [
       "array([0, 2])"
      ]
     },
     "execution_count": 116,
     "metadata": {},
     "output_type": "execute_result"
    }
   ],
   "source": [
    "a = np.array([[0,1],\n",
    "             [2,3],\n",
    "             [4,5]])\n",
    "\n",
    "np.random.choice(range(a.shape[0]),2)"
   ]
  },
  {
   "cell_type": "code",
   "execution_count": 130,
   "metadata": {},
   "outputs": [],
   "source": [
    "def compare_arrays(Base,arr ):\n",
    "    assert Base.shape[0]>=arr.shape[0],\"check dimensions\"\n",
    "    B = Base\n",
    "    comparison =[]\n",
    "    for a in range(arr.shape[0]):\n",
    "        found_value = False\n",
    "        for b in range(Base.shape[0]):\n",
    "            if np.all(arr[a]==Base[b]):\n",
    "                comparison.append(True)\n",
    "                found_value=True\n",
    "                \n",
    "        if not found_value:\n",
    "            comparison.append(False)\n",
    "    return np.array(comparison).reshape(-1)"
   ]
  },
  {
   "cell_type": "code",
   "execution_count": 135,
   "metadata": {},
   "outputs": [],
   "source": [
    "a= np.random.random((10,2))\n",
    "b =np.random.random((5,2))\n",
    "overall = compare_arrays(a, b)"
   ]
  },
  {
   "cell_type": "code",
   "execution_count": 139,
   "metadata": {},
   "outputs": [
    {
     "data": {
      "text/plain": [
       "0.2857142857142857"
      ]
     },
     "execution_count": 139,
     "metadata": {},
     "output_type": "execute_result"
    }
   ],
   "source": [
    "n_anchors=2\n",
    "add = np.array([True]*n_anchors)\n",
    "np.mean(np.concatenate((add, overall)))"
   ]
  },
  {
   "cell_type": "code",
   "execution_count": 61,
   "metadata": {},
   "outputs": [],
   "source": [
    "class KG_optimizer():\n",
    "\n",
    "    def __init__(self,model):\n",
    "        \"\"\"\n",
    "\n",
    "        :param model: GPy trained model\n",
    "        \"\"\"\n",
    "        self.X = model.X\n",
    "        self.model = model\n",
    "\n",
    "    def __call__(self,x_space):\n",
    "        \"\"\"\n",
    "        receives vector of points to calculate Knowledge Gradient at each one of the locations\n",
    "        :param x_space: vector of input locations\n",
    "        :return: kg value for each location\n",
    "        \"\"\"\n",
    "        mu_data, var_data = self.model.predict(self.X)\n",
    "        mu_data = mu_data.reshape(-1)\n",
    "\n",
    "        kg = []\n",
    "        for i in range(len(x_space)):\n",
    "            # just adapting dimensions\n",
    "            x_new = x_space[i]\n",
    "            x_new = np.array([x_new])\n",
    "            X_tilde = np.concatenate((x_new, self.X))\n",
    "            # calculating posterior vector covariance in new position. the posterior covariance includes correlation new point\n",
    "            # with all previous sampled points.\n",
    "            mu_xnew = self.model.predict(x_new)[0]\n",
    "            S_xnew = self.model.posterior_covariance_between_points(x_new, X_tilde)\n",
    "\n",
    "            var_xnew = self.model.predict(x_new)[1]  # includes likelihood variance\n",
    "\n",
    "            SS = S_xnew / np.sqrt(var_xnew)\n",
    "            MM = np.concatenate((mu_xnew.reshape(-1), mu_data.reshape(-1)))\n",
    "            # Finally compute KG!\n",
    "\n",
    "            out = self.KG(MM.reshape(-1), SS.reshape(-1))\n",
    "            kg.append(out)\n",
    "        return kg\n",
    "\n",
    "    def KG(self, mu, sig):\n",
    "        \"\"\"\n",
    "        Takes a set of intercepts and gradients of linear functions and returns\n",
    "        the average hieght of the max of functions over Gaussain input.\n",
    "\n",
    "        ARGS\n",
    "            mu: length n vector, initercepts of linear functions\n",
    "            sig: length n vector, gradients of linear functions\n",
    "\n",
    "        RETURNS\n",
    "            out: scalar value is gaussain expectation of epigraph of lin. funs\n",
    "        \"\"\"\n",
    "\n",
    "        n = len(mu)\n",
    "        O = sig.argsort()\n",
    "        a = mu[O]\n",
    "        b = sig[O]\n",
    "        A = [0]\n",
    "        C = [-float(\"inf\")]\n",
    "        while A[-1] < n - 1:\n",
    "            s = A[-1]\n",
    "            si = range(s + 1, n)\n",
    "            Ci = -(a[s] - a[si]) / (b[s] - b[si])\n",
    "            bestsi = np.argmin(Ci)\n",
    "            C.append(Ci[bestsi])\n",
    "            A.append(si[bestsi])\n",
    "\n",
    "        C.append(float(\"inf\"))\n",
    "        cdf_C = norm.cdf(C)\n",
    "        diff_CDF = cdf_C[1:] - cdf_C[:-1]\n",
    "        pdf_C = norm.pdf(C)\n",
    "        diff_PDF = pdf_C[1:] - pdf_C[:-1]\n",
    "\n",
    "        out = np.sum(a[A] * diff_CDF - b[A] * diff_PDF) - np.max(mu)\n",
    "\n",
    "        return out\n"
   ]
  },
  {
   "cell_type": "code",
   "execution_count": 104,
   "metadata": {},
   "outputs": [
    {
     "data": {
      "text/plain": [
       "(2,)"
      ]
     },
     "execution_count": 104,
     "metadata": {},
     "output_type": "execute_result"
    }
   ],
   "source": [
    "a = np.array([[0.57270406,3]])\n",
    "a.flatten()"
   ]
  },
  {
   "cell_type": "code",
   "execution_count": 105,
   "metadata": {},
   "outputs": [
    {
     "data": {
      "text/plain": [
       "0.5000000000000001"
      ]
     },
     "execution_count": 105,
     "metadata": {},
     "output_type": "execute_result"
    }
   ],
   "source": [
    "ang = 3*np.pi/4.0\n",
    "(np.sin(ang))**2.0"
   ]
  },
  {
   "cell_type": "code",
   "execution_count": 106,
   "metadata": {},
   "outputs": [
    {
     "data": {
      "text/plain": [
       "0.4999999999999999"
      ]
     },
     "execution_count": 106,
     "metadata": {},
     "output_type": "execute_result"
    }
   ],
   "source": [
    "(np.cos(ang))**2.0"
   ]
  },
  {
   "cell_type": "code",
   "execution_count": 95,
   "metadata": {},
   "outputs": [
    {
     "data": {
      "text/plain": [
       "array([0.71865526, 0.19022928])"
      ]
     },
     "execution_count": 95,
     "metadata": {},
     "output_type": "execute_result"
    }
   ],
   "source": [
    "np.array([0.71865525 ,0.19022928]) + np.array([1.e-8, 0.e+0])"
   ]
  },
  {
   "cell_type": "code",
   "execution_count": 61,
   "metadata": {},
   "outputs": [],
   "source": [
    "grad = np.zeros((2,), float)\n",
    "grad[1] =a "
   ]
  },
  {
   "cell_type": "code",
   "execution_count": 74,
   "metadata": {},
   "outputs": [],
   "source": [
    "a = np.zeros((2,), float)\n",
    "a[1] = np.array([1.17128529e-06])"
   ]
  },
  {
   "cell_type": "code",
   "execution_count": 17,
   "metadata": {},
   "outputs": [
    {
     "data": {
      "text/plain": [
       "True"
      ]
     },
     "execution_count": 17,
     "metadata": {},
     "output_type": "execute_result"
    }
   ],
   "source": [
    "import numpy as np\n",
    "a = [np.array([[-2.1271616 ],\n",
    "       [ 0.86247824],\n",
    "       [-2.00353139],\n",
    "       [-0.10636901],\n",
    "       [ 0.43344214],\n",
    "       [-1.67121602],\n",
    "       [-0.10359628],\n",
    "       [ 0.16733635],\n",
    "       [ 0.06766733],\n",
    "       [-0.70522226],\n",
    "       [ 0.12677478],\n",
    "       [-0.16047457]]), np.array([[-3.31406475],\n",
    "       [ 0.5454599 ],\n",
    "       [-3.01448944],\n",
    "       [ 2.55591782],\n",
    "       [ 2.08633694],\n",
    "       [-2.63238378],\n",
    "       [ 1.23310174],\n",
    "       [ 0.53453925],\n",
    "       [ 0.0409004 ],\n",
    "       [-2.91893747],\n",
    "       [ 0.21479149],\n",
    "       [ 2.03833088]])]\n",
    "a = np.concatenate(a,axis=1)\n",
    "np.product(a[-1,:] <0)==False"
   ]
  },
  {
   "cell_type": "code",
   "execution_count": 111,
   "metadata": {},
   "outputs": [],
   "source": [
    "from scipy.stats import norm\n",
    "\n",
    "def expected_improvement(X, X_sample, Y_sample, gpr):\n",
    "    '''\n",
    "    Computes the EI at points X based on existing samples X_sample\n",
    "    and Y_sample using a Gaussian process surrogate model.\n",
    "    \n",
    "    Args:\n",
    "        X: Points at which EI shall be computed (m x d).\n",
    "        X_sample: Sample locations (n x d).\n",
    "        Y_sample: Sample values (n x 1).\n",
    "        gpr: A GaussianProcessRegressor fitted to samples.\n",
    "        xi: Exploitation-exploration trade-off parameter.\n",
    "    \n",
    "    Returns:\n",
    "        Expected improvements at points X.\n",
    "    '''\n",
    "    mu, sigma = gpr.predict(X)\n",
    "    mu_sample = gpr.predict(X_sample)\n",
    "\n",
    "    sigma = sigma.reshape(-1, 1)\n",
    "    \n",
    "    # Needed for noise-based model,\n",
    "    # otherwise use np.max(Y_sample).\n",
    "    # See also section 2.4 in [...]\n",
    "    mu_sample_opt = np.max(Y_sample)\n",
    "\n",
    "    with np.errstate(divide='warn'):\n",
    "        imp = mu - mu_sample_opt \n",
    "        Z = imp / sigma\n",
    "        ei = imp * norm.cdf(Z) + sigma * norm.pdf(Z)\n",
    "        ei[sigma == 0.0] = 0.0\n",
    "    \n",
    "    with np.errstate(divide='warn'):\n",
    "        d_imp = (mu_sample_opt -mu)\n",
    "        #Z = d_imp / sigma\n",
    "        d_ei = d_imp * norm.cdf(-1*Z) + sigma * norm.pdf(Z)\n",
    "        d_ei[sigma == 0.0] = 0.0\n",
    "        \n",
    "    return ei,d_ei,np.min(np.c_[ei,d_ei],axis=1)\n"
   ]
  },
  {
   "cell_type": "code",
   "execution_count": 119,
   "metadata": {},
   "outputs": [
    {
     "name": "stdout",
     "output_type": "stream",
     "text": [
      "Generating test function\n"
     ]
    },
    {
     "data": {
      "image/png": "[encoded data removed]",
      "text/plain": [
       "<Figure size 432x288 with 1 Axes>"
      ]
     },
     "metadata": {
      "needs_background": "light"
     },
     "output_type": "display_data"
    }
   ],
   "source": [
    "import numpy as np\n",
    "import GPy\n",
    "import matplotlib.pyplot as plt\n",
    "\n",
    "#generates random gp\n",
    "class GP_test():\n",
    "    \"\"\"\n",
    "A toy function GP\n",
    "\n",
    "ARGS\n",
    " min: scalar defining min range of inputs\n",
    " max: scalar defining max range of inputs\n",
    " seed: int, RNG seed\n",
    " x_dim: designs dimension\n",
    " a_dim: input dimensions\n",
    " xa: n*d matrix, points in space to eval testfun\n",
    " NoiseSD: additive gaussaint noise SD\n",
    "\n",
    "RETURNS\n",
    " output: vector of length nrow(xa)\n",
    " \"\"\"\n",
    "\n",
    "    def __init__(self, xamin, xamax, seed=11, x_dim=1):\n",
    "        self.seed = seed\n",
    "        self.dx = x_dim\n",
    "        self.da = 0\n",
    "        self.dxa = x_dim\n",
    "        self.xmin = np.array([xamin for i in range(self.dxa)])\n",
    "        self.xmax = np.array([xamax for i in range(self.dxa)])\n",
    "        vr = 4.\n",
    "        ls = 10\n",
    "        self.HP =  [vr,ls]\n",
    "        self.KERNEL = GPy.kern.RBF(input_dim=self.dxa, variance=vr, lengthscale=([ls] * self.dxa), ARD=True)\n",
    "        self.generate_function()\n",
    "\n",
    "    def __call__(self, xa, noise_std=1e-6):\n",
    "        assert len(xa.shape) == 2, \"xa must be an N*d matrix, each row a d point\"\n",
    "        assert xa.shape[1] == self.dxa, \"Test_func: wrong dimension inputed\"\n",
    "\n",
    "        xa = self.check_input(xa)\n",
    "\n",
    "        ks = self.KERNEL.K(xa, self.XF)\n",
    "        out = np.dot(ks, self.invCZ)\n",
    "\n",
    "        E = np.random.normal(0, noise_std, xa.shape[0])\n",
    "\n",
    "        return (out.reshape(-1, 1) + E.reshape(-1, 1))\n",
    "\n",
    "    def generate_function(self):\n",
    "        print(\"Generating test function\")\n",
    "        np.random.seed(self.seed)\n",
    "\n",
    "        self.XF = np.random.uniform(size=(50, self.dxa)) * (self.xmax - self.xmin) + self.xmin\n",
    "\n",
    "\n",
    "        mu = np.zeros(self.XF.shape[0])\n",
    "\n",
    "        C = self.KERNEL.K(self.XF, self.XF)\n",
    "\n",
    "        Z = np.random.multivariate_normal(mu, C).reshape(-1, 1)\n",
    "        invC = np.linalg.inv(C + np.eye(C.shape[0]) * 1e-3)\n",
    "\n",
    "        self.invCZ = np.dot(invC, Z)\n",
    "\n",
    "    def check_input(self, x):\n",
    "        if not x.shape[1] == self.dxa or (x > self.xmax).any() or (x < self.xmin).any():\n",
    "            raise ValueError(\"x is wrong dim or out of bounds\")\n",
    "        return x\n",
    "test_f = GP_test([0],[100])\n",
    "\n",
    "#init data X as inputs Y as outputs\n",
    "X = np.random.random((7,1))*100\n",
    "Y = test_f(X)\n",
    "\n",
    "#init GP model with right hps\n",
    "ker = GPy.kern.RBF(input_dim=1, variance=4, lengthscale=10, ARD=True)\n",
    "model = GPy.models.GPRegression(X, Y, ker, noise_var=1e-6)\n",
    "\n",
    "#input space to calculate KG at each point\n",
    "x_space = np.linspace(0,100,200)[:,None]\n",
    "\n",
    "#Call KG acquisition function\n",
    "optimizer = KG_optimizer(model)\n",
    "kg = optimizer(x_space)\n",
    "\n",
    "ei,ed,min_ei_ed = expected_improvement(X=x_space, X_sample=X, Y_sample=Y, gpr=model)\n",
    "\n",
    "#Plots\n",
    "plt.scatter(X,Y)\n",
    "plt.show()"
   ]
  },
  {
   "cell_type": "code",
   "execution_count": 120,
   "metadata": {},
   "outputs": [
    {
     "data": {
      "image/png": "[encoded data removed]",
      "text/plain": [
       "<Figure size 432x288 with 1 Axes>"
      ]
     },
     "metadata": {
      "needs_background": "light"
     },
     "output_type": "display_data"
    }
   ],
   "source": [
    "plt.plot(x_space,np.array(kg))\n",
    "plt.show()"
   ]
  },
  {
   "cell_type": "code",
   "execution_count": 121,
   "metadata": {},
   "outputs": [
    {
     "data": {
      "image/png": "[encoded data removed]",
      "text/plain": [
       "<Figure size 432x288 with 1 Axes>"
      ]
     },
     "metadata": {
      "needs_background": "light"
     },
     "output_type": "display_data"
    }
   ],
   "source": [
    "plt.plot(x_space,np.array(min_ei_ed))\n",
    "plt.show()"
   ]
  },
  {
   "cell_type": "code",
   "execution_count": 49,
   "metadata": {},
   "outputs": [],
   "source": [
    "import numpy as np\n",
    "c = np.array([[1,2,3]])#[np.newaxis]"
   ]
  },
  {
   "cell_type": "code",
   "execution_count": 50,
   "metadata": {},
   "outputs": [
    {
     "data": {
      "text/plain": [
       "array([[1],\n",
       "       [2],\n",
       "       [3]])"
      ]
     },
     "execution_count": 50,
     "metadata": {},
     "output_type": "execute_result"
    }
   ],
   "source": [
    "np.transpose(c)"
   ]
  },
  {
   "cell_type": "code",
   "execution_count": 64,
   "metadata": {},
   "outputs": [],
   "source": [
    "a = np.array([[0.5 , 0.5]])\n",
    "b = np.array([[1,2,3],[1,2,6]])\n",
    "c = np.dot(a, np.square(b))"
   ]
  },
  {
   "cell_type": "code",
   "execution_count": 65,
   "metadata": {},
   "outputs": [
    {
     "data": {
      "text/plain": [
       "array([[ 1. ,  4. , 22.5]])"
      ]
     },
     "execution_count": 65,
     "metadata": {},
     "output_type": "execute_result"
    }
   ],
   "source": [
    "c"
   ]
  },
  {
   "cell_type": "code",
   "execution_count": 89,
   "metadata": {},
   "outputs": [],
   "source": [
    "a = [np.identity(10)*2,np.identity(10)*5]\n",
    "b = np.array([1, 2]).reshape(2,1,1)"
   ]
  },
  {
   "cell_type": "code",
   "execution_count": 90,
   "metadata": {},
   "outputs": [
    {
     "data": {
      "text/plain": [
       "array([[[1]],\n",
       "\n",
       "       [[2]]])"
      ]
     },
     "execution_count": 90,
     "metadata": {},
     "output_type": "execute_result"
    }
   ],
   "source": [
    "b"
   ]
  },
  {
   "cell_type": "code",
   "execution_count": 91,
   "metadata": {},
   "outputs": [
    {
     "data": {
      "text/plain": [
       "(2, 10, 10)"
      ]
     },
     "execution_count": 91,
     "metadata": {},
     "output_type": "execute_result"
    }
   ],
   "source": [
    "(a*b).shape"
   ]
  },
  {
   "cell_type": "code",
   "execution_count": 96,
   "metadata": {},
   "outputs": [
    {
     "data": {
      "text/plain": [
       "array([ 5, 10])"
      ]
     },
     "execution_count": 96,
     "metadata": {},
     "output_type": "execute_result"
    }
   ],
   "source": [
    "np.array([[1,2],[3,4]])[0]*5"
   ]
  },
  {
   "cell_type": "code",
   "execution_count": 100,
   "metadata": {},
   "outputs": [],
   "source": [
    "c = c[0]"
   ]
  },
  {
   "cell_type": "code",
   "execution_count": 106,
   "metadata": {},
   "outputs": [
    {
     "data": {
      "text/plain": [
       "array([[  1.  ,   4.  ,  22.5 ],\n",
       "       [  4.  ,  16.  ,  90.  ],\n",
       "       [ 22.5 ,  90.  , 506.25]])"
      ]
     },
     "execution_count": 106,
     "metadata": {},
     "output_type": "execute_result"
    }
   ],
   "source": [
    "np.matmul(c[np.newaxis].T,c[np.newaxis])"
   ]
  },
  {
   "cell_type": "code",
   "execution_count": 120,
   "metadata": {},
   "outputs": [],
   "source": [
    "a = np.array([[1,2,3]]).reshape(-1,1)"
   ]
  },
  {
   "cell_type": "code",
   "execution_count": 157,
   "metadata": {},
   "outputs": [],
   "source": [
    "b = [a,a]"
   ]
  },
  {
   "cell_type": "code",
   "execution_count": 158,
   "metadata": {},
   "outputs": [
    {
     "data": {
      "text/plain": [
       "array([[1],\n",
       "       [4],\n",
       "       [9]])"
      ]
     },
     "execution_count": 158,
     "metadata": {},
     "output_type": "execute_result"
    }
   ],
   "source": [
    "np.product(b,axis=0)"
   ]
  },
  {
   "cell_type": "code",
   "execution_count": 154,
   "metadata": {},
   "outputs": [
    {
     "data": {
      "text/plain": [
       "3"
      ]
     },
     "execution_count": 154,
     "metadata": {},
     "output_type": "execute_result"
    }
   ],
   "source": [
    "len(a)"
   ]
  },
  {
   "cell_type": "code",
   "execution_count": 153,
   "metadata": {},
   "outputs": [
    {
     "ename": "SyntaxError",
     "evalue": "unexpected EOF while parsing (<ipython-input-153-97c4a632cf16>, line 1)",
     "output_type": "error",
     "traceback": [
      "\u001b[0;36m  File \u001b[0;32m\"<ipython-input-153-97c4a632cf16>\"\u001b[0;36m, line \u001b[0;32m1\u001b[0m\n\u001b[0;31m    for i in range(len(a)):\u001b[0m\n\u001b[0m                           ^\u001b[0m\n\u001b[0;31mSyntaxError\u001b[0m\u001b[0;31m:\u001b[0m unexpected EOF while parsing\n"
     ]
    }
   ],
   "source": [
    "for i in range(len(a)):\n",
    "    "
   ]
  },
  {
   "cell_type": "code",
   "execution_count": null,
   "metadata": {},
   "outputs": [],
   "source": []
  }
 ],
 "metadata": {
  "kernelspec": {
   "display_name": "Ofsted",
   "language": "python",
   "name": "ofsted"
  },
  "language_info": {
   "codemirror_mode": {
    "name": "ipython",
    "version": 3
   },
   "file_extension": ".py",
   "mimetype": "text/x-python",
   "name": "python",
   "nbconvert_exporter": "python",
   "pygments_lexer": "ipython3",
   "version": "3.7.10"
  }
 },
 "nbformat": 4,
 "nbformat_minor": 2
}
