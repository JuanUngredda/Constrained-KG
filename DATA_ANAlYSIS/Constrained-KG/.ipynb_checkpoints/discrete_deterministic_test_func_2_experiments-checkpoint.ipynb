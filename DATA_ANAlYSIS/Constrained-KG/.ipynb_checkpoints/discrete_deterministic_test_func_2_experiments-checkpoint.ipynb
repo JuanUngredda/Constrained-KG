{
 "cells": [
  {
   "cell_type": "code",
   "execution_count": 2,
   "id": "f0dab80f",
   "metadata": {},
   "outputs": [],
   "source": [
    "import numpy as np\n",
    "import matplotlib.pyplot as plt\n",
    "import pandas as pd\n",
    "import os"
   ]
  },
  {
   "cell_type": "code",
   "execution_count": 22,
   "id": "a554f9db",
   "metadata": {},
   "outputs": [
    {
     "ename": "AttributeError",
     "evalue": "module 'matplotlib.pyplot' has no attribute 'fill_plot'",
     "output_type": "error",
     "traceback": [
      "\u001b[0;31m---------------------------------------------------------------------------\u001b[0m",
      "\u001b[0;31mAttributeError\u001b[0m                            Traceback (most recent call last)",
      "Cell \u001b[0;32mIn[22], line 27\u001b[0m\n\u001b[1;32m     25\u001b[0m     bound \u001b[38;5;241m=\u001b[39m \u001b[38;5;241m1.96\u001b[39m\u001b[38;5;241m*\u001b[39m np\u001b[38;5;241m.\u001b[39mstd(aggregated_runs, axis\u001b[38;5;241m=\u001b[39m\u001b[38;5;241m0\u001b[39m)[\u001b[38;5;241m10\u001b[39m:]\u001b[38;5;241m/\u001b[39mnp\u001b[38;5;241m.\u001b[39msqrt(\u001b[38;5;241m30\u001b[39m)\n\u001b[1;32m     26\u001b[0m     plt\u001b[38;5;241m.\u001b[39mplot(\u001b[38;5;28mrange\u001b[39m(\u001b[38;5;241m100\u001b[39m), mean, label \u001b[38;5;241m=\u001b[39m \u001b[38;5;28mstr\u001b[39m(num_underlying_samples))\n\u001b[0;32m---> 27\u001b[0m     \u001b[43mplt\u001b[49m\u001b[38;5;241;43m.\u001b[39;49m\u001b[43mfill_plot\u001b[49m(\u001b[38;5;28mrange\u001b[39m(\u001b[38;5;241m100\u001b[39m), mean\u001b[38;5;241m+\u001b[39mbound, mean\u001b[38;5;241m-\u001b[39mbound)\n\u001b[1;32m     29\u001b[0m plt\u001b[38;5;241m.\u001b[39mxlabel(\u001b[38;5;124m\"\u001b[39m\u001b[38;5;124mIterations\u001b[39m\u001b[38;5;124m\"\u001b[39m)\n\u001b[1;32m     30\u001b[0m plt\u001b[38;5;241m.\u001b[39myscale(\u001b[38;5;124m\"\u001b[39m\u001b[38;5;124mlog\u001b[39m\u001b[38;5;124m\"\u001b[39m)\n",
      "\u001b[0;31mAttributeError\u001b[0m: module 'matplotlib.pyplot' has no attribute 'fill_plot'"
     ]
    },
    {
     "data": {
      "image/png": "[encoded data removed]",
      "text/plain": [
       "<Figure size 640x480 with 1 Axes>"
      ]
     },
     "metadata": {},
     "output_type": "display_data"
    }
   ],
   "source": [
    "discretisation_size = [50, 100, 500]\n",
    "\n",
    "\n",
    "noise_objective = 1e-06\n",
    "noise_constraints = 1e-06\n",
    "subfolder = \"discrete_mistery_cKG_n_obj_\" + str(noise_objective) + \"_n_c_\" + str(noise_constraints)\n",
    "cwd = \"/home/jungredda/CRYPT/DATA_ANAlYSIS/Constrained-KG\"\n",
    "\n",
    "aggregated_runs = []\n",
    "for num_underlying_samples in discretisation_size:\n",
    "    for it in range(30):\n",
    "        path = cwd + \"/\" + subfolder + '/' + str(num_underlying_samples)\n",
    "        file_name = 'it_' + str(it) + '.csv'\n",
    "        \n",
    "        data = pd.read_csv(path + \"/\" + file_name)\n",
    "        optimum = np.array(data[\"optimum\"])[-1]\n",
    "        performance = np.array(data[\"OC GP mean\"])\n",
    "        full_performance = np.ones(110) * performance[-1]\n",
    "        for i in range(len(performance)):\n",
    "            full_performance[i] = performance[i]\n",
    "    \n",
    "        aggregated_runs.append(optimum - full_performance)\n",
    "    \n",
    "    mean = np.mean(aggregated_runs, axis=0)[10:]\n",
    "    bound = 1.96* np.std(aggregated_runs, axis=0)[10:]/np.sqrt(30)\n",
    "    plt.plot(range(100), mean, label = str(num_underlying_samples))\n",
    "    plt.fill_plot(range(100), mean+bound, mean-bound)\n",
    "\n",
    "plt.xlabel(\"Iterations\")\n",
    "plt.yscale(\"log\")\n",
    "plt.ylabel(\"log OC\")\n",
    "plt.legend()\n",
    "plt.xlim(0,100)\n",
    "plt.show()"
   ]
  },
  {
   "cell_type": "code",
   "execution_count": null,
   "id": "0964af7e",
   "metadata": {},
   "outputs": [],
   "source": []
  }
 ],
 "metadata": {
  "kernelspec": {
   "display_name": "Preferential_BICO",
   "language": "python",
   "name": "myenv"
  },
  "language_info": {
   "codemirror_mode": {
    "name": "ipython",
    "version": 3
   },
   "file_extension": ".py",
   "mimetype": "text/x-python",
   "name": "python",
   "nbconvert_exporter": "python",
   "pygments_lexer": "ipython3",
   "version": "3.9.15"
  }
 },
 "nbformat": 4,
 "nbformat_minor": 5
}
