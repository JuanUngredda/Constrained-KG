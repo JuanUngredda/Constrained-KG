{
 "cells": [
  {
   "cell_type": "code",
   "execution_count": 81,
   "metadata": {},
   "outputs": [],
   "source": [
    "import numpy as np\n",
    "import GPyOpt\n",
    "from GPyOpt.objective_examples.experiments2d import mistery, dropwave\n",
    "import GPy as GPy\n",
    "from multi_objective import MultiObjective\n",
    "from multi_outputGP import multi_outputGP\n",
    "import matplotlib.pyplot as plt\n",
    "import scipy\n",
    "from continuous_KG import KG\n",
    "from bayesian_optimisation import BO\n",
    "import pandas as pd\n",
    "import os\n",
    "from GPyOpt.experiment_design import initial_design"
   ]
  },
  {
   "cell_type": "code",
   "execution_count": 82,
   "metadata": {},
   "outputs": [],
   "source": [
    "noise = 1\n",
    "mistery_f =mistery(sd=np.sqrt(noise))\n",
    "\n",
    "# --- Attributes\n",
    "#repeat same objective function to solve a 1 objective problem\n",
    "f = MultiObjective([mistery_f.f])\n",
    "c = MultiObjective([mistery_f.c])\n",
    "\n",
    "\n",
    "# --- Attributes\n",
    "#repeat same objective function to solve a 1 objective problem\n",
    "\n",
    "#c2 = MultiObjective([test_c2])\n",
    "# --- Space\n",
    "#define space of variables\n",
    "space =  GPyOpt.Design_space(space =[{'name': 'var_1', 'type': 'continuous', 'domain': (0,5)},{'name': 'var_2', 'type': 'continuous', 'domain': (0,5)}])#GPyOpt.Design_space(space =[{'name': 'var_1', 'type': 'continuous', 'domain': (0,100)}])#\n",
    "n_f = 1\n",
    "n_c = 1\n",
    "model_f = multi_outputGP(output_dim = n_f,   noise_var=[noise]*n_f, exact_feval=[True]*n_f)\n",
    "model_c = multi_outputGP(output_dim = n_c,  noise_var=[1e-6]*n_c, exact_feval=[True]*n_c)\n"
   ]
  },
  {
   "cell_type": "code",
   "execution_count": 83,
   "metadata": {},
   "outputs": [],
   "source": [
    "def _update_model(model_f, model_c):\n",
    "    \"\"\"\n",
    "    Updates the model (when more than one observation is available) and saves the parameters (if available).\n",
    "    \"\"\"\n",
    "\n",
    "    ### --- input that goes into the model (is unziped in case there are categorical variables)\n",
    "    X = np.random.random((10,2))*5\n",
    "    \n",
    "    Y, cost_values = f.evaluate(X)\n",
    "    C, cost_values = c.evaluate(X)\n",
    "            \n",
    "    X_inmodel = space.unzip_inputs(X)\n",
    "    Y_inmodel = list(Y)\n",
    "    C_inmodel = list(C)\n",
    "\n",
    "    model_f.updateModel(X_inmodel, Y_inmodel)\n",
    "    model_c.updateModel(X_inmodel, C_inmodel)"
   ]
  },
  {
   "cell_type": "code",
   "execution_count": 84,
   "metadata": {},
   "outputs": [
    {
     "name": "stderr",
     "output_type": "stream",
     "text": [
      "reconstraining parameters GP_regression.rbf\n",
      "reconstraining parameters GP_regression.Gaussian_noise.variance\n",
      "reconstraining parameters GP_regression.rbf\n",
      "reconstraining parameters GP_regression.Gaussian_noise.variance\n"
     ]
    },
    {
     "name": "stdout",
     "output_type": "stream",
     "text": [
      "create model\n",
      "self.model \n",
      "Name : GP regression\n",
      "Objective : 67.80969959569009\n",
      "Number of Parameters : 3\n",
      "Number of Optimization Parameters : 2\n",
      "Updates : True\n",
      "Parameters:\n",
      "  \u001b[1mGP_regression.         \u001b[0;0m  |               value  |  constraints  |     priors   \n",
      "  \u001b[1mrbf.variance           \u001b[0;0m  |  36.823426783817695  |      +ve      |   Ga(1, 0.5) \n",
      "  \u001b[1mrbf.lengthscale        \u001b[0;0m  |  2.9681869838585344  |      +ve      |   Ga(1, 0.5) \n",
      "  \u001b[1mGaussian_noise.variance\u001b[0;0m  |                 1.0  |   +ve fixed   |  Ga(0.2, 0.2)\n",
      "create model\n",
      "self.model \n",
      "Name : GP regression\n",
      "Objective : 12.866326935325255\n",
      "Number of Parameters : 3\n",
      "Number of Optimization Parameters : 2\n",
      "Updates : True\n",
      "Parameters:\n",
      "  \u001b[1mGP_regression.         \u001b[0;0m  |               value  |  constraints  |     priors   \n",
      "  \u001b[1mrbf.variance           \u001b[0;0m  |  0.6856940813733223  |      +ve      |   Ga(1, 0.5) \n",
      "  \u001b[1mrbf.lengthscale        \u001b[0;0m  |  1.2721781122399025  |      +ve      |   Ga(1, 0.5) \n",
      "  \u001b[1mGaussian_noise.variance\u001b[0;0m  |               1e-06  |   +ve fixed   |  Ga(0.2, 0.2)\n"
     ]
    }
   ],
   "source": [
    "_update_model(model_f, model_c)"
   ]
  },
  {
   "cell_type": "code",
   "execution_count": 85,
   "metadata": {},
   "outputs": [],
   "source": [
    "from aux_modules.gradient_modules import gradients\n",
    "\n",
    "x =np.array([[3,1]]) \n",
    "Z_obj = -1.96\n",
    "Z_const = 1.96\n",
    "X_inner =np.array([[2,3]])\n",
    "aux_obj = [0.1]\n",
    "aux_c = [0.1]\n",
    "x_opt=np.array([[4,4]])\n",
    "\n",
    "model_f.partial_precomputation_for_covariance(x)\n",
    "model_f.partial_precomputation_for_covariance_gradient(x)\n",
    "\n",
    "model_c.partial_precomputation_for_covariance(x)\n",
    "model_c.partial_precomputation_for_covariance_gradient(x)\n",
    "\n",
    "grad_obj = gradients(x_new=x, model= model_f, xopt =x_opt, Z = Z_obj, aux=aux_obj, X_inner=X_inner, precompute_grad =True)\n",
    "\n",
    "mu_xnew = grad_obj.compute_value_mu_xnew(x=X_inner)\n",
    "grad_mu_xnew = grad_obj.compute_gradient_mu_xnew(x=X_inner)\n",
    "\n",
    "grad_c = gradients(x_new=x, model=model_c, xopt =x_opt, Z=Z_const, aux=aux_c, X_inner=X_inner,\n",
    "                   precompute_grad=True)\n",
    "Fz, grad_Fz = grad_c.compute_probability_feasibility_multi_gp(x=X_inner, l=0,\n",
    "                                                              gradient_flag=True)\n",
    "\n",
    "func_val = np.array(mu_xnew * Fz) #- self.control_variate\n",
    "\n",
    "func_grad_val = np.array(mu_xnew).reshape(-1) * grad_Fz.reshape(-1) + Fz.reshape(\n",
    "    -1) * grad_mu_xnew.reshape(\n",
    "    -1) "
   ]
  },
  {
   "cell_type": "code",
   "execution_count": 86,
   "metadata": {},
   "outputs": [],
   "source": [
    "f = grad_obj.trial_compute_b_xopt\n",
    "x = x.reshape(1,-1)\n",
    "f_val = np.array(f(x)).reshape(-1)\n",
    "numerical_grad = []\n",
    "analytical_grad = []\n",
    "func_val = []\n",
    "dim = x.shape[1]\n",
    "delta= 1e-4\n",
    "delta_matrix = np.identity(dim)\n",
    "func_val = []\n",
    "f_delta=[]\n",
    "for i in range(dim):\n",
    "    one_side = np.array(f(x + delta_matrix[i]*delta)).reshape(-1)\n",
    "    two_side = np.array(f(x - delta_matrix[i]*delta)).reshape(-1)\n",
    "    f_delta.append(one_side - two_side)\n",
    "\n",
    "func_val.append(f_val)\n",
    "f_delta = np.array(f_delta).reshape(-1)\n",
    "numerical_grad.append(np.array(f_delta/(2*delta)).reshape(-1))"
   ]
  },
  {
   "cell_type": "code",
   "execution_count": 87,
   "metadata": {},
   "outputs": [
    {
     "data": {
      "text/plain": [
       "[array([-0.01386109, -0.00317024])]"
      ]
     },
     "execution_count": 87,
     "metadata": {},
     "output_type": "execute_result"
    }
   ],
   "source": [
    "numerical_grad"
   ]
  },
  {
   "cell_type": "code",
   "execution_count": 95,
   "metadata": {},
   "outputs": [
    {
     "ename": "ValueError",
     "evalue": "matmul: Input operand 1 does not have enough dimensions (has 0, gufunc core with signature (n?,k),(k,m?)->(n?,m?) requires 1)",
     "output_type": "error",
     "traceback": [
      "\u001b[0;31m---------------------------------------------------------------------------\u001b[0m",
      "\u001b[0;31mValueError\u001b[0m                                Traceback (most recent call last)",
      "\u001b[0;32m<ipython-input-95-c20f2a33ce6d>\u001b[0m in \u001b[0;36m<module>\u001b[0;34m\u001b[0m\n\u001b[1;32m      1\u001b[0m \u001b[0ma\u001b[0m \u001b[0;34m=\u001b[0m \u001b[0mnp\u001b[0m\u001b[0;34m.\u001b[0m\u001b[0marray\u001b[0m\u001b[0;34m(\u001b[0m\u001b[0;34m[\u001b[0m\u001b[0;36m6.42336354\u001b[0m\u001b[0;34m]\u001b[0m\u001b[0;34m)\u001b[0m\u001b[0;34m\u001b[0m\u001b[0;34m\u001b[0m\u001b[0m\n\u001b[1;32m      2\u001b[0m \u001b[0mb\u001b[0m \u001b[0;34m=\u001b[0m \u001b[0;34m-\u001b[0m\u001b[0;36m0.025562319816145457\u001b[0m\u001b[0;34m\u001b[0m\u001b[0;34m\u001b[0m\u001b[0m\n\u001b[0;32m----> 3\u001b[0;31m \u001b[0mnp\u001b[0m\u001b[0;34m.\u001b[0m\u001b[0mmatmul\u001b[0m\u001b[0;34m(\u001b[0m\u001b[0mnp\u001b[0m\u001b[0;34m.\u001b[0m\u001b[0msqrt\u001b[0m\u001b[0;34m(\u001b[0m\u001b[0ma\u001b[0m\u001b[0;34m)\u001b[0m\u001b[0;34m,\u001b[0m\u001b[0mnp\u001b[0m\u001b[0;34m.\u001b[0m\u001b[0marray\u001b[0m\u001b[0;34m(\u001b[0m\u001b[0mb\u001b[0m\u001b[0;34m)\u001b[0m\u001b[0;34m)\u001b[0m\u001b[0;34m\u001b[0m\u001b[0;34m\u001b[0m\u001b[0m\n\u001b[0m",
      "\u001b[0;31mValueError\u001b[0m: matmul: Input operand 1 does not have enough dimensions (has 0, gufunc core with signature (n?,k),(k,m?)->(n?,m?) requires 1)"
     ]
    }
   ],
   "source": [
    "a = np.array([6.42336354])\n",
    "b = -0.025562319816145457\n",
    "np.matmul(np.sqrt(a),np.array(b))"
   ]
  },
  {
   "cell_type": "code",
   "execution_count": 96,
   "metadata": {},
   "outputs": [
    {
     "data": {
      "text/plain": [
       "array([0.00065343])"
      ]
     },
     "execution_count": 96,
     "metadata": {},
     "output_type": "execute_result"
    }
   ],
   "source": [
    "np.square(b).reshape(-1)"
   ]
  },
  {
   "cell_type": "code",
   "execution_count": 98,
   "metadata": {},
   "outputs": [
    {
     "data": {
      "text/plain": [
       "array([[-0.00591661,  0.00383787]])"
      ]
     },
     "execution_count": 98,
     "metadata": {},
     "output_type": "execute_result"
    }
   ],
   "source": [
    "a = np.array([[0.99913465 ,0.97180497 ,0.97264665]])\n",
    "b = np.array([[-0.00011224, -0.00012582],\n",
    " [-0.         , 0.        ],\n",
    " [-0.0059677  , 0.00407505]])\n",
    "np.dot(a,b)"
   ]
  },
  {
   "cell_type": "code",
   "execution_count": 102,
   "metadata": {},
   "outputs": [
    {
     "data": {
      "text/plain": [
       "-0.0059166062863209995"
      ]
     },
     "execution_count": 102,
     "metadata": {},
     "output_type": "execute_result"
    }
   ],
   "source": [
    "np.sum(0.99913465*np.array([-0.00011224])+0.97180497*np.array(0) +0.97264665*np.array(-0.0059677) ) "
   ]
  },
  {
   "cell_type": "code",
   "execution_count": 115,
   "metadata": {},
   "outputs": [
    {
     "data": {
      "text/plain": [
       "array([[1., 1.],\n",
       "       [1., 1.]])"
      ]
     },
     "execution_count": 115,
     "metadata": {},
     "output_type": "execute_result"
    }
   ],
   "source": [
    "a = np.ones((10,2))\n",
    "\n",
    "idx = np.random.choice(range(len(a)), 2)\n",
    "a[idx]"
   ]
  },
  {
   "cell_type": "code",
   "execution_count": 110,
   "metadata": {},
   "outputs": [
    {
     "data": {
      "text/plain": [
       "range(0, 10)"
      ]
     },
     "execution_count": 110,
     "metadata": {},
     "output_type": "execute_result"
    }
   ],
   "source": []
  },
  {
   "cell_type": "code",
   "execution_count": null,
   "metadata": {},
   "outputs": [],
   "source": []
  }
 ],
 "metadata": {
  "kernelspec": {
   "display_name": "const_kg",
   "language": "python",
   "name": "const_kg"
  },
  "language_info": {
   "codemirror_mode": {
    "name": "ipython",
    "version": 3
   },
   "file_extension": ".py",
   "mimetype": "text/x-python",
   "name": "python",
   "nbconvert_exporter": "python",
   "pygments_lexer": "ipython3",
   "version": "3.6.9"
  }
 },
 "nbformat": 4,
 "nbformat_minor": 4
}
