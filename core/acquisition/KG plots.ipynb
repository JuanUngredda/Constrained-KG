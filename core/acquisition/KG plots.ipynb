{
 "cells": [
  {
   "cell_type": "code",
   "execution_count": 1,
   "metadata": {},
   "outputs": [],
   "source": [
    "import numpy as np\n",
    "import GPy\n",
    "import matplotlib.pyplot as plt\n",
    "import scipy"
   ]
  },
  {
   "cell_type": "code",
   "execution_count": 2,
   "metadata": {},
   "outputs": [],
   "source": [
    "def pf(x, model, mean=None, cov=None, l=0):\n",
    "    # model = gp.output[0].model\n",
    "    kern = model.kern\n",
    "    X = model.X\n",
    "    #x = np.array(x).reshape(-1, 1)\n",
    "    \n",
    "    #if (mean is None) and (cov is None):\n",
    "    mean, cov = model.predict(x, full_cov=True)\n",
    "    \n",
    "#     print(\"mean\",mean)\n",
    "    var = np.diag(cov).reshape(-1, 1)\n",
    "    std = np.sqrt(var).reshape(-1, 1)\n",
    "    aux_std = np.reciprocal(std)\n",
    "    aux_var = np.reciprocal(var)\n",
    "    mean = mean.reshape(-1, 1)\n",
    "#     print(\"mean\", mean.shape,\"var\", var.shape)\n",
    "    norm = scipy.stats.norm(mean, np.sqrt(var))\n",
    "    fz = norm.pdf(l)\n",
    "    Fz = norm.cdf(l)\n",
    "    grad_mean , grad_var = model.predictive_gradients(x)\n",
    "    grad_std = (1/2.0)*grad_var\n",
    "\n",
    "    # cov = kern.K(X, X) + np.eye(X.shape[0]) * 1e-3\n",
    "    # L = scipy.linalg.cholesky(cov, lower=True)\n",
    "    # u = scipy.linalg.solve(L, np.eye(X.shape[0]))\n",
    "    # Ainv = scipy.linalg.solve(L.T, u)\n",
    "\n",
    "    dims = range(x.shape[1])\n",
    "    grad_Fz = []\n",
    "\n",
    "    for d in dims:\n",
    "        # K1 = np.diag(np.dot(np.dot(kern.dK_dX(x, X, d), Ainv), kern.dK_dX2(X, x, d)))\n",
    "        # K2 = np.diag(kern.dK2_dXdX2(x, x, d, d))\n",
    "        # var_grad = K2 - K1\n",
    "        # var_grad = var_grad.reshape(-1, 1)\n",
    "        grd_mean_d = grad_mean[:, d].reshape(-1, 1)\n",
    "        grd_std_d = grad_std[:, d].reshape(-1, 1)\n",
    "        print(\"grd_mean \",grd_mean_d, \"var_grad \",grd_std_d )\n",
    "        print(\"std\",std)\n",
    "        print(\"aux_var\", aux_var)\n",
    "        print(\"fz\",fz)\n",
    "        grad_Fz.append(fz * aux_var * (mean * grd_std_d - grd_mean_d * std))\n",
    "    grad_Fz = np.stack(grad_Fz, axis=1)\n",
    "#     print(\"grad_mean\", grad_mean.shape, \"grad_var\", grad_Fz.shape)\n",
    "    \n",
    "#     print(\"grad_Fz\",grad_Fz)\n",
    "    return Fz.reshape(-1,1), grad_Fz[:,:,0]"
   ]
  },
  {
   "cell_type": "code",
   "execution_count": 3,
   "metadata": {},
   "outputs": [
    {
     "name": "stdout",
     "output_type": "stream",
     "text": [
      "Generating test function\n"
     ]
    }
   ],
   "source": [
    "class GP_test():\n",
    "    \"\"\"\n",
    "A toy function GP\n",
    "\n",
    "ARGS\n",
    " min: scalar defining min range of inputs\n",
    " max: scalar defining max range of inputs\n",
    " seed: int, RNG seed\n",
    " x_dim: designs dimension\n",
    " a_dim: input dimensions\n",
    " xa: n*d matrix, points in space to eval testfun\n",
    " NoiseSD: additive gaussaint noise SD\n",
    "\n",
    "RETURNS\n",
    " output: vector of length nrow(xa)\n",
    " \"\"\"\n",
    "\n",
    "    def __init__(self, xamin, xamax, seed=11, x_dim=1):\n",
    "        self.seed = seed\n",
    "        self.dx = x_dim\n",
    "        self.da = 0\n",
    "        self.dxa = x_dim\n",
    "        self.xmin = np.array([xamin for i in range(self.dxa)])\n",
    "        self.xmax = np.array([xamax for i in range(self.dxa)])\n",
    "        vr = 4.\n",
    "        ls = 10\n",
    "        self.HP =  [vr,ls]\n",
    "        self.KERNEL = GPy.kern.RBF(input_dim=self.dxa, variance=vr, lengthscale=([ls] * self.dxa), ARD=True)\n",
    "        self.generate_function()\n",
    "\n",
    "    def __call__(self, xa, noise_std=1e-2):\n",
    "        assert len(xa.shape) == 2, \"xa must be an N*d matrix, each row a d point\"\n",
    "        assert xa.shape[1] == self.dxa, \"Test_func: wrong dimension inputed\"\n",
    "\n",
    "        xa = self.check_input(xa)\n",
    "\n",
    "        ks = self.KERNEL.K(xa, self.XF)\n",
    "        out = np.dot(ks, self.invCZ)\n",
    "\n",
    "        E = np.random.normal(0, noise_std, xa.shape[0])\n",
    "\n",
    "        return (out.reshape(-1, 1) + E.reshape(-1, 1))\n",
    "\n",
    "    def generate_function(self):\n",
    "        print(\"Generating test function\")\n",
    "        np.random.seed(self.seed)\n",
    "\n",
    "        self.XF = np.random.uniform(size=(50, self.dxa)) * (self.xmax - self.xmin) + self.xmin\n",
    "\n",
    "\n",
    "        mu = np.zeros(self.XF.shape[0])\n",
    "\n",
    "        C = self.KERNEL.K(self.XF, self.XF)\n",
    "\n",
    "        Z = np.random.multivariate_normal(mu, C).reshape(-1, 1)\n",
    "        invC = np.linalg.inv(C + np.eye(C.shape[0]) * 1e-3)\n",
    "\n",
    "        self.invCZ = np.dot(invC, Z)\n",
    "\n",
    "    def check_input(self, x):\n",
    "        if not x.shape[1] == self.dxa or (x > self.xmax).any() or (x < self.xmin).any():\n",
    "            raise ValueError(\"x is wrong dim or out of bounds\")\n",
    "        return x\n",
    "\n",
    "test_f = GP_test([0],[100], seed=12)"
   ]
  },
  {
   "cell_type": "code",
   "execution_count": 4,
   "metadata": {},
   "outputs": [
    {
     "name": "stdout",
     "output_type": "stream",
     "text": [
      "Optimization restart 1/5, f = 3.8503467714651842\n",
      "Optimization restart 2/5, f = 3.850346344025972\n",
      "Optimization restart 3/5, f = 3.850346347071426\n",
      "Optimization restart 4/5, f = 3.8503462770944905\n",
      "Optimization restart 5/5, f = 3.8503463041660266\n"
     ]
    },
    {
     "data": {
      "text/plain": [
       "{'dataplot': [<matplotlib.collections.PathCollection at 0x7f6600837310>],\n",
       " 'gpmean': [[<matplotlib.lines.Line2D at 0x7f66031cc7c0>]],\n",
       " 'gpconfidence': [<matplotlib.collections.PolyCollection at 0x7f66008375b0>]}"
      ]
     },
     "execution_count": 4,
     "metadata": {},
     "output_type": "execute_result"
    },
    {
     "data": {
      "image/png": "[encoded data removed]",
      "text/plain": [
       "<Figure size 432x288 with 1 Axes>"
      ]
     },
     "metadata": {
      "needs_background": "light"
     },
     "output_type": "display_data"
    }
   ],
   "source": [
    "X = np.random.random((10,1))*100\n",
    "Y = test_f(X)\n",
    "\n",
    "Q = GPy.kern.RBF(input_dim=1, ARD=True)\n",
    "model = GPy.models.GPRegression(X, Y, Q)\n",
    "model.optimize_restarts(5);\n",
    "model.plot()"
   ]
  },
  {
   "cell_type": "code",
   "execution_count": 11,
   "metadata": {},
   "outputs": [
    {
     "ename": "ModuleNotFoundError",
     "evalue": "No module named 'GPyOpt'",
     "output_type": "error",
     "traceback": [
      "\u001b[0;31m---------------------------------------------------------------------------\u001b[0m",
      "\u001b[0;31mModuleNotFoundError\u001b[0m                       Traceback (most recent call last)",
      "\u001b[0;32m<ipython-input-11-9cd0e35d56b8>\u001b[0m in \u001b[0;36m<module>\u001b[0;34m\u001b[0m\n\u001b[0;32m----> 1\u001b[0;31m \u001b[0;32mimport\u001b[0m \u001b[0mcore\u001b[0m\u001b[0;34m.\u001b[0m\u001b[0mGPyOpt\u001b[0m\u001b[0;34m\u001b[0m\u001b[0;34m\u001b[0m\u001b[0m\n\u001b[0m\u001b[1;32m      2\u001b[0m \u001b[0;32mfrom\u001b[0m \u001b[0mcore\u001b[0m\u001b[0;34m.\u001b[0m\u001b[0macquisition\u001b[0m\u001b[0;34m.\u001b[0m\u001b[0mHybrid_continuous_KG_v2\u001b[0m \u001b[0;32mimport\u001b[0m \u001b[0mKG\u001b[0m\u001b[0;34m\u001b[0m\u001b[0;34m\u001b[0m\u001b[0m\n",
      "\u001b[0;32m~/Documents/Github_repos/Constrained-KG/core/__init__.py\u001b[0m in \u001b[0;36m<module>\u001b[0;34m\u001b[0m\n\u001b[0;32m----> 1\u001b[0;31m \u001b[0;32mfrom\u001b[0m \u001b[0;34m.\u001b[0m\u001b[0macquisition\u001b[0m \u001b[0;32mimport\u001b[0m \u001b[0;34m*\u001b[0m\u001b[0;34m\u001b[0m\u001b[0;34m\u001b[0m\u001b[0m\n\u001b[0m\u001b[1;32m      2\u001b[0m \u001b[0;32mfrom\u001b[0m \u001b[0;34m.\u001b[0m\u001b[0macquisition\u001b[0m\u001b[0;34m.\u001b[0m\u001b[0mmistery_experiment\u001b[0m \u001b[0;32mimport\u001b[0m \u001b[0mfunction_caller\u001b[0m\u001b[0;34m\u001b[0m\u001b[0;34m\u001b[0m\u001b[0m\n",
      "\u001b[0;32m~/Documents/Github_repos/Constrained-KG/core/acquisition/__init__.py\u001b[0m in \u001b[0;36m<module>\u001b[0;34m\u001b[0m\n\u001b[0;32m----> 1\u001b[0;31m \u001b[0;32mfrom\u001b[0m \u001b[0;34m.\u001b[0m \u001b[0;32mimport\u001b[0m \u001b[0mGPyOpt\u001b[0m\u001b[0;34m\u001b[0m\u001b[0;34m\u001b[0m\u001b[0m\n\u001b[0m\u001b[1;32m      2\u001b[0m \u001b[0;32mfrom\u001b[0m \u001b[0;34m.\u001b[0m \u001b[0;32mimport\u001b[0m \u001b[0mGPy\u001b[0m\u001b[0;34m\u001b[0m\u001b[0;34m\u001b[0m\u001b[0m\n\u001b[1;32m      3\u001b[0m \u001b[0;32mfrom\u001b[0m \u001b[0;34m.\u001b[0m \u001b[0;32mimport\u001b[0m \u001b[0mbayesian_optimisation\u001b[0m\u001b[0;34m\u001b[0m\u001b[0;34m\u001b[0m\u001b[0m\n\u001b[1;32m      4\u001b[0m \u001b[0;32mfrom\u001b[0m \u001b[0;34m.\u001b[0m \u001b[0;32mimport\u001b[0m \u001b[0mmulti_outputGP\u001b[0m\u001b[0;34m\u001b[0m\u001b[0;34m\u001b[0m\u001b[0m\n\u001b[1;32m      5\u001b[0m \u001b[0;32mfrom\u001b[0m \u001b[0;34m.\u001b[0m \u001b[0;32mimport\u001b[0m \u001b[0mbayesian_optimisation_benchmark\u001b[0m\u001b[0;34m\u001b[0m\u001b[0;34m\u001b[0m\u001b[0m\n",
      "\u001b[0;32m~/Documents/Github_repos/Constrained-KG/core/acquisition/GPyOpt/__init__.py\u001b[0m in \u001b[0;36m<module>\u001b[0;34m\u001b[0m\n\u001b[1;32m      5\u001b[0m \u001b[0mwarnings\u001b[0m\u001b[0;34m.\u001b[0m\u001b[0mfilterwarnings\u001b[0m\u001b[0;34m(\u001b[0m\u001b[0;34m\"ignore\"\u001b[0m\u001b[0;34m,\u001b[0m \u001b[0mcategory\u001b[0m\u001b[0;34m=\u001b[0m\u001b[0mDeprecationWarning\u001b[0m\u001b[0;34m)\u001b[0m\u001b[0;34m\u001b[0m\u001b[0;34m\u001b[0m\u001b[0m\n\u001b[1;32m      6\u001b[0m \u001b[0;34m\u001b[0m\u001b[0m\n\u001b[0;32m----> 7\u001b[0;31m \u001b[0;32mfrom\u001b[0m \u001b[0;34m.\u001b[0m\u001b[0mcore\u001b[0m\u001b[0;34m.\u001b[0m\u001b[0mtask\u001b[0m\u001b[0;34m.\u001b[0m\u001b[0mspace\u001b[0m \u001b[0;32mimport\u001b[0m \u001b[0mDesign_space\u001b[0m\u001b[0;34m\u001b[0m\u001b[0;34m\u001b[0m\u001b[0m\n\u001b[0m\u001b[1;32m      8\u001b[0m \u001b[0;32mfrom\u001b[0m \u001b[0;34m.\u001b[0m \u001b[0;32mimport\u001b[0m \u001b[0mcore\u001b[0m\u001b[0;34m\u001b[0m\u001b[0;34m\u001b[0m\u001b[0m\n\u001b[1;32m      9\u001b[0m \u001b[0;32mfrom\u001b[0m \u001b[0;34m.\u001b[0m \u001b[0;32mimport\u001b[0m \u001b[0mmethods\u001b[0m\u001b[0;34m\u001b[0m\u001b[0;34m\u001b[0m\u001b[0m\n",
      "\u001b[0;32m~/Documents/Github_repos/Constrained-KG/core/acquisition/GPyOpt/core/__init__.py\u001b[0m in \u001b[0;36m<module>\u001b[0;34m\u001b[0m\n\u001b[1;32m      2\u001b[0m \u001b[0;31m# Licensed under the BSD 3-clause license (see LICENSE.txt)\u001b[0m\u001b[0;34m\u001b[0m\u001b[0;34m\u001b[0m\u001b[0;34m\u001b[0m\u001b[0m\n\u001b[1;32m      3\u001b[0m \u001b[0;34m\u001b[0m\u001b[0m\n\u001b[0;32m----> 4\u001b[0;31m \u001b[0;32mfrom\u001b[0m \u001b[0;34m.\u001b[0m\u001b[0mbo\u001b[0m \u001b[0;32mimport\u001b[0m \u001b[0mBO\u001b[0m\u001b[0;34m\u001b[0m\u001b[0;34m\u001b[0m\u001b[0m\n\u001b[0m\u001b[1;32m      5\u001b[0m \u001b[0;32mfrom\u001b[0m \u001b[0;34m.\u001b[0m \u001b[0;32mimport\u001b[0m \u001b[0mtask\u001b[0m\u001b[0;34m\u001b[0m\u001b[0;34m\u001b[0m\u001b[0m\n\u001b[1;32m      6\u001b[0m \u001b[0;32mfrom\u001b[0m \u001b[0;34m.\u001b[0m\u001b[0;34m.\u001b[0m \u001b[0;32mimport\u001b[0m \u001b[0macquisitions\u001b[0m \u001b[0;32mas\u001b[0m \u001b[0macquisition\u001b[0m\u001b[0;34m\u001b[0m\u001b[0;34m\u001b[0m\u001b[0m\n",
      "\u001b[0;32m~/Documents/Github_repos/Constrained-KG/core/acquisition/GPyOpt/core/bo.py\u001b[0m in \u001b[0;36m<module>\u001b[0;34m\u001b[0m\n\u001b[1;32m      2\u001b[0m \u001b[0;31m# Licensed under the BSD 3-clause license (see LICENSE.txt)\u001b[0m\u001b[0;34m\u001b[0m\u001b[0;34m\u001b[0m\u001b[0;34m\u001b[0m\u001b[0m\n\u001b[1;32m      3\u001b[0m \u001b[0;34m\u001b[0m\u001b[0m\n\u001b[0;32m----> 4\u001b[0;31m \u001b[0;32mimport\u001b[0m \u001b[0mGPyOpt\u001b[0m\u001b[0;34m\u001b[0m\u001b[0;34m\u001b[0m\u001b[0m\n\u001b[0m\u001b[1;32m      5\u001b[0m \u001b[0;32mimport\u001b[0m \u001b[0mcollections\u001b[0m\u001b[0;34m\u001b[0m\u001b[0;34m\u001b[0m\u001b[0m\n\u001b[1;32m      6\u001b[0m \u001b[0;32mimport\u001b[0m \u001b[0mnumpy\u001b[0m \u001b[0;32mas\u001b[0m \u001b[0mnp\u001b[0m\u001b[0;34m\u001b[0m\u001b[0;34m\u001b[0m\u001b[0m\n",
      "\u001b[0;31mModuleNotFoundError\u001b[0m: No module named 'GPyOpt'"
     ]
    }
   ],
   "source": [
    "import core.GPyOpt\n",
    "from core.acquisition.Hybrid_continuous_KG_v2 import KG"
   ]
  },
  {
   "cell_type": "code",
   "execution_count": null,
   "metadata": {},
   "outputs": [],
   "source": []
  }
 ],
 "metadata": {
  "kernelspec": {
   "display_name": "Constrained-KG",
   "language": "python",
   "name": "constrained-kg"
  },
  "language_info": {
   "codemirror_mode": {
    "name": "ipython",
    "version": 3
   },
   "file_extension": ".py",
   "mimetype": "text/x-python",
   "name": "python",
   "nbconvert_exporter": "python",
   "pygments_lexer": "ipython3",
   "version": "3.6.11"
  }
 },
 "nbformat": 4,
 "nbformat_minor": 2
}
