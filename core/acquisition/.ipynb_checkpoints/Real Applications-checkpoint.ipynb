{
 "cells": [
  {
   "cell_type": "code",
   "execution_count": 4,
   "metadata": {},
   "outputs": [],
   "source": [
    "import gym\n",
    "import numpy as np\n",
    "class constrained_LunarLanderBenchmark():\n",
    "    def __init__(self, m_terrains, minimum_reward):\n",
    "        self.m_terrains = m_terrains\n",
    "        self.env  = gym.make('LunarLander-v2')\n",
    "        self.minimum_reward = minimum_reward\n",
    "        \n",
    "    def f(self,design_var):\n",
    "        \n",
    "        design_var = np.atleast_2d(design_var)\n",
    "        self.last_evaluated_design_var = design_var\n",
    "        \n",
    "        m=self.m_terrains\n",
    "        terrains = range(m)\n",
    "        \n",
    "        averaged_cum_reward_list = []\n",
    "        cum_reward_matrix = []\n",
    "        #iterate over all designs.\n",
    "        for xvar in design_var:\n",
    "            \n",
    "            #for each design, show m different terrains\n",
    "            cum_reward_list = []\n",
    "            for i_episode in range(m):\n",
    "                \n",
    "                env.seed(seed=terrains[i_episode]) #terrain landscape control\n",
    "                observation = env.reset()\n",
    "                cum_reward = 0\n",
    "                \n",
    "               \n",
    "                for t in range(100):\n",
    "                    \n",
    "#                     env.render()\n",
    "                    action = self.heuristic_Controller(observation, xvar) #controller\n",
    "                    observation, reward, done, info = env.step(action) #obervation from environment\n",
    "                    cum_reward += reward\n",
    "                    \n",
    "                    if done:\n",
    "#                         print(\"Episode finished after {} timesteps\".format(t+1))\n",
    "                        break\n",
    "                \n",
    "                \n",
    "                cum_reward_list.append(cum_reward)\n",
    "                \n",
    "            env.close()\n",
    "            \n",
    "            cum_reward_matrix.append(cum_reward_list) \n",
    "            averaged_cum_reward = np.mean(cum_reward_list)\n",
    "            averaged_cum_reward_list.append(averaged_cum_reward)\n",
    "            \n",
    "        self.cum_reward_matrix= cum_reward_matrix\n",
    "        return averaged_cum_reward_list\n",
    "        \n",
    "    def c(self,design_var):\n",
    "        \n",
    "        if np.product(design_var == self.last_evaluated_design_var):\n",
    "            \n",
    "            return np.array(self.cum_reward_matrix) - self.minimum_reward\n",
    "        \n",
    "        else:\n",
    "          \n",
    "            self.f(design_var)\n",
    "            return np.array(self.cum_reward_matrix) - self.minimum_reward\n",
    "        \n",
    "    def heuristic_Controller(self,s, w):\n",
    "        angle_targ = s[0] * w[0] + s[2] * w[1]\n",
    "        if angle_targ > w[2]:\n",
    "            angle_targ = w[2]\n",
    "        if angle_targ < -w[2]:\n",
    "            angle_targ = -w[2]\n",
    "        hover_targ = w[3] * np.abs(s[0])\n",
    "\n",
    "        angle_todo = (angle_targ - s[4]) * w[4] - (s[5]) * w[5]\n",
    "        hover_todo = (hover_targ - s[1]) * w[6] - (s[3]) * w[7]\n",
    "\n",
    "        if s[6] or s[7]:\n",
    "            angle_todo = w[8]\n",
    "            hover_todo = -(s[3]) * w[9]\n",
    "\n",
    "        a = 0\n",
    "        if hover_todo > np.abs(angle_todo) and hover_todo > w[10]:\n",
    "            a = 2\n",
    "        elif angle_todo < -w[11]:\n",
    "            a = 3\n",
    "        elif angle_todo > +w[11]:\n",
    "            a = 1\n",
    "        return a"
   ]
  },
  {
   "cell_type": "code",
   "execution_count": 9,
   "metadata": {},
   "outputs": [
    {
     "name": "stdout",
     "output_type": "stream",
     "text": [
      "warning in stationary: failed to import cython module: falling back to numpy\n"
     ]
    },
    {
     "ename": "ModuleNotFoundError",
     "evalue": "No module named 'torch'",
     "output_type": "error",
     "traceback": [
      "\u001b[0;31m---------------------------------------------------------------------------\u001b[0m",
      "\u001b[0;31mModuleNotFoundError\u001b[0m                       Traceback (most recent call last)",
      "\u001b[0;32m/tmp/ipykernel_666094/2027000254.py\u001b[0m in \u001b[0;36m<module>\u001b[0;34m\u001b[0m\n\u001b[1;32m      1\u001b[0m \u001b[0;32mfrom\u001b[0m \u001b[0mReal_Experiments\u001b[0m\u001b[0;34m.\u001b[0m\u001b[0mLunarLander\u001b[0m\u001b[0;34m.\u001b[0m\u001b[0mreal_functions_caller\u001b[0m \u001b[0;32mimport\u001b[0m \u001b[0mconstrained_LunarLanderBenchmark\u001b[0m\u001b[0;34m\u001b[0m\u001b[0;34m\u001b[0m\u001b[0m\n\u001b[1;32m      2\u001b[0m \u001b[0;32mimport\u001b[0m \u001b[0mGPy\u001b[0m \u001b[0;32mas\u001b[0m \u001b[0mGPy\u001b[0m\u001b[0;34m\u001b[0m\u001b[0;34m\u001b[0m\u001b[0m\n\u001b[0;32m----> 3\u001b[0;31m \u001b[0;32mfrom\u001b[0m \u001b[0mmulti_objective\u001b[0m \u001b[0;32mimport\u001b[0m \u001b[0mMultiObjective\u001b[0m\u001b[0;34m\u001b[0m\u001b[0;34m\u001b[0m\u001b[0m\n\u001b[0m\u001b[1;32m      4\u001b[0m \u001b[0;32mfrom\u001b[0m \u001b[0mmulti_outputGP\u001b[0m \u001b[0;32mimport\u001b[0m \u001b[0mmulti_outputGP\u001b[0m\u001b[0;34m\u001b[0m\u001b[0;34m\u001b[0m\u001b[0m\n",
      "\u001b[0;32m~/Documents/Github_repos/Constrained-KG/core/acquisition/multi_objective.py\u001b[0m in \u001b[0;36m<module>\u001b[0;34m\u001b[0m\n\u001b[1;32m      6\u001b[0m \u001b[0;31m#from ...util.general import get_d_moments\u001b[0m\u001b[0;34m\u001b[0m\u001b[0;34m\u001b[0m\u001b[0;34m\u001b[0m\u001b[0m\n\u001b[1;32m      7\u001b[0m \u001b[0;31m#import GPy\u001b[0m\u001b[0;34m\u001b[0m\u001b[0;34m\u001b[0m\u001b[0;34m\u001b[0m\u001b[0m\n\u001b[0;32m----> 8\u001b[0;31m \u001b[0;32mimport\u001b[0m \u001b[0mGPyOpt\u001b[0m\u001b[0;34m\u001b[0m\u001b[0;34m\u001b[0m\u001b[0m\n\u001b[0m\u001b[1;32m      9\u001b[0m \u001b[0;32mfrom\u001b[0m \u001b[0mGPyOpt\u001b[0m\u001b[0;34m.\u001b[0m\u001b[0mcore\u001b[0m\u001b[0;34m.\u001b[0m\u001b[0mtask\u001b[0m\u001b[0;34m.\u001b[0m\u001b[0mobjective\u001b[0m \u001b[0;32mimport\u001b[0m \u001b[0mObjective\u001b[0m\u001b[0;34m\u001b[0m\u001b[0;34m\u001b[0m\u001b[0m\n\u001b[1;32m     10\u001b[0m \u001b[0;34m\u001b[0m\u001b[0m\n",
      "\u001b[0;32m~/Documents/Github_repos/Constrained-KG/core/acquisition/GPyOpt/__init__.py\u001b[0m in \u001b[0;36m<module>\u001b[0;34m\u001b[0m\n\u001b[1;32m     14\u001b[0m \u001b[0;32mfrom\u001b[0m \u001b[0;34m.\u001b[0m \u001b[0;32mimport\u001b[0m \u001b[0macquisitions\u001b[0m\u001b[0;34m\u001b[0m\u001b[0;34m\u001b[0m\u001b[0m\n\u001b[1;32m     15\u001b[0m \u001b[0;32mfrom\u001b[0m \u001b[0;34m.\u001b[0m \u001b[0;32mimport\u001b[0m \u001b[0moptimization\u001b[0m\u001b[0;34m\u001b[0m\u001b[0;34m\u001b[0m\u001b[0m\n\u001b[0;32m---> 16\u001b[0;31m \u001b[0;32mfrom\u001b[0m \u001b[0;34m.\u001b[0m \u001b[0;32mimport\u001b[0m \u001b[0mobjective_examples\u001b[0m\u001b[0;34m\u001b[0m\u001b[0;34m\u001b[0m\u001b[0m\n\u001b[0m\u001b[1;32m     17\u001b[0m \u001b[0;32mfrom\u001b[0m \u001b[0;34m.\u001b[0m \u001b[0;32mimport\u001b[0m \u001b[0mobjective_examples\u001b[0m \u001b[0;32mas\u001b[0m \u001b[0mfmodels\u001b[0m\u001b[0;34m\u001b[0m\u001b[0;34m\u001b[0m\u001b[0m\n\u001b[1;32m     18\u001b[0m \u001b[0;32mfrom\u001b[0m \u001b[0;34m.\u001b[0m \u001b[0;32mimport\u001b[0m \u001b[0mDM\u001b[0m\u001b[0;34m\u001b[0m\u001b[0;34m\u001b[0m\u001b[0m\n",
      "\u001b[0;32m~/Documents/Github_repos/Constrained-KG/core/acquisition/GPyOpt/objective_examples/__init__.py\u001b[0m in \u001b[0;36m<module>\u001b[0;34m\u001b[0m\n\u001b[1;32m      3\u001b[0m \u001b[0;34m\u001b[0m\u001b[0m\n\u001b[1;32m      4\u001b[0m \u001b[0;32mfrom\u001b[0m \u001b[0;34m.\u001b[0m \u001b[0;32mimport\u001b[0m \u001b[0mexperiments1d\u001b[0m\u001b[0;34m\u001b[0m\u001b[0;34m\u001b[0m\u001b[0m\n\u001b[0;32m----> 5\u001b[0;31m \u001b[0;32mfrom\u001b[0m \u001b[0;34m.\u001b[0m \u001b[0;32mimport\u001b[0m \u001b[0mexperiments2d\u001b[0m\u001b[0;34m\u001b[0m\u001b[0;34m\u001b[0m\u001b[0m\n\u001b[0m\u001b[1;32m      6\u001b[0m \u001b[0;32mfrom\u001b[0m \u001b[0;34m.\u001b[0m \u001b[0;32mimport\u001b[0m \u001b[0mexperimentsNd\u001b[0m\u001b[0;34m\u001b[0m\u001b[0;34m\u001b[0m\u001b[0m\n",
      "\u001b[0;32m~/Documents/Github_repos/Constrained-KG/core/acquisition/GPyOpt/objective_examples/experiments2d.py\u001b[0m in \u001b[0;36m<module>\u001b[0;34m\u001b[0m\n\u001b[1;32m     10\u001b[0m \u001b[0;32mimport\u001b[0m \u001b[0mnumpy\u001b[0m \u001b[0;32mas\u001b[0m \u001b[0mnp\u001b[0m\u001b[0;34m\u001b[0m\u001b[0;34m\u001b[0m\u001b[0m\n\u001b[1;32m     11\u001b[0m \u001b[0;32mfrom\u001b[0m \u001b[0;34m.\u001b[0m\u001b[0;34m.\u001b[0m\u001b[0mutil\u001b[0m\u001b[0;34m.\u001b[0m\u001b[0mgeneral\u001b[0m \u001b[0;32mimport\u001b[0m \u001b[0mreshape\u001b[0m\u001b[0;34m\u001b[0m\u001b[0;34m\u001b[0m\u001b[0m\n\u001b[0;32m---> 12\u001b[0;31m \u001b[0;32mimport\u001b[0m \u001b[0mtorch\u001b[0m\u001b[0;34m\u001b[0m\u001b[0;34m\u001b[0m\u001b[0m\n\u001b[0m\u001b[1;32m     13\u001b[0m \u001b[0;32mimport\u001b[0m \u001b[0mmath\u001b[0m\u001b[0;34m\u001b[0m\u001b[0;34m\u001b[0m\u001b[0m\n\u001b[1;32m     14\u001b[0m \u001b[0;34m\u001b[0m\u001b[0m\n",
      "\u001b[0;31mModuleNotFoundError\u001b[0m: No module named 'torch'"
     ]
    }
   ],
   "source": [
    "from Real_Experiments.LunarLander.real_functions_caller import constrained_LunarLanderBenchmark\n",
    "import GPy as GPy\n",
    "from multi_objective import MultiObjective\n",
    "from multi_outputGP import multi_outputGP"
   ]
  },
  {
   "cell_type": "code",
   "execution_count": null,
   "metadata": {},
   "outputs": [],
   "source": []
  }
 ],
 "metadata": {
  "kernelspec": {
   "display_name": "moonrover",
   "language": "python",
   "name": "moonrover"
  },
  "language_info": {
   "codemirror_mode": {
    "name": "ipython",
    "version": 3
   },
   "file_extension": ".py",
   "mimetype": "text/x-python",
   "name": "python",
   "nbconvert_exporter": "python",
   "pygments_lexer": "ipython3",
   "version": "3.9.6"
  }
 },
 "nbformat": 4,
 "nbformat_minor": 4
}
