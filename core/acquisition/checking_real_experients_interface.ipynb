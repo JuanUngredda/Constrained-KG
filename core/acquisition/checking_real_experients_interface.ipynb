{
 "cells": [
  {
   "cell_type": "code",
   "execution_count": 1,
   "metadata": {},
   "outputs": [
    {
     "name": "stdout",
     "output_type": "stream",
     "text": [
      "3.6.9 (default, Apr 18 2020, 01:56:04) \n",
      "[GCC 8.4.0]\n"
     ]
    }
   ],
   "source": [
    "import sys\n",
    "print(sys.version)\n",
    "import os\n",
    "import numpy as np\n",
    "import matlab.engine\n",
    "import matlab"
   ]
  },
  {
   "cell_type": "code",
   "execution_count": 2,
   "metadata": {},
   "outputs": [
    {
     "data": {
      "text/plain": [
       "'/home/juan/Documents/PhD/GitHub_Reps/Constrained-KG/core/acquisition'"
      ]
     },
     "execution_count": 2,
     "metadata": {},
     "output_type": "execute_result"
    }
   ],
   "source": [
    "os.getcwd()"
   ]
  },
  {
   "cell_type": "code",
   "execution_count": 9,
   "metadata": {},
   "outputs": [],
   "source": [
    "import time\n",
    "class RMITD():\n",
    "    '''\n",
    "    Six hump camel function\n",
    "\n",
    "    :param bounds: the box constraints to define the domain in which the function is optimized.\n",
    "    :param sd: standard deviation, to generate noisy evaluations of the function.\n",
    "    '''\n",
    "\n",
    "    def __init__(self, bounds=None, sd=None):\n",
    "        self.input_dim = 4\n",
    "        if bounds is None:\n",
    "            self.bounds = [(0, 150), (0, 150), (0,150), (0,150)]\n",
    "        else:\n",
    "            self.bounds = bounds\n",
    "        self.min = np.nan\n",
    "        self.fmin = np.nan\n",
    "        self.sd = sd\n",
    "        self.name = 'RMITD'\n",
    "        self.simulation_run = 10000.0\n",
    "        \n",
    "        \n",
    "        self.eng = matlab.engine.start_matlab()\n",
    "        \n",
    "        path = \"/home/juan/Documents/PhD/GitHub_Reps/Constrained-KG/core/acquisition/Real_Experiments/RMITD\"\n",
    "        os.chdir(path)\n",
    "        \n",
    "\n",
    "    def f(self, x, offset=0, true_val=False):\n",
    "        if len(x.shape) == 1:\n",
    "            x = x.reshape(1, -1)\n",
    "        \n",
    "        out_vals = []\n",
    "        for i in range(x.shape[0]):\n",
    "            x_i = np.array(x[i]).reshape(-1)\n",
    "            x_i = list(x_i)\n",
    "  \n",
    "            input_value = matlab.double(x_i)[0]\n",
    "            seed = int(time.time())*1.0\n",
    "            \n",
    "            if true_val:\n",
    "                reps = []\n",
    "                for i in range(50):\n",
    "                    seed = int(time.time())*1.0\n",
    "                    out = self.eng.RMITD(input_value, self.simulation_run, seed,False)\n",
    "                    reps.append(out)\n",
    "                print(\"mean\", np.mean(reps))\n",
    "                print(\"std\", np.std(reps))\n",
    "                print(\"MSE\", np.std(reps)/np.sqrt(len(reps)))\n",
    "                out_vals.append(np.mean(reps))   \n",
    "            else:   \n",
    "                fn = self.eng.RMITD(input_value, self.simulation_run, seed, False)\n",
    "                out_vals.append(fn)\n",
    "                \n",
    "        out_vals = np.array(out_vals).reshape(-1)\n",
    "        out_vals = out_vals.reshape(-1,1)\n",
    "\n",
    "        return out_vals\n",
    "    \n",
    "    def c(self, x,  true_val=False):\n",
    "        if len(x.shape) == 1:\n",
    "            x = x.reshape(1, -1)\n",
    "        b = x[:,0]\n",
    "        r = x[:,1:]\n",
    "        \n",
    "        constraint = np.sum(r,axis=1) - b\n",
    "        constraint = np.array(constraint).reshape(-1)\n",
    "        return constraint.reshape(-1,1)\n",
    "\n",
    "    def func_val(self, x):\n",
    "        Y = self.f(x, true_val=True)\n",
    "        C = self.c(x)\n",
    "        out = Y * (C <= 0)\n",
    "        out = np.array(out).reshape(-1)\n",
    "        return -out"
   ]
  },
  {
   "cell_type": "code",
   "execution_count": 6,
   "metadata": {},
   "outputs": [
    {
     "name": "stdout",
     "output_type": "stream",
     "text": [
      "input_value, self.simulation_run, seed [100.0,50.0,20.0,30.0] 10000.0 1591568861.0\n"
     ]
    },
    {
     "data": {
      "text/plain": [
       "array([[3281.06890681]])"
      ]
     },
     "execution_count": 6,
     "metadata": {},
     "output_type": "execute_result"
    }
   ],
   "source": [
    "fun = RMITD()\n",
    "x = np.array([100.0, 50.0, 20.0, 30.0])\n",
    "x = np.ones((1,4))*x\n",
    "fun.f(x)"
   ]
  },
  {
   "cell_type": "code",
   "execution_count": 10,
   "metadata": {},
   "outputs": [
    {
     "name": "stdout",
     "output_type": "stream",
     "text": [
      "mean 3279.363863510703\n",
      "std 2.3088417960079677\n",
      "MSE 0.3265195381288323\n"
     ]
    },
    {
     "data": {
      "text/plain": [
       "array([-3279.36386351])"
      ]
     },
     "execution_count": 10,
     "metadata": {},
     "output_type": "execute_result"
    }
   ],
   "source": [
    "fun = RMITD()\n",
    "x = np.array([100.0, 50.0, 20.0, 30.0])\n",
    "x = np.ones((1,4))*x\n",
    "fun.func_val(x)"
   ]
  },
  {
   "cell_type": "code",
   "execution_count": null,
   "metadata": {},
   "outputs": [],
   "source": [
    "import matplotlib.pyplot as plt\n",
    "plt.hist(np.array(reps).reshape(-1))"
   ]
  },
  {
   "cell_type": "code",
   "execution_count": 11,
   "metadata": {},
   "outputs": [
    {
     "data": {
      "text/plain": [
       "5.289999999999999"
      ]
     },
     "execution_count": 11,
     "metadata": {},
     "output_type": "execute_result"
    }
   ],
   "source": [
    "2.3**2"
   ]
  },
  {
   "cell_type": "code",
   "execution_count": null,
   "metadata": {},
   "outputs": [],
   "source": [
    "np.mean(reps)"
   ]
  },
  {
   "cell_type": "code",
   "execution_count": null,
   "metadata": {},
   "outputs": [],
   "source": [
    "np.std(reps)/np.sqrt(len(reps))"
   ]
  },
  {
   "cell_type": "code",
   "execution_count": null,
   "metadata": {},
   "outputs": [],
   "source": [
    "1-5\n",
    "2-10\n",
    "4-25"
   ]
  }
 ],
 "metadata": {
  "kernelspec": {
   "display_name": "Python 3",
   "language": "python",
   "name": "python3"
  },
  "language_info": {
   "codemirror_mode": {
    "name": "ipython",
    "version": 3
   },
   "file_extension": ".py",
   "mimetype": "text/x-python",
   "name": "python",
   "nbconvert_exporter": "python",
   "pygments_lexer": "ipython3",
   "version": "3.6.9"
  }
 },
 "nbformat": 4,
 "nbformat_minor": 4
}
