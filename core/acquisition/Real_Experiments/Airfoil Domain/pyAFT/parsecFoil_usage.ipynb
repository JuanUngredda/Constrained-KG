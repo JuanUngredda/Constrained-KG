{
 "cells": [
  {
   "cell_type": "code",
   "execution_count": 140,
   "metadata": {},
   "outputs": [
    {
     "name": "stdout",
     "output_type": "stream",
     "text": [
      "The autoreload extension is already loaded. To reload it, use:\n",
      "  %reload_ext autoreload\n"
     ]
    }
   ],
   "source": [
    "%matplotlib inline\n",
    "%load_ext autoreload\n",
    "%autoreload 2\n",
    "from IPython.display import clear_output\n",
    "from matplotlib import pyplot as plt\n",
    "import numpy as np\n",
    "np.set_printoptions(precision=2) \n",
    "np.set_printoptions(linewidth=160)"
   ]
  },
  {
   "cell_type": "code",
   "execution_count": 159,
   "metadata": {},
   "outputs": [],
   "source": [
    "import parsec as prs\n",
    "from foil_eval import *"
   ]
  },
  {
   "cell_type": "code",
   "execution_count": 160,
   "metadata": {},
   "outputs": [],
   "source": [
    "p = np.ones(10)*0.5"
   ]
  },
  {
   "cell_type": "code",
   "execution_count": 198,
   "metadata": {},
   "outputs": [
    {
     "data": {
      "image/png": "[encoded data removed]",
      "text/plain": [
       "<Figure size 432x288 with 1 Axes>"
      ]
     },
     "metadata": {
      "needs_background": "light"
     },
     "output_type": "display_data"
    }
   ],
   "source": [
    "foil = prs.Airfoil()\n",
    "coord = foil.express()\n",
    "rae = np.loadtxt('RAE2822.csv',delimiter=',').T\n",
    "fig, ax = plt.subplots()\n",
    "ax.plot(rae[0,:],rae[1,:],'k.',label='Reference')\n",
    "ax.plot(coord[0,:], coord[1,:],'b.',label='Python')\n",
    "ax.legend()\n",
    "coord = foil.express()\n",
    "\n",
    "#ax.axis([0, 1, -0.07, 0.07])\n",
    "#plt.show()"
   ]
  },
  {
   "cell_type": "code",
   "execution_count": 166,
   "metadata": {},
   "outputs": [
    {
     "name": "stdout",
     "output_type": "stream",
     "text": [
      "(4.636660853079462, array([0.59, 0.08]))\n",
      "*| Xfoil did not converge\n",
      "(nan, array([ nan, 0.08]))\n"
     ]
    }
   ],
   "source": [
    "print(evalFoil(rae))\n",
    "print(evalFoil(coord))"
   ]
  },
  {
   "cell_type": "code",
   "execution_count": 199,
   "metadata": {},
   "outputs": [
    {
     "name": "stdout",
     "output_type": "stream",
     "text": [
      "4.691817992713764\n",
      "4.358310108056566\n",
      "4.613202357685355\n",
      "*| Xfoil did not converge\n",
      "nan\n",
      "4.426187530459651\n",
      "3.409733712684442\n",
      "4.354411467640908\n",
      "4.7878918228033855\n",
      "*| Xfoil did not converge\n",
      "nan\n",
      "4.518992489747039\n",
      "3.6936910111111585\n",
      "4.8024023555178\n",
      "4.285262966241573\n",
      "4.262289953071548\n",
      "4.85491441909948\n",
      "4.712755396668029\n",
      "4.651214124489498\n",
      "4.130179015231317\n",
      "4.683131727457804\n",
      "4.6356293934728\n"
     ]
    }
   ],
   "source": [
    "np.random.seed(0)\n",
    "for i in range(20):\n",
    "    p = np.random.rand((10))\n",
    "    new_coord = foil.express(params=p)\n",
    "    fit, behavior = evalFoil(new_coord)\n",
    "    print(fit)   "
   ]
  },
  {
   "cell_type": "code",
   "execution_count": null,
   "metadata": {},
   "outputs": [],
   "source": []
  },
  {
   "cell_type": "code",
   "execution_count": null,
   "metadata": {},
   "outputs": [],
   "source": []
  }
 ],
 "metadata": {
  "kernelspec": {
   "display_name": "Python 3",
   "language": "python",
   "name": "python3"
  },
  "language_info": {
   "codemirror_mode": {
    "name": "ipython",
    "version": 3
   },
   "file_extension": ".py",
   "mimetype": "text/x-python",
   "name": "python",
   "nbconvert_exporter": "python",
   "pygments_lexer": "ipython3",
   "version": "3.8.5"
  }
 },
 "nbformat": 4,
 "nbformat_minor": 4
}
