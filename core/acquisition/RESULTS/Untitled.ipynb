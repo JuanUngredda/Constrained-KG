{
 "cells": [
  {
   "cell_type": "code",
   "execution_count": 1,
   "metadata": {},
   "outputs": [],
   "source": [
    "import numpy as np\n",
    "import pandas as pd\n",
    "import sys\n",
    "import os\n",
    "import matplotlib.pyplot as plt"
   ]
  },
  {
   "cell_type": "markdown",
   "metadata": {},
   "source": [
    "## Mistery Function"
   ]
  },
  {
   "cell_type": "code",
   "execution_count": 25,
   "metadata": {},
   "outputs": [],
   "source": [
    "def f( x, offset=-40, sd =0):\n",
    "    # print(\"x\",x)\n",
    "    n = x.shape[0]\n",
    "    x1 = x[:, 0]\n",
    "    x2 = x[:, 1]\n",
    "    term1 = 2\n",
    "    term2 = 0.01*(x2-x1**2.0)**2.0\n",
    "    term3 = (1 -  x1 )** 2\n",
    "    term4 = 2*(2-x2)**2\n",
    "    term5 = 7*np.sin(0.5*x1)*np.sin(0.7*x1*x2)\n",
    "    fval = term1 + term2 + term3 +term4 +term5\n",
    "    if sd == 0:\n",
    "        noise = np.zeros(n).reshape(n, 1)\n",
    "    else:\n",
    "        noise = np.random.normal(0, sd, n).reshape(n, 1)\n",
    "    # print(\"fval\",-fval.reshape(-1, 1) + noise.reshape(-1, 1))\n",
    "    return -(fval.reshape(n,1) + offset)+ noise.reshape(-1, 1)"
   ]
  },
  {
   "cell_type": "code",
   "execution_count": 50,
   "metadata": {},
   "outputs": [],
   "source": [
    "\n",
    "X = np.random.random((10000,2))*5\n"
   ]
  },
  {
   "cell_type": "code",
   "execution_count": 51,
   "metadata": {},
   "outputs": [],
   "source": [
    "path = \"/home/juan/Documents/PhD/GitHub_Reps/Constrained-KG/core/acquisition/RESULTS/Mistery_bnch/\"\n",
    "files = os.listdir(path)\n",
    "\n",
    "best_value = np.max(f(X))\n",
    "results_1 =[]\n",
    "for i in range(len(files)):\n",
    "    data = pd.read_csv(path+files[i])\n",
    "    results_1.append(best_value - data.values)\n",
    "    \n",
    "mean_values = np.mean(results_1,axis=0)\n",
    "std_values = np.std(results_1,axis=0)\n",
    "MSE = 1.95*std_values/np.sqrt(len(files))"
   ]
  },
  {
   "cell_type": "code",
   "execution_count": 54,
   "metadata": {},
   "outputs": [
    {
     "data": {
      "text/plain": [
       "array([[ 4.14530509e+01,  2.59524662e+00],\n",
       "       [ 4.04530509e+01,  1.89602442e+00],\n",
       "       [ 3.94530509e+01,  1.50205755e+00],\n",
       "       [ 3.84530509e+01,  1.06280941e+00],\n",
       "       [ 3.74530509e+01,  8.62420944e-01],\n",
       "       [ 3.64530509e+01,  6.66178370e-01],\n",
       "       [ 3.54530509e+01,  5.65117053e-01],\n",
       "       [ 3.44530509e+01,  4.79520967e-01],\n",
       "       [ 3.34530509e+01,  3.68377178e-01],\n",
       "       [ 3.24530509e+01,  1.51642590e-01],\n",
       "       [ 3.14530509e+01,  9.57779425e-02],\n",
       "       [ 3.04530509e+01,  6.37010682e-02],\n",
       "       [ 2.94530509e+01,  8.99229933e-03],\n",
       "       [ 2.84530509e+01, -2.12112898e-02],\n",
       "       [ 2.74530509e+01, -3.78134299e-02],\n",
       "       [ 2.64530509e+01, -5.50096957e-02],\n",
       "       [ 2.54530509e+01, -3.48902094e-02],\n",
       "       [ 2.44530509e+01, -4.74619189e-02],\n",
       "       [ 2.34530509e+01,  1.69671486e-02],\n",
       "       [ 2.24530509e+01,  1.42777776e-02],\n",
       "       [ 2.14530509e+01,  1.40951258e-02],\n",
       "       [ 2.04530509e+01,  1.40951443e-02],\n",
       "       [ 1.94530509e+01,  1.19125582e-02],\n",
       "       [ 1.84530509e+01,  1.13009144e-02],\n",
       "       [ 1.74530509e+01,  8.74613297e-03],\n",
       "       [ 1.64530509e+01,  7.99641985e-03],\n",
       "       [ 1.54530509e+01,  8.07006269e-03],\n",
       "       [ 1.44530509e+01,  8.07012495e-03],\n",
       "       [ 1.34530509e+01,  7.86133282e-03],\n",
       "       [ 1.24530509e+01,  5.95612416e-03],\n",
       "       [ 1.14530509e+01,  5.66928696e-03],\n",
       "       [ 1.04530509e+01,  4.52632198e-03],\n",
       "       [ 9.45305087e+00,  4.51641218e-03],\n",
       "       [ 8.45305087e+00,  3.72107945e-03],\n",
       "       [ 7.45305087e+00,  3.35803059e-03],\n",
       "       [ 6.45305087e+00,  3.35797178e-03],\n",
       "       [ 5.45305087e+00,  3.35797178e-03],\n",
       "       [ 4.45305087e+00,  2.91240974e-03],\n",
       "       [ 3.45305087e+00,  2.24049281e-03],\n",
       "       [ 2.45305087e+00,  2.24056094e-03],\n",
       "       [ 1.45305087e+00,  2.21753351e-03],\n",
       "       [ 4.53050869e-01,  2.21185318e-03],\n",
       "       [-5.46949131e-01,  1.79382564e-03],\n",
       "       [-1.54694913e+00,  1.79387439e-03],\n",
       "       [-2.54694913e+00,  1.79387439e-03]])"
      ]
     },
     "execution_count": 54,
     "metadata": {},
     "output_type": "execute_result"
    }
   ],
   "source": [
    "mean_values - MSE"
   ]
  },
  {
   "cell_type": "code",
   "execution_count": 52,
   "metadata": {},
   "outputs": [
    {
     "data": {
      "image/png": "[encoded data removed]",
      "text/plain": [
       "<matplotlib.figure.Figure at 0x7fd381267590>"
      ]
     },
     "metadata": {},
     "output_type": "display_data"
    }
   ],
   "source": [
    "plt.plot(mean_values[:,1])\n",
    "plt.plot(mean_values[:,1]+MSE[:,1])\n",
    "plt.plot(mean_values[:,1]-MSE[:,1])\n",
    "plt.yscale(\"log\")"
   ]
  },
  {
   "cell_type": "code",
   "execution_count": null,
   "metadata": {},
   "outputs": [],
   "source": []
  }
 ],
 "metadata": {
  "kernelspec": {
   "display_name": "Python 2",
   "language": "python",
   "name": "python2"
  },
  "language_info": {
   "codemirror_mode": {
    "name": "ipython",
    "version": 2
   },
   "file_extension": ".py",
   "mimetype": "text/x-python",
   "name": "python",
   "nbconvert_exporter": "python",
   "pygments_lexer": "ipython2",
   "version": "2.7.15+"
  }
 },
 "nbformat": 4,
 "nbformat_minor": 2
}
