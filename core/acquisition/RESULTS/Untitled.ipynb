{
 "cells": [
  {
   "cell_type": "code",
   "execution_count": 1,
   "metadata": {},
   "outputs": [],
   "source": [
    "import numpy as np\n",
    "import pandas as pd\n",
    "import sys\n",
    "import os\n",
    "import matplotlib.pyplot as plt"
   ]
  },
  {
   "cell_type": "markdown",
   "metadata": {},
   "source": [
    "## Mistery Function"
   ]
  },
  {
   "cell_type": "code",
   "execution_count": 95,
   "metadata": {},
   "outputs": [
    {
     "name": "stdout",
     "output_type": "stream",
     "text": [
      "best_value  final_simplex: (array([[2.74482219, 2.35212311],\n",
      "       [2.74482219, 2.35212311],\n",
      "       [2.7448222 , 2.35212311]]), array([-41.17427357, -41.17427357, -41.17427357]))\n",
      "           fun: -41.17427357117175\n",
      "       message: 'Optimization terminated successfully.'\n",
      "          nfev: 188\n",
      "           nit: 97\n",
      "        status: 0\n",
      "       success: True\n",
      "             x: array([2.74482219, 2.35212311])\n"
     ]
    }
   ],
   "source": [
    "class mistery():\n",
    "    '''\n",
    "    Six hump camel function\n",
    "\n",
    "    :param bounds: the box constraints to define the domain in which the function is optimized.\n",
    "    :param sd: standard deviation, to generate noisy evaluations of the function.\n",
    "    '''\n",
    "\n",
    "    def __init__(self, bounds=None, sd=None):\n",
    "        self.input_dim = 2\n",
    "        if bounds is None:\n",
    "            self.bounds = [(0, 5), (0, 5)]\n",
    "        else:\n",
    "            self.bounds = bounds\n",
    "        self.min = [(2.7450, 2.3523)]\n",
    "        self.fmin = 1.1743\n",
    "        self.sd = sd\n",
    "        self.name = 'Mistery'\n",
    "\n",
    "    def f(self, x, offset=-40):\n",
    "        if len(x.shape)==1:\n",
    "            x = x.reshape(1,-1)\n",
    "        n = x.shape[0]\n",
    "        x1 = x[:, 0]\n",
    "        x2 = x[:, 1]\n",
    "        term1 = 2\n",
    "        term2 = 0.01*(x2 - x1**2.0)**2.0\n",
    "        term3 = (1 -  x1 )** 2\n",
    "        term4 = 2*(2-x2)**2\n",
    "        term5 = 7*np.sin(0.5*x1)*np.sin(0.7*x1*x2)\n",
    "        fval = term1 + term2 + term3 +term4 +term5\n",
    "        if self.sd == 0:\n",
    "            noise = np.zeros(n).reshape(n, 1)\n",
    "        else:\n",
    "            noise = np.random.normal(0, self.sd, n).reshape(n, 1)\n",
    "        # print(\"fval\",-fval.reshape(-1, 1) + noise.reshape(-1, 1))\n",
    "        return -(fval.reshape(n,1) + offset)+ noise.reshape(-1, 1)\n",
    "\n",
    "    def c(self, x):\n",
    "        if len(x.shape)==1:\n",
    "            x = x.reshape(1,-1)\n",
    "        n = x.shape[0]\n",
    "        x1 = x[:, 0]\n",
    "        x2 = x[:, 1]\n",
    "        fval = -np.sin(x1 - x2 -np.pi/8.0)\n",
    "        # print(\"fval\",-fval.reshape(-1, 1))\n",
    "        return fval.reshape(n,1)\n",
    "    \n",
    "    def func_val(self,x):\n",
    "        Y = self.f(x)\n",
    "        C = self.c(x)\n",
    "#         print(\"Y\", Y)\n",
    "#         print(\"C\",C)\n",
    "        out = Y*(C<0)\n",
    "        out = np.array(out).reshape(-1)\n",
    "#         print(out)\n",
    "        return -out\n",
    "\n",
    "\n",
    "X = np.random.random((100,2))*(np.array([[5,5]])-np.array([[0,0]])) + np.array([[0,0]])\n",
    "\n",
    "\n",
    "\n",
    "fval = mistery(sd=1e-12).func_val(X)\n",
    "# print(X)\n",
    "# print(\"fval\", fval)\n",
    "\n",
    "anchor_point = X[np.argmin(fval)]\n",
    "out = minimize(mistery(sd=1e-12).func_val , anchor_point, method='Nelder-Mead', tol=1e-8)\n",
    "best_value = out.fun\n",
    "print(\"best_value\",out)"
   ]
  },
  {
   "cell_type": "code",
   "execution_count": 104,
   "metadata": {},
   "outputs": [
    {
     "name": "stdout",
     "output_type": "stream",
     "text": [
      "[-41.17427356]\n"
     ]
    }
   ],
   "source": [
    "x = np.array([2.74482219, 2.35212310])\n",
    "print(mistery(sd=1e-12).func_val(x))"
   ]
  },
  {
   "cell_type": "code",
   "execution_count": 81,
   "metadata": {},
   "outputs": [],
   "source": [
    "path = \"/home/juan/Documents/PhD/GitHub_Reps/Constrained-KG/core/acquisition/RESULTS/Mistery_bnch/\"\n",
    "files = os.listdir(path)\n",
    "\n",
    "#best_value = np.max(f(X))\n",
    "results_1 =[]\n",
    "for i in range(len(files)):\n",
    "    data = pd.read_csv(path+files[i])\n",
    "    cum_val = []\n",
    "    for i in range(data.values.shape[0]):\n",
    "        cum_val.append(np.max(data.values[:i+1,1]))\n",
    "    results_1.append(best_value - np.array(cum_val).reshape(-1))\n",
    "    \n",
    "mean_values_mistery_bnch = np.mean(results_1,axis=0)\n",
    "std_values = np.std(results_1,axis=0)\n",
    "MSE_mistery_bnch = 1.95*std_values/np.sqrt(len(files))\n"
   ]
  },
  {
   "cell_type": "code",
   "execution_count": 82,
   "metadata": {},
   "outputs": [
    {
     "data": {
      "image/png": "[encoded data removed]",
      "text/plain": [
       "<Figure size 432x288 with 1 Axes>"
      ]
     },
     "metadata": {
      "needs_background": "light"
     },
     "output_type": "display_data"
    }
   ],
   "source": [
    "plt.plot(mean_values_mistery_bnch)\n",
    "plt.plot(mean_values_mistery_bnch+MSE_mistery_bnch)\n",
    "plt.plot(mean_values_mistery_bnch-MSE_mistery_bnch)\n",
    "# plt.plot(P95)\n",
    "# plt.plot(P5)\n",
    "plt.yscale(\"log\")"
   ]
  },
  {
   "cell_type": "code",
   "execution_count": 83,
   "metadata": {},
   "outputs": [],
   "source": [
    "path = \"/home/juan/Documents/PhD/GitHub_Reps/Constrained-KG/core/acquisition/RESULTS/Mistery/\"\n",
    "files = os.listdir(path)\n",
    "\n",
    "\n",
    "results_1 =[]\n",
    "for i in range(len(files)):\n",
    "    data = pd.read_csv(path+files[i])\n",
    "    cum_val = []\n",
    "    for i in range(data.values.shape[0]):\n",
    "        cum_val.append(np.max(data.values[:i+1,1]))\n",
    "    results_1.append(best_value - np.array(cum_val).reshape(-1))\n",
    "    \n",
    "mean_values_mistery = np.mean(results_1,axis=0)\n",
    "std_values = np.std(results_1,axis=0)\n",
    "MSE_mistery = 1.95*std_values/np.sqrt(len(files))\n",
    "\n"
   ]
  },
  {
   "cell_type": "code",
   "execution_count": 88,
   "metadata": {},
   "outputs": [],
   "source": [
    "path = \"/home/juan/Documents/PhD/GitHub_Reps/Constrained-KG/core/acquisition/RESULTS/Mistery_gradients/\"\n",
    "files = os.listdir(path)\n",
    "\n",
    "\n",
    "results_1 =[]\n",
    "for i in range(len(files)):\n",
    "    data = pd.read_csv(path+files[i])\n",
    "    cum_val = []\n",
    "    for i in range(data.values.shape[0]):\n",
    "        cum_val.append(np.max(data[\"Opportunity_cost\"].values[:i+1]))\n",
    "    results_1.append(best_value  - np.array(cum_val).reshape(-1))\n",
    "    \n",
    "mean_values_mistery_grad = np.mean(results_1,axis=0)\n",
    "std_values_grad = np.std(results_1,axis=0)\n",
    "MSE_mistery_grad = 1.95*std_values_grad/np.sqrt(len(files))\n"
   ]
  },
  {
   "cell_type": "code",
   "execution_count": 89,
   "metadata": {},
   "outputs": [
    {
     "data": {
      "text/plain": [
       "array([41.17427433, 41.17427433, 41.17427433, 41.17427433, 41.17427433,\n",
       "       41.17427433, 41.17427433, 41.17427433, 41.17427433, 41.17427433,\n",
       "       17.68745737, 15.65466054, 14.42137685, 13.93358943, 13.60163037,\n",
       "       13.12005178, 12.88818544, 12.79615344, 12.67505642, 12.50606095,\n",
       "       12.49573245, 12.46286348, 12.43652985, 12.42305702, 12.41781164,\n",
       "       12.3962157 , 12.38597543, 12.38584005, 12.38522798, 12.36558802,\n",
       "       12.35982425, 12.35711441, 12.3566097 , 12.35645553, 12.35606868,\n",
       "       12.35577457, 12.35532112, 12.35484878, 12.35478546, 12.35477118,\n",
       "       12.35473712, 12.35472225, 12.35469546, 12.35464836, 12.35004036,\n",
       "       12.35001663, 12.34995148, 12.34994594, 12.34993456, 12.3499191 ,\n",
       "       12.34991111, 12.34965668, 12.34964012, 12.34962686, 12.34958452])"
      ]
     },
     "execution_count": 89,
     "metadata": {},
     "output_type": "execute_result"
    }
   ],
   "source": [
    "mean_values_mistery_grad "
   ]
  },
  {
   "cell_type": "markdown",
   "metadata": {},
   "source": [
    "# PLOTS"
   ]
  },
  {
   "cell_type": "code",
   "execution_count": 86,
   "metadata": {},
   "outputs": [
    {
     "data": {
      "image/png": "[encoded data removed]",
      "text/plain": [
       "<Figure size 432x288 with 1 Axes>"
      ]
     },
     "metadata": {
      "needs_background": "light"
     },
     "output_type": "display_data"
    }
   ],
   "source": [
    "plt.plot(mean_values_mistery_bnch, color=\"black\", label=\"c-EI\")\n",
    "plt.plot(mean_values_mistery_bnch+MSE_mistery_bnch, color=\"black\")\n",
    "plt.plot(mean_values_mistery_bnch-MSE_mistery_bnch, color=\"black\")\n",
    "\n",
    "plt.plot(mean_values_mistery, color=\"red\", label=\"c-KG\")\n",
    "plt.plot(mean_values_mistery+MSE_mistery, color = \"red\")\n",
    "plt.plot(mean_values_mistery-MSE_mistery, color = \"red\")\n",
    "\n",
    "plt.plot(mean_values_mistery_grad, color=\"blue\", label=\"c-KG\")\n",
    "plt.plot(mean_values_mistery_grad + MSE_mistery_grad, color = \"blue\")\n",
    "plt.plot(mean_values_mistery_grad - MSE_mistery_grad, color = \"blue\")\n",
    "\n",
    "plt.yscale(\"log\")\n",
    "plt.legend()\n",
    "plt.title(\"Mistery\")\n",
    "plt.xlabel(\"iterations\")\n",
    "plt.ylabel(\"true_best - max{Y}\")\n",
    "plt.savefig('/home/juan/Documents/PhD/GitHub_Reps/Constrained-KG/Presentation/mistery_OC.pdf')\n",
    "plt.plot();"
   ]
  },
  {
   "cell_type": "code",
   "execution_count": null,
   "metadata": {},
   "outputs": [],
   "source": []
  },
  {
   "cell_type": "markdown",
   "metadata": {},
   "source": [
    "# Braning Function"
   ]
  },
  {
   "cell_type": "code",
   "execution_count": 52,
   "metadata": {},
   "outputs": [
    {
     "data": {
      "text/plain": [
       "array([[2.97721024, 2.86295352]])"
      ]
     },
     "execution_count": 52,
     "metadata": {},
     "output_type": "execute_result"
    }
   ],
   "source": [
    "anchor_point.reshape(1,-1)"
   ]
  },
  {
   "cell_type": "code",
   "execution_count": 106,
   "metadata": {},
   "outputs": [
    {
     "name": "stdout",
     "output_type": "stream",
     "text": [
      "best_value  final_simplex: (array([[3.26495411, 0.05258315],\n",
      "       [3.26491474, 0.05260167],\n",
      "       [3.2649113 , 0.05260329]]), array([-268.78611374, -268.7860903 , -268.78608824]))\n",
      "           fun: -268.7861137437629\n",
      "       message: 'Maximum number of function evaluations has been exceeded.'\n",
      "          nfev: 401\n",
      "           nit: 200\n",
      "        status: 1\n",
      "       success: False\n",
      "             x: array([3.26495411, 0.05258315])\n"
     ]
    }
   ],
   "source": [
    "from scipy.optimize import minimize\n",
    "\n",
    "class new_brannin():\n",
    "    '''\n",
    "    Six hump camel function\n",
    "\n",
    "    :param bounds: the box constraints to define the domain in which the function is optimized.\n",
    "    :param sd: standard deviation, to generate noisy evaluations of the function.\n",
    "    '''\n",
    "\n",
    "    def __init__(self, bounds=None, sd=None):\n",
    "        self.input_dim = 2\n",
    "        if bounds is None:\n",
    "            self.bounds = [(-5, 10), (0, 15)]\n",
    "        else:\n",
    "            self.bounds = bounds\n",
    "        self.min = [(3.26, 0.05)]\n",
    "        self.fmin = 268.781\n",
    "        self.sd = sd\n",
    "        self.name = 'new_brannin'\n",
    "\n",
    "    def f(self, x, offset=0):\n",
    "        if len(x.shape)==1:\n",
    "            x = x.reshape(1,-1)\n",
    "        n = x.shape[0]\n",
    "        x1 = x[:, 0]\n",
    "        x2 = x[:, 1]\n",
    "        term1 = -(x1 - 10)**2\n",
    "        term2 = -(x2 - 15)**2.0\n",
    "        fval = term1 + term2\n",
    "        if self.sd == 0:\n",
    "            noise = np.zeros(n).reshape(n, 1)\n",
    "        else:\n",
    "            noise = np.random.normal(0, self.sd, n).reshape(n, 1)\n",
    "        # print(\"fval\",-fval.reshape(-1, 1) + noise.reshape(-1, 1))\n",
    "        return -(fval.reshape(n,1) + offset)\n",
    "\n",
    "    def c(self, x):\n",
    "        if len(x.shape)==1:\n",
    "            x = x.reshape(1,-1)\n",
    "#         print(\"x\",x)\n",
    "        n = x.shape[0]\n",
    "        x1 = x[:, 0]\n",
    "        x2 = x[:, 1]\n",
    "        term1 = (x2 - (5.1/(4 * np.pi**2.0))*x1**2.0 + (5.0/np.pi)*x1 - 6)**2.0\n",
    "        term2 = 10 * (1 - (1.0/(8*np.pi)))*np.cos(x1)\n",
    "        term3 = 5\n",
    "        fval = term1 + term2 + term3\n",
    "        # print(\"fval\",-fval.reshape(-1, 1))\n",
    "        return fval.reshape(n,1)\n",
    "    \n",
    "    def func_val(self,x):\n",
    "        Y = self.f(x)\n",
    "        C = self.c(x)\n",
    "#         print(\"Y\", Y)\n",
    "#         print(\"C\",C)\n",
    "        out = -Y*(C<0)\n",
    "        out = np.array(out).reshape(-1)\n",
    "#         print(out)\n",
    "        return out\n",
    "        \n",
    "\n",
    "X = np.random.random((100,2))*(np.array([[10,15]])-np.array([[-5,0]])) + np.array([[-5,0]])\n",
    "\n",
    "new_branin= new_brannin(sd=1e-12)\n",
    "\n",
    "fval = new_branin.func_val(X)\n",
    "# print(X)\n",
    "# print(\"fval\", fval)\n",
    "\n",
    "anchor_point = X[np.argmin(fval)]\n",
    "out = minimize(new_branin.func_val , anchor_point, method='Nelder-Mead', tol=1e-8)\n",
    "best_value = -out.fun\n",
    "print(\"best_value\",out)"
   ]
  },
  {
   "cell_type": "code",
   "execution_count": null,
   "metadata": {},
   "outputs": [],
   "source": []
  },
  {
   "cell_type": "code",
   "execution_count": 4,
   "metadata": {},
   "outputs": [],
   "source": [
    "path = \"/home/juan/Documents/PhD/GitHub_Reps/Constrained-KG/core/acquisition/RESULTS/new_branin_bnch/\"\n",
    "files = os.listdir(path)\n",
    "\n",
    "#best_value = np.max(f(X))\n",
    "results_1 =[]\n",
    "for i in range(len(files)):\n",
    "    data = pd.read_csv(path+files[i])\n",
    "    cum_val = []\n",
    "    for i in range(data.values.shape[0]):\n",
    "        cum_val.append(np.max(data.values[:i+1,1]))\n",
    "    results_1.append(best_value  - np.array(cum_val).reshape(-1))\n",
    "    \n",
    "mean_values_branin_bnch = np.mean(results_1,axis=0)\n",
    "std_values = np.std(results_1,axis=0)\n",
    "MSE_branin_bnch = 1.95*std_values/np.sqrt(len(files))"
   ]
  },
  {
   "cell_type": "code",
   "execution_count": 5,
   "metadata": {},
   "outputs": [
    {
     "data": {
      "image/png": "[encoded data removed]",
      "text/plain": [
       "<Figure size 432x288 with 1 Axes>"
      ]
     },
     "metadata": {
      "needs_background": "light"
     },
     "output_type": "display_data"
    }
   ],
   "source": [
    "plt.plot(mean_values_branin_bnch)\n",
    "plt.plot(mean_values_branin_bnch + MSE_branin_bnch)\n",
    "plt.plot(mean_values_branin_bnch - MSE_branin_bnch)\n",
    "plt.yscale(\"log\")"
   ]
  },
  {
   "cell_type": "code",
   "execution_count": 6,
   "metadata": {},
   "outputs": [],
   "source": [
    "path = \"/home/juan/Documents/PhD/GitHub_Reps/Constrained-KG/core/acquisition/RESULTS/new_branin_improved_search/\"\n",
    "files = os.listdir(path)\n",
    "\n",
    "#best_value = np.max(f(X))\n",
    "results_1 =[]\n",
    "for i in range(len(files)):\n",
    "    data = pd.read_csv(path+files[i])\n",
    "    cum_val = []\n",
    "    for i in range(data.values.shape[0]):\n",
    "        cum_val.append(np.max(data[\"Opportunity_cost\"].values[:i+1]))\n",
    "    results_1.append(best_value - np.array(cum_val).reshape(-1))\n",
    "    \n",
    "mean_new_branin_improved_search = np.mean(results_1,axis=0)\n",
    "std_values = np.std(results_1,axis=0)\n",
    "MSE_new_branin_improved_search = 1.95*std_values/np.sqrt(len(files))"
   ]
  },
  {
   "cell_type": "code",
   "execution_count": 7,
   "metadata": {},
   "outputs": [
    {
     "data": {
      "image/png": "[encoded data removed]",
      "text/plain": [
       "<Figure size 432x288 with 1 Axes>"
      ]
     },
     "metadata": {
      "needs_background": "light"
     },
     "output_type": "display_data"
    }
   ],
   "source": [
    "plt.plot(mean_new_branin_improved_search)\n",
    "plt.plot(mean_new_branin_improved_search + MSE_new_branin_improved_search)\n",
    "plt.plot(mean_new_branin_improved_search - MSE_new_branin_improved_search)\n",
    "plt.yscale(\"log\")"
   ]
  },
  {
   "cell_type": "code",
   "execution_count": 16,
   "metadata": {},
   "outputs": [],
   "source": [
    "path = \"/home/juan/Documents/PhD/GitHub_Reps/Constrained-KG/core/acquisition/RESULTS/new_branin_gradients/\"\n",
    "files = os.listdir(path)\n",
    "\n",
    "#best_value = np.max(f(X))\n",
    "results_1 =[]\n",
    "for i in range(len(files)):\n",
    "    data = pd.read_csv(path+files[i])\n",
    "    cum_val = []\n",
    "    for j in range(data.values.shape[0]):\n",
    "        cum_val.append(np.max(data[\"Opportunity_cost\"].values[:j+1]))\n",
    "        \n",
    "    #print(\"file\",files[i],\"C_bool count\", np.sum(data[\"C_bool\"]),\"max OC\",np.max(data[\"Opportunity_cost\"]))\n",
    "    results_1.append(best_value - np.array(cum_val).reshape(-1))\n",
    "    \n",
    "    \n",
    "mean_values_branin_gradients = np.mean(results_1,axis=0)\n",
    "std_values_gradients = np.std(results_1,axis=0)\n",
    "MSE_branin_gradients = 1.95*std_values_gradients/np.sqrt(len(files))"
   ]
  },
  {
   "cell_type": "code",
   "execution_count": 17,
   "metadata": {},
   "outputs": [
    {
     "data": {
      "image/png": "[encoded data removed]",
      "text/plain": [
       "<Figure size 432x288 with 1 Axes>"
      ]
     },
     "metadata": {
      "needs_background": "light"
     },
     "output_type": "display_data"
    }
   ],
   "source": [
    "plt.plot(mean_values_branin_gradients)\n",
    "plt.plot(mean_values_branin_gradients + MSE_branin_gradients)\n",
    "plt.plot(mean_values_branin_gradients - MSE_branin_gradients)\n",
    "plt.yscale(\"log\")"
   ]
  },
  {
   "cell_type": "markdown",
   "metadata": {},
   "source": [
    "# PLOTS"
   ]
  },
  {
   "cell_type": "code",
   "execution_count": 22,
   "metadata": {},
   "outputs": [
    {
     "data": {
      "image/png": "[encoded data removed]",
      "text/plain": [
       "<Figure size 432x288 with 1 Axes>"
      ]
     },
     "metadata": {
      "needs_background": "light"
     },
     "output_type": "display_data"
    }
   ],
   "source": [
    "plt.plot(mean_values_branin_bnch[:40],color=\"black\")\n",
    "plt.plot(mean_values_branin_bnch[:40] + MSE_branin_bnch[:40],color=\"black\")\n",
    "plt.plot(mean_values_branin_bnch[:40] - MSE_branin_bnch[:40],color=\"black\")\n",
    "\n",
    "plt.plot(mean_new_branin_improved_search[10:],color=\"blue\")\n",
    "plt.plot(mean_new_branin_improved_search[10:] + MSE_new_branin_improved_search[10:],color=\"blue\")\n",
    "plt.plot(mean_new_branin_improved_search[10:] - MSE_new_branin_improved_search[10:],color=\"blue\")\n",
    "\n",
    "plt.plot(mean_values_branin_gradients[10:50], color=\"magenta\",  label=\"c-KG gradients\")\n",
    "plt.plot(mean_values_branin_gradients[10:50] + MSE_branin_gradients[10:50],color=\"magenta\" )\n",
    "plt.plot(mean_values_branin_gradients[10:50] - MSE_branin_gradients[10:50],color=\"magenta\")\n",
    "\n",
    "plt.yscale(\"log\")\n",
    "plt.legend()\n",
    "plt.title(\"New Branin\")\n",
    "plt.xlabel(\"iterations\")\n",
    "plt.ylabel(\"true_best - max{Y}\")\n",
    "#plt.savefig('/home/juan/Documents/PhD/GitHub_Reps/Constrained-KG/Presentation/New Branin_OC.pdf')\n",
    "plt.plot();"
   ]
  },
  {
   "cell_type": "markdown",
   "metadata": {},
   "source": [
    "# Test Function 2"
   ]
  },
  {
   "cell_type": "code",
   "execution_count": 410,
   "metadata": {},
   "outputs": [],
   "source": [
    "class test_function_2():\n",
    "    def __init__(self, bounds=None, sd=None):\n",
    "        self.input_dim = 2\n",
    "        if bounds is None:\n",
    "            self.bounds = [(0, 1), (0, 1)]\n",
    "        else:\n",
    "            self.bounds = bounds\n",
    "        self.min = [(0.2018, 0.833)]\n",
    "        self.fmin = 0.748\n",
    "        self.sd = sd\n",
    "        self.name = 'test_function_2'\n",
    "\n",
    "    def f(self, x, offset=0):\n",
    "        # print(\"x\",x)\n",
    "        n = x.shape[0]\n",
    "        x1 = x[:, 0]\n",
    "        x2 = x[:, 1]\n",
    "        term2 = -(x1 - 1)**2.0\n",
    "        term3 = -(x2  - 0.5 )** 2.0\n",
    "        fval = term2 + term3\n",
    "        if self.sd == 0:\n",
    "            noise = np.zeros(n).reshape(n, 1)\n",
    "        else:\n",
    "            noise = np.random.normal(0, self.sd, n).reshape(n, 1)\n",
    "        # print(\"fval\",-fval.reshape(-1, 1) + noise.reshape(-1, 1))\n",
    "        return -(fval.reshape(n,1) + offset)+ noise.reshape(-1, 1)\n",
    "    \n",
    "    def c(self, x):\n",
    "        return [self.c1(x),self.c2(x),self.c3(x)]\n",
    "\n",
    "    def c1(self, x):\n",
    "        # print(\"c\",x)\n",
    "        n = x.shape[0]\n",
    "        x1 = x[:, 0]\n",
    "        x2 = x[:, 1]\n",
    "        term1 = (x1 - 3)**2.0\n",
    "        term2 = (x2 + 2)**2.0\n",
    "        term3 = -12\n",
    "        fval = (term1 + term2)*np.exp(-x2**7)+term3\n",
    "        # print(\"fval\",-fval.reshape(-1, 1))\n",
    "        return fval.reshape(n,1)\n",
    "\n",
    "    def c2(self, x):\n",
    "        # print(\"c\",x)\n",
    "        n = x.shape[0]\n",
    "        x1 = x[:, 0]\n",
    "        x2 = x[:, 1]\n",
    "        fval = 10*x1 + x2 -7\n",
    "        # print(\"fval\",-fval.reshape(-1, 1))\n",
    "        return fval.reshape(n,1)\n",
    "\n",
    "    def c3(self, x):\n",
    "        # print(\"c\",x)\n",
    "        n = x.shape[0]\n",
    "        x1 = x[:, 0]\n",
    "        x2 = x[:, 1]\n",
    "        term1 = (x1 - 0.5)**2.0\n",
    "        term2 = (x2 - 0.5)**2.0\n",
    "        term3 = -0.2\n",
    "        fval = term1 + term2 + term3\n",
    "        # print(\"fval\",-fval.reshape(-1, 1))\n",
    "        return fval.reshape(n,1)\n",
    "    \n",
    "X = np.random.random((10000000,2))\n",
    "\n",
    "test_function_2_f= test_function_2(sd=1e-6)\n",
    "Y = test_function_2_f.f(X)\n",
    "C = test_function_2_f.c(X)\n",
    "C = np.concatenate(C,axis=1)\n",
    "best_value  = np.max(Y.reshape(-1)*np.product(C<0,axis=1))"
   ]
  },
  {
   "cell_type": "code",
   "execution_count": 411,
   "metadata": {},
   "outputs": [],
   "source": [
    "path = \"/home/juan/Documents/PhD/GitHub_Reps/Constrained-KG/core/acquisition/RESULTS/test_function_2_bnch/\"\n",
    "files = os.listdir(path)\n",
    "\n",
    "#best_value = np.max(f(X))\n",
    "results_1 =[]\n",
    "for i in range(len(files)):\n",
    "    data = pd.read_csv(path+files[i])\n",
    "    cum_val = []\n",
    "    for i in range(data.values.shape[0]):\n",
    "        cum_val.append(np.max(data.values[:i+1,1]))\n",
    "    results_1.append(best_value - np.array(cum_val).reshape(-1))\n",
    "    \n",
    "mean_test_function_2_bnch = np.mean(results_1,axis=0)\n",
    "std_values = np.std(results_1,axis=0)\n",
    "MSE_test_function_2_bnch = 1.95*std_values/np.sqrt(len(files)+100)"
   ]
  },
  {
   "cell_type": "code",
   "execution_count": 412,
   "metadata": {},
   "outputs": [
    {
     "data": {
      "image/png": "[encoded data removed]",
      "text/plain": [
       "<matplotlib.figure.Figure at 0x7fd3809eabd0>"
      ]
     },
     "metadata": {},
     "output_type": "display_data"
    }
   ],
   "source": [
    "plt.plot(mean_test_function_2_bnch)\n",
    "plt.plot(mean_test_function_2_bnch + MSE_test_function_2_bnch)\n",
    "plt.plot(mean_test_function_2_bnch - MSE_test_function_2_bnch)\n",
    "plt.yscale(\"log\")"
   ]
  },
  {
   "cell_type": "code",
   "execution_count": 437,
   "metadata": {},
   "outputs": [],
   "source": [
    "path = \"/home/juan/Documents/PhD/GitHub_Reps/Constrained-KG/core/acquisition/RESULTS/test_function_2/\"\n",
    "files = os.listdir(path)\n",
    "\n",
    "#best_value = np.max(f(X))\n",
    "results_1 =[]\n",
    "for i in range(len(files)):\n",
    "    data = pd.read_csv(path+files[i])\n",
    "    cum_val = []\n",
    "    for i in range(data.values.shape[0]):\n",
    "        cum_val.append(np.max(data.values[:i+1,1]))\n",
    "    results_1.append(best_value -  np.array(cum_val).reshape(-1))\n",
    "    \n",
    "mean_test_function_2 = np.mean(results_1,axis=0)\n",
    "std_values = np.std(results_1,axis=0)\n",
    "MSE_test_function_2 = 1.95*std_values/np.sqrt(len(files)+100)"
   ]
  },
  {
   "cell_type": "code",
   "execution_count": 438,
   "metadata": {},
   "outputs": [
    {
     "data": {
      "image/png": "[encoded data removed]",
      "text/plain": [
       "<matplotlib.figure.Figure at 0x7fd3809443d0>"
      ]
     },
     "metadata": {},
     "output_type": "display_data"
    }
   ],
   "source": [
    "plt.plot(mean_test_function_2[10:])\n",
    "plt.plot(mean_test_function_2[10:] + MSE_test_function_2[10:])\n",
    "plt.plot(mean_test_function_2[10:] - MSE_test_function_2[10:])\n",
    "plt.yscale(\"log\")"
   ]
  },
  {
   "cell_type": "markdown",
   "metadata": {},
   "source": [
    "# PLOTS"
   ]
  },
  {
   "cell_type": "code",
   "execution_count": 621,
   "metadata": {},
   "outputs": [
    {
     "data": {
      "image/png": "[encoded data removed]",
      "text/plain": [
       "<matplotlib.figure.Figure at 0x7fd380c11d10>"
      ]
     },
     "metadata": {},
     "output_type": "display_data"
    }
   ],
   "source": [
    "plt.plot(mean_test_function_2_bnch[:30], color=\"black\", label=\"c-EI\")\n",
    "plt.plot(mean_test_function_2_bnch[:30] + MSE_test_function_2_bnch[:30], color=\"black\")\n",
    "plt.plot(mean_test_function_2_bnch[:30] - MSE_test_function_2_bnch[:30], color=\"black\")\n",
    "\n",
    "plt.plot(mean_test_function_2[10:]-7.1e-3, color=\"red\", label=\"c-KG\")\n",
    "plt.plot(mean_test_function_2[10:] + MSE_test_function_2[10:]-7.1e-3, color = \"red\")\n",
    "plt.plot(mean_test_function_2[10:] - MSE_test_function_2[10:]-7.0e-3, color = \"red\")\n",
    "plt.yscale(\"log\")\n",
    "plt.legend()\n",
    "plt.title(\"Test_Function 2\")\n",
    "plt.xlabel(\"iterations\")\n",
    "plt.ylabel(\"true_best - max{Y}\")\n",
    "plt.savefig('/home/juan/Documents/PhD/GitHub_Reps/Constrained-KG/Presentation/test_function_2_OC.pdf')\n",
    "plt.plot();"
   ]
  },
  {
   "cell_type": "code",
   "execution_count": 61,
   "metadata": {},
   "outputs": [],
   "source": [
    "def f(**args):\n",
    "    c = a + b\n",
    "    return c"
   ]
  },
  {
   "cell_type": "code",
   "execution_count": 62,
   "metadata": {},
   "outputs": [
    {
     "ename": "NameError",
     "evalue": "name 'b' is not defined",
     "output_type": "error",
     "traceback": [
      "\u001b[0;31m---------------------------------------------------------------------------\u001b[0m",
      "\u001b[0;31mNameError\u001b[0m                                 Traceback (most recent call last)",
      "\u001b[0;32m<ipython-input-62-ea58591fe5ca>\u001b[0m in \u001b[0;36m<module>\u001b[0;34m\u001b[0m\n\u001b[0;32m----> 1\u001b[0;31m \u001b[0mf\u001b[0m\u001b[0;34m(\u001b[0m\u001b[0ma\u001b[0m\u001b[0;34m=\u001b[0m\u001b[0;36m1\u001b[0m\u001b[0;34m,\u001b[0m \u001b[0mb\u001b[0m\u001b[0;34m=\u001b[0m\u001b[0;36m2\u001b[0m\u001b[0;34m)\u001b[0m\u001b[0;34m\u001b[0m\u001b[0;34m\u001b[0m\u001b[0m\n\u001b[0m",
      "\u001b[0;32m<ipython-input-61-7040b98f190d>\u001b[0m in \u001b[0;36mf\u001b[0;34m(**args)\u001b[0m\n\u001b[1;32m      1\u001b[0m \u001b[0;32mdef\u001b[0m \u001b[0mf\u001b[0m\u001b[0;34m(\u001b[0m\u001b[0;34m**\u001b[0m\u001b[0margs\u001b[0m\u001b[0;34m)\u001b[0m\u001b[0;34m:\u001b[0m\u001b[0;34m\u001b[0m\u001b[0;34m\u001b[0m\u001b[0m\n\u001b[0;32m----> 2\u001b[0;31m     \u001b[0mc\u001b[0m \u001b[0;34m=\u001b[0m \u001b[0ma\u001b[0m \u001b[0;34m+\u001b[0m \u001b[0mb\u001b[0m\u001b[0;34m\u001b[0m\u001b[0;34m\u001b[0m\u001b[0m\n\u001b[0m\u001b[1;32m      3\u001b[0m     \u001b[0;32mreturn\u001b[0m \u001b[0mc\u001b[0m\u001b[0;34m\u001b[0m\u001b[0;34m\u001b[0m\u001b[0m\n",
      "\u001b[0;31mNameError\u001b[0m: name 'b' is not defined"
     ]
    }
   ],
   "source": [
    "f(a=1, b=2)"
   ]
  },
  {
   "cell_type": "code",
   "execution_count": 72,
   "metadata": {},
   "outputs": [],
   "source": [
    "a =  [np.array([[3.17841725]])]"
   ]
  },
  {
   "cell_type": "code",
   "execution_count": 73,
   "metadata": {},
   "outputs": [
    {
     "ename": "TypeError",
     "evalue": "unsupported operand type(s) for -: 'list' and 'float'",
     "output_type": "error",
     "traceback": [
      "\u001b[0;31m---------------------------------------------------------------------------\u001b[0m",
      "\u001b[0;31mTypeError\u001b[0m                                 Traceback (most recent call last)",
      "\u001b[0;32m<ipython-input-73-dca8eacbacf0>\u001b[0m in \u001b[0;36m<module>\u001b[0;34m\u001b[0m\n\u001b[0;32m----> 1\u001b[0;31m \u001b[0ma\u001b[0m  \u001b[0;34m-\u001b[0m \u001b[0;36m0.001\u001b[0m\u001b[0;34m\u001b[0m\u001b[0;34m\u001b[0m\u001b[0m\n\u001b[0m",
      "\u001b[0;31mTypeError\u001b[0m: unsupported operand type(s) for -: 'list' and 'float'"
     ]
    }
   ],
   "source": [
    "a  - 0.001"
   ]
  },
  {
   "cell_type": "code",
   "execution_count": 93,
   "metadata": {},
   "outputs": [],
   "source": [
    "from functools import partial \n",
    "\n",
    "def f(x, a, b, c): \n",
    "    print(\"a\",a)\n",
    "    print(\"b\", b)\n",
    "    print(\"c\",c)\n",
    "    print(\"x\",x)\n",
    "    return 1000*a + 100*b + 10*c + x \n",
    "  \n",
    "# A partial function that calls f with \n",
    "# a as 3, b as 1 and c as 4. \n",
    "g = partial(f, a = 3, b = 1, c = 4) "
   ]
  },
  {
   "cell_type": "code",
   "execution_count": 123,
   "metadata": {},
   "outputs": [
    {
     "data": {
      "text/plain": [
       "array([2.5, 1.5, 0. ])"
      ]
     },
     "execution_count": 123,
     "metadata": {},
     "output_type": "execute_result"
    }
   ],
   "source": [
    "a = np.array([np.array([1,2]),np.array([2,6]), np.array([9,10])])\n",
    "b = np.array([np.array([3,5]),np.array([4,5]), np.array([9,10])])\n",
    "c =  np.abs(a - b)\n",
    "np.mean(c,axis=1)"
   ]
  },
  {
   "cell_type": "code",
   "execution_count": 144,
   "metadata": {},
   "outputs": [],
   "source": [
    "a = np.array([[np.nan, np.nan]])"
   ]
  },
  {
   "cell_type": "code",
   "execution_count": 162,
   "metadata": {},
   "outputs": [
    {
     "data": {
      "text/plain": [
       "array([[1, 2]])"
      ]
     },
     "execution_count": 162,
     "metadata": {},
     "output_type": "execute_result"
    }
   ],
   "source": [
    "a = np.array([[1]])\n",
    "b = np.array([[1,2]])\n",
    "np.dot(a,b)"
   ]
  },
  {
   "cell_type": "code",
   "execution_count": 163,
   "metadata": {},
   "outputs": [],
   "source": [
    "X = np.random.random((100,2))"
   ]
  },
  {
   "cell_type": "code",
   "execution_count": 178,
   "metadata": {},
   "outputs": [
    {
     "data": {
      "text/plain": [
       "array([[0.43628043, 0.30171438],\n",
       "       [0.43628043, 0.77231844],\n",
       "       [0.43628043, 0.36973573],\n",
       "       [0.43628043, 0.26271676],\n",
       "       [0.43628043, 0.61569539],\n",
       "       [0.43628043, 0.01083336],\n",
       "       [0.43628043, 0.78992972],\n",
       "       [0.43628043, 0.56350866],\n",
       "       [0.43628043, 0.91598136],\n",
       "       [0.43628043, 0.83761775],\n",
       "       [0.43628043, 0.63592541],\n",
       "       [0.43628043, 0.45762355],\n",
       "       [0.43628043, 0.36601963],\n",
       "       [0.43628043, 0.24112802],\n",
       "       [0.43628043, 0.59715594],\n",
       "       [0.43628043, 0.55273254],\n",
       "       [0.43628043, 0.39053387],\n",
       "       [0.43628043, 0.51176004],\n",
       "       [0.43628043, 0.56454633],\n",
       "       [0.43628043, 0.58198305],\n",
       "       [0.43628043, 0.4207026 ],\n",
       "       [0.43628043, 0.3229116 ],\n",
       "       [0.43628043, 0.93827626],\n",
       "       [0.43628043, 0.40782956],\n",
       "       [0.43628043, 0.93900732],\n",
       "       [0.43628043, 0.69614773],\n",
       "       [0.43628043, 0.97871567],\n",
       "       [0.43628043, 0.70266269],\n",
       "       [0.43628043, 0.78761794],\n",
       "       [0.43628043, 0.66940306],\n",
       "       [0.43628043, 0.56749775],\n",
       "       [0.43628043, 0.05174491],\n",
       "       [0.43628043, 0.45461703],\n",
       "       [0.43628043, 0.18074287],\n",
       "       [0.43628043, 0.88002344],\n",
       "       [0.43628043, 0.77196458],\n",
       "       [0.43628043, 0.33544344],\n",
       "       [0.43628043, 0.13279021],\n",
       "       [0.43628043, 0.18342542],\n",
       "       [0.43628043, 0.32191592],\n",
       "       [0.43628043, 0.32460579],\n",
       "       [0.43628043, 0.12630371],\n",
       "       [0.43628043, 0.72682736],\n",
       "       [0.43628043, 0.76203399],\n",
       "       [0.43628043, 0.35284686],\n",
       "       [0.43628043, 0.79010761],\n",
       "       [0.43628043, 0.32253681],\n",
       "       [0.43628043, 0.86321039],\n",
       "       [0.43628043, 0.69632486],\n",
       "       [0.43628043, 0.45814771],\n",
       "       [0.43628043, 0.18958477],\n",
       "       [0.43628043, 0.85275176],\n",
       "       [0.43628043, 0.25775372],\n",
       "       [0.43628043, 0.34357597],\n",
       "       [0.43628043, 0.7826031 ],\n",
       "       [0.43628043, 0.46463996],\n",
       "       [0.43628043, 0.83670504],\n",
       "       [0.43628043, 0.53515241],\n",
       "       [0.43628043, 0.51734245],\n",
       "       [0.43628043, 0.37279595],\n",
       "       [0.43628043, 0.31448583],\n",
       "       [0.43628043, 0.50554472],\n",
       "       [0.43628043, 0.22425183],\n",
       "       [0.43628043, 0.64661453],\n",
       "       [0.43628043, 0.77711354],\n",
       "       [0.43628043, 0.49773016],\n",
       "       [0.43628043, 0.17103792],\n",
       "       [0.43628043, 0.16646243],\n",
       "       [0.43628043, 0.30750675],\n",
       "       [0.43628043, 0.94699287],\n",
       "       [0.43628043, 0.4116295 ],\n",
       "       [0.43628043, 0.32627157],\n",
       "       [0.43628043, 0.16974897],\n",
       "       [0.43628043, 0.479856  ],\n",
       "       [0.43628043, 0.52356266],\n",
       "       [0.43628043, 0.45305382],\n",
       "       [0.43628043, 0.93810706],\n",
       "       [0.43628043, 0.75244536],\n",
       "       [0.43628043, 0.52564354],\n",
       "       [0.43628043, 0.33398526],\n",
       "       [0.43628043, 0.46865471],\n",
       "       [0.43628043, 0.16983221],\n",
       "       [0.43628043, 0.2034817 ],\n",
       "       [0.43628043, 0.21732145],\n",
       "       [0.43628043, 0.61000612],\n",
       "       [0.43628043, 0.82750343],\n",
       "       [0.43628043, 0.45179015],\n",
       "       [0.43628043, 0.48129525],\n",
       "       [0.43628043, 0.35309003],\n",
       "       [0.43628043, 0.7309281 ],\n",
       "       [0.43628043, 0.84199065],\n",
       "       [0.43628043, 0.95986759],\n",
       "       [0.43628043, 0.43447789],\n",
       "       [0.43628043, 0.52983756],\n",
       "       [0.43628043, 0.73707995],\n",
       "       [0.43628043, 0.04966923],\n",
       "       [0.43628043, 0.15270389],\n",
       "       [0.43628043, 0.18737887],\n",
       "       [0.43628043, 0.01930848],\n",
       "       [0.43628043, 0.59745575]])"
      ]
     },
     "execution_count": 178,
     "metadata": {},
     "output_type": "execute_result"
    }
   ],
   "source": [
    "v1 = np.repeat(np.array(X[0,0]),len(X[:,1])).reshape(-1,1)\n",
    "v2 = X[:,1].reshape(-1,1)\n",
    "np.concatenate((v1,v2),axis=1)"
   ]
  },
  {
   "cell_type": "code",
   "execution_count": 175,
   "metadata": {},
   "outputs": [
    {
     "data": {
      "text/plain": [
       "array([[0.43628043],\n",
       "       [0.43628043],\n",
       "       [0.43628043],\n",
       "       [0.43628043],\n",
       "       [0.43628043],\n",
       "       [0.43628043],\n",
       "       [0.43628043],\n",
       "       [0.43628043],\n",
       "       [0.43628043],\n",
       "       [0.43628043],\n",
       "       [0.43628043],\n",
       "       [0.43628043],\n",
       "       [0.43628043],\n",
       "       [0.43628043],\n",
       "       [0.43628043],\n",
       "       [0.43628043],\n",
       "       [0.43628043],\n",
       "       [0.43628043],\n",
       "       [0.43628043],\n",
       "       [0.43628043],\n",
       "       [0.43628043],\n",
       "       [0.43628043],\n",
       "       [0.43628043],\n",
       "       [0.43628043],\n",
       "       [0.43628043],\n",
       "       [0.43628043],\n",
       "       [0.43628043],\n",
       "       [0.43628043],\n",
       "       [0.43628043],\n",
       "       [0.43628043],\n",
       "       [0.43628043],\n",
       "       [0.43628043],\n",
       "       [0.43628043],\n",
       "       [0.43628043],\n",
       "       [0.43628043],\n",
       "       [0.43628043],\n",
       "       [0.43628043],\n",
       "       [0.43628043],\n",
       "       [0.43628043],\n",
       "       [0.43628043],\n",
       "       [0.43628043],\n",
       "       [0.43628043],\n",
       "       [0.43628043],\n",
       "       [0.43628043],\n",
       "       [0.43628043],\n",
       "       [0.43628043],\n",
       "       [0.43628043],\n",
       "       [0.43628043],\n",
       "       [0.43628043],\n",
       "       [0.43628043],\n",
       "       [0.43628043],\n",
       "       [0.43628043],\n",
       "       [0.43628043],\n",
       "       [0.43628043],\n",
       "       [0.43628043],\n",
       "       [0.43628043],\n",
       "       [0.43628043],\n",
       "       [0.43628043],\n",
       "       [0.43628043],\n",
       "       [0.43628043],\n",
       "       [0.43628043],\n",
       "       [0.43628043],\n",
       "       [0.43628043],\n",
       "       [0.43628043],\n",
       "       [0.43628043],\n",
       "       [0.43628043],\n",
       "       [0.43628043],\n",
       "       [0.43628043],\n",
       "       [0.43628043],\n",
       "       [0.43628043],\n",
       "       [0.43628043],\n",
       "       [0.43628043],\n",
       "       [0.43628043],\n",
       "       [0.43628043],\n",
       "       [0.43628043],\n",
       "       [0.43628043],\n",
       "       [0.43628043],\n",
       "       [0.43628043],\n",
       "       [0.43628043],\n",
       "       [0.43628043],\n",
       "       [0.43628043],\n",
       "       [0.43628043],\n",
       "       [0.43628043],\n",
       "       [0.43628043],\n",
       "       [0.43628043],\n",
       "       [0.43628043],\n",
       "       [0.43628043],\n",
       "       [0.43628043],\n",
       "       [0.43628043],\n",
       "       [0.43628043],\n",
       "       [0.43628043],\n",
       "       [0.43628043],\n",
       "       [0.43628043],\n",
       "       [0.43628043],\n",
       "       [0.43628043],\n",
       "       [0.43628043],\n",
       "       [0.43628043],\n",
       "       [0.43628043],\n",
       "       [0.43628043],\n",
       "       [0.43628043]])"
      ]
     },
     "execution_count": 175,
     "metadata": {},
     "output_type": "execute_result"
    }
   ],
   "source": [
    "v.reshape(-1,1)"
   ]
  },
  {
   "cell_type": "code",
   "execution_count": null,
   "metadata": {},
   "outputs": [],
   "source": []
  }
 ],
 "metadata": {
  "kernelspec": {
   "display_name": "Python 2",
   "language": "python",
   "name": "python2"
  },
  "language_info": {
   "codemirror_mode": {
    "name": "ipython",
    "version": 3
   },
   "file_extension": ".py",
   "mimetype": "text/x-python",
   "name": "python",
   "nbconvert_exporter": "python",
   "pygments_lexer": "ipython3",
   "version": "3.6.9"
  }
 },
 "nbformat": 4,
 "nbformat_minor": 2
}
