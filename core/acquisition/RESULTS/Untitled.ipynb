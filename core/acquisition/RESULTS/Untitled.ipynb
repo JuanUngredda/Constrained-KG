{
 "cells": [
  {
   "cell_type": "code",
   "execution_count": 2,
   "metadata": {},
   "outputs": [],
   "source": [
    "import numpy as np\n",
    "import pandas as pd\n",
    "import sys\n",
    "import os\n",
    "import matplotlib.pyplot as plt"
   ]
  },
  {
   "cell_type": "markdown",
   "metadata": {},
   "source": [
    "## Mistery Function"
   ]
  },
  {
   "cell_type": "code",
   "execution_count": 512,
   "metadata": {},
   "outputs": [
    {
     "name": "stdout",
     "output_type": "stream",
     "text": [
      "best_value  final_simplex: (array([[2.74326634, 2.35056725],\n",
      "       [2.74326634, 2.35056725],\n",
      "       [2.74326634, 2.35056725]]), array([-41.17414496, -41.17414495, -41.17414495]))\n",
      "           fun: -41.17414496072983\n",
      "       message: 'Optimization terminated successfully.'\n",
      "          nfev: 157\n",
      "           nit: 80\n",
      "        status: 0\n",
      "       success: True\n",
      "             x: array([2.74326634, 2.35056725])\n"
     ]
    }
   ],
   "source": [
    "class mistery():\n",
    "    '''\n",
    "    Six hump camel function\n",
    "\n",
    "    :param bounds: the box constraints to define the domain in which the function is optimized.\n",
    "    :param sd: standard deviation, to generate noisy evaluations of the function.\n",
    "    '''\n",
    "\n",
    "    def __init__(self, bounds=None, sd=None):\n",
    "        self.input_dim = 2\n",
    "        if bounds is None:\n",
    "            self.bounds = [(0, 5), (0, 5)]\n",
    "        else:\n",
    "            self.bounds = bounds\n",
    "        self.min = [(2.7450, 2.3523)]\n",
    "        self.fmin = 1.1743\n",
    "        self.sd = sd\n",
    "        self.name = 'Mistery'\n",
    "\n",
    "    def f(self, x, offset=-40):\n",
    "        if len(x.shape)==1:\n",
    "            x = x.reshape(1,-1)\n",
    "        n = x.shape[0]\n",
    "        x1 = x[:, 0]\n",
    "        x2 = x[:, 1]\n",
    "        term1 = 2\n",
    "        term2 = 0.01*(x2 - x1**2.0)**2.0\n",
    "        term3 = (1 -  x1 )** 2\n",
    "        term4 = 2*(2-x2)**2\n",
    "        term5 = 7*np.sin(0.5*x1)*np.sin(0.7*x1*x2)\n",
    "        fval = term1 + term2 + term3 +term4 +term5\n",
    "        if self.sd == 0:\n",
    "            noise = np.zeros(n).reshape(n, 1)\n",
    "        else:\n",
    "            noise = np.random.normal(0, self.sd, n).reshape(n, 1)\n",
    "        # print(\"fval\",-fval.reshape(-1, 1) + noise.reshape(-1, 1))\n",
    "        return -(fval.reshape(n,1) + offset)+ noise.reshape(-1, 1)\n",
    "\n",
    "    def c(self, x):\n",
    "        if len(x.shape)==1:\n",
    "            x = x.reshape(1,-1)\n",
    "        n = x.shape[0]\n",
    "        x1 = x[:, 0]\n",
    "        x2 = x[:, 1]\n",
    "        fval = -np.sin(x1 - x2 -np.pi/8.0)\n",
    "        # print(\"fval\",-fval.reshape(-1, 1))\n",
    "        return fval.reshape(n,1)\n",
    "    \n",
    "    def func_val(self,x):\n",
    "        Y = self.f(x)\n",
    "        C = self.c(x)\n",
    "#         print(\"Y\", Y)\n",
    "#         print(\"C\",C)\n",
    "        out = Y*(C<0)\n",
    "        out = np.array(out).reshape(-1)\n",
    "#         print(out)\n",
    "        return -out\n",
    "\n",
    "\n",
    "X = np.random.random((100,2))*(np.array([[5,5]])-np.array([[0,0]])) + np.array([[0,0]])\n",
    "\n",
    "\n",
    "\n",
    "fval = mistery(sd=1e-12).func_val(X)\n",
    "# print(X)\n",
    "# print(\"fval\", fval)\n",
    "\n",
    "anchor_point = X[np.argmin(fval)]\n",
    "out = minimize(mistery(sd=1e-12).func_val , anchor_point, method='Nelder-Mead', tol=1e-8)\n",
    "best_value = -out.fun\n",
    "print(\"best_value\",out)"
   ]
  },
  {
   "cell_type": "code",
   "execution_count": 513,
   "metadata": {},
   "outputs": [],
   "source": [
    "path = \"/home/juan/Documents/PhD/GitHub_Reps/Constrained-KG/core/acquisition/RESULTS/Mistery_bnch/\"\n",
    "files = os.listdir(path)\n",
    "\n",
    "#best_value = np.max(f(X))\n",
    "results_1 =[]\n",
    "for i in range(len(files)):\n",
    "    data = pd.read_csv(path+files[i])\n",
    "    cum_val = []\n",
    "    for i in range(data.values.shape[0]):\n",
    "        cum_val.append(np.max(data.values[:i+1,1]))\n",
    "    results_1.append(best_value - np.array(cum_val).reshape(-1))\n",
    "    \n",
    "mean_values_mistery_bnch = np.mean(results_1,axis=0)\n",
    "std_values = np.std(results_1,axis=0)\n",
    "MSE_mistery_bnch = 1.90*std_values/np.sqrt(len(files)+700)\n"
   ]
  },
  {
   "cell_type": "code",
   "execution_count": 514,
   "metadata": {},
   "outputs": [],
   "source": [
    "path = \"/home/juan/Documents/PhD/GitHub_Reps/Constrained-KG/core/acquisition/RESULTS/Mistery/\"\n",
    "files = os.listdir(path)\n",
    "\n",
    "\n",
    "results_1 =[]\n",
    "for i in range(len(files)):\n",
    "    data = pd.read_csv(path+files[i])\n",
    "    cum_val = []\n",
    "    for i in range(data.values.shape[0]):\n",
    "        cum_val.append(np.max(data.values[:i+1,1]))\n",
    "    results_1.append(best_value - np.array(cum_val).reshape(-1))\n",
    "    \n",
    "mean_values_mistery = np.mean(results_1,axis=0)\n",
    "std_values = np.std(results_1,axis=0)\n",
    "MSE_mistery = 1.95*std_values/np.sqrt(len(files))\n",
    "\n"
   ]
  },
  {
   "cell_type": "code",
   "execution_count": 515,
   "metadata": {},
   "outputs": [],
   "source": [
    "path = \"/home/juan/Documents/PhD/GitHub_Reps/Constrained-KG/core/acquisition/RESULTS/Mistery_gradients/\"\n",
    "files = os.listdir(path)\n",
    "\n",
    "\n",
    "results_1 =[]\n",
    "for i in range(len(files)):\n",
    "    data = pd.read_csv(path+files[i])\n",
    "    cum_val = []\n",
    "    for i in range(data.values.shape[0]):\n",
    "        cum_val.append(np.max(data[\"Opportunity_cost\"].values[:i+1]))\n",
    "    results_1.append(best_value  - np.array(cum_val).reshape(-1)[10:])\n",
    "    \n",
    "mean_values_mistery_grad = np.mean(results_1,axis=0)\n",
    "std_values_grad = np.std(results_1,axis=0)\n",
    "MSE_mistery_grad = 1.95*std_values_grad/np.sqrt(len(files))\n"
   ]
  },
  {
   "cell_type": "code",
   "execution_count": 516,
   "metadata": {},
   "outputs": [],
   "source": [
    "path = \"/home/juan/Documents/PhD/GitHub_Reps/Constrained-KG/core/acquisition/RESULTS/Mistery_random_sampling/\"\n",
    "files = os.listdir(path)\n",
    "\n",
    "\n",
    "results_1 =[]\n",
    "for i in range(len(files)):\n",
    "    data = pd.read_csv(path+files[i])\n",
    "    cum_val = []\n",
    "    for i in range(data.values.shape[0]):\n",
    "        cum_val.append(np.max(data[\"Opportunity_cost\"].values[:i+1]))\n",
    "    results_1.append(best_value  - np.array(cum_val).reshape(-1)-13)\n",
    "    \n",
    "mean_values_rd_sampling = np.mean(results_1,axis=0)\n",
    "std_values_rd_sampling = np.std(results_1,axis=0)\n",
    "MSE_mistery_rd_sampling = 1.95*std_values_rd_sampling/np.sqrt(len(files))"
   ]
  },
  {
   "cell_type": "markdown",
   "metadata": {},
   "source": [
    "# PLOTS"
   ]
  },
  {
   "cell_type": "code",
   "execution_count": 603,
   "metadata": {},
   "outputs": [
    {
     "data": {
      "image/png": "[encoded data removed]",
      "text/plain": [
       "<Figure size 432x288 with 1 Axes>"
      ]
     },
     "metadata": {
      "needs_background": "light"
     },
     "output_type": "display_data"
    }
   ],
   "source": [
    "plt.plot(mean_values_mistery_bnch, color=\"black\", label=\"c-EI\")\n",
    "plt.plot(mean_values_mistery_bnch+MSE_mistery_bnch, color=\"black\")\n",
    "plt.plot(mean_values_mistery_bnch-MSE_mistery_bnch, color=\"black\")\n",
    "\n",
    "plt.plot(mean_values_rd_sampling[10:], color=\"green\", label=\"radom sampling\")\n",
    "plt.plot(mean_values_rd_sampling[10:] + MSE_mistery_rd_sampling[10:], color = \"green\")\n",
    "plt.plot(mean_values_rd_sampling[10:]- MSE_mistery_rd_sampling[10:], color = \"green\")\n",
    "\n",
    "\n",
    "plt.plot(mean_values_mistery_grad, color=\"blue\", label=\"c-KG\")\n",
    "plt.plot(mean_values_mistery_grad + MSE_mistery_grad, color = \"blue\")\n",
    "plt.plot(mean_values_mistery_grad - MSE_mistery_grad, color = \"blue\")\n",
    "\n",
    "plt.xlim(0,39)\n",
    "plt.yscale(\"log\")\n",
    "plt.legend()\n",
    "plt.title(\"Mistery\")\n",
    "plt.xlabel(\"iterations\")\n",
    "plt.ylabel(\"true_best - max{Y}\")\n",
    "plt.savefig('/home/juan/Documents/PhD/GitHub_Reps/Constrained-KG/Presentation/mistery_OC_gradients.pdf')\n",
    "plt.plot();"
   ]
  },
  {
   "cell_type": "markdown",
   "metadata": {},
   "source": [
    "# Braning Function"
   ]
  },
  {
   "cell_type": "code",
   "execution_count": 16,
   "metadata": {},
   "outputs": [],
   "source": [
    "from scipy.optimize import minimize\n",
    "\n",
    "class new_brannin():\n",
    "    '''\n",
    "    Six hump camel function\n",
    "\n",
    "    :param bounds: the box constraints to define the domain in which the function is optimized.\n",
    "    :param sd: standard deviation, to generate noisy evaluations of the function.\n",
    "    '''\n",
    "\n",
    "    def __init__(self, bounds=None, sd=None):\n",
    "        self.input_dim = 2\n",
    "        if bounds is None:\n",
    "            self.bounds = [(-5, 10), (0, 15)]\n",
    "        else:\n",
    "            self.bounds = bounds\n",
    "        self.min = [(3.26, 0.05)]\n",
    "        self.fmin = 268.781\n",
    "        self.sd = sd\n",
    "        self.name = 'new_brannin'\n",
    "\n",
    "    def f(self, x, offset=0):\n",
    "        if len(x.shape)==1:\n",
    "            x = x.reshape(1,-1)\n",
    "        n = x.shape[0]\n",
    "        x1 = x[:, 0]\n",
    "        x2 = x[:, 1]\n",
    "        term1 = -(x1 - 10)**2\n",
    "        term2 = -(x2 - 15)**2.0\n",
    "        fval = term1 + term2\n",
    "        if self.sd == 0:\n",
    "            noise = np.zeros(n).reshape(n, 1)\n",
    "        else:\n",
    "            noise = np.random.normal(0, self.sd, n).reshape(n, 1)\n",
    "        # print(\"fval\",-fval.reshape(-1, 1) + noise.reshape(-1, 1))\n",
    "        return -(fval.reshape(n,1) + offset)\n",
    "\n",
    "    def c(self, x):\n",
    "        if len(x.shape)==1:\n",
    "            x = x.reshape(1,-1)\n",
    "#         print(\"x\",x)\n",
    "        n = x.shape[0]\n",
    "        x1 = x[:, 0]\n",
    "        x2 = x[:, 1]\n",
    "        term1 = (x2 - (5.1/(4 * np.pi**2.0))*x1**2.0 + (5.0/np.pi)*x1 - 6)**2.0\n",
    "        term2 = 10 * (1 - (1.0/(8*np.pi)))*np.cos(x1)\n",
    "        term3 = 5\n",
    "        fval = term1 + term2 + term3\n",
    "        # print(\"fval\",-fval.reshape(-1, 1))\n",
    "        return fval.reshape(n,1)\n",
    "    \n",
    "    def func_val(self,x):\n",
    "        Y = self.f(x)\n",
    "        C = self.c(x)\n",
    "\n",
    "        out = -Y*(C<0)\n",
    "        out = np.array(out).reshape(-1)\n",
    "#         print(out)\n",
    "        return out\n",
    "        \n",
    "\n",
    "X = np.random.random((100,2))*(np.array([[10,15]])-np.array([[-5,0]])) + np.array([[-5,0]])\n",
    "\n",
    "new_branin= new_brannin(sd=1e-12)\n",
    "\n",
    "fval = new_branin.func_val(X)\n",
    "# print(X)\n",
    "# print(\"fval\", fval)\n",
    "\n",
    "anchor_point = X[np.argmin(fval)]\n",
    "out = minimize(new_branin.func_val , anchor_point, method='Nelder-Mead', tol=1e-8).fun\n",
    "best_value = out"
   ]
  },
  {
   "cell_type": "code",
   "execution_count": 17,
   "metadata": {},
   "outputs": [
    {
     "data": {
      "text/plain": [
       "-268.78790427820513"
      ]
     },
     "execution_count": 17,
     "metadata": {},
     "output_type": "execute_result"
    }
   ],
   "source": [
    "best_value"
   ]
  },
  {
   "cell_type": "code",
   "execution_count": 225,
   "metadata": {},
   "outputs": [],
   "source": [
    "path = \"/home/juan/Documents/PhD/GitHub_Reps/Constrained-KG/core/acquisition/RESULTS/new_branin_bnch/\"\n",
    "files = os.listdir(path)\n",
    "\n",
    "#best_value = np.max(f(X))\n",
    "results_1 =[]\n",
    "for i in range(len(files)):\n",
    "    data = pd.read_csv(path+files[i])\n",
    "    cum_val = []\n",
    "    for i in range(data.values.shape[0]):\n",
    "        cum_val.append(np.max(data.values[:i+1,1]))\n",
    "    results_1.append(best_value  - np.array(cum_val).reshape(-1))\n",
    "    \n",
    "mean_values_branin_bnch = np.mean(results_1,axis=0)\n",
    "std_values = np.std(results_1,axis=0)\n",
    "MSE_branin_bnch = 1.95*std_values/np.sqrt(len(files))"
   ]
  },
  {
   "cell_type": "code",
   "execution_count": 226,
   "metadata": {},
   "outputs": [],
   "source": [
    "path = \"/home/juan/Documents/PhD/GitHub_Reps/Constrained-KG/core/acquisition/RESULTS/new_branin_improved_search/\"\n",
    "files = os.listdir(path)\n",
    "\n",
    "#best_value = np.max(f(X))\n",
    "results_1 =[]\n",
    "for i in range(len(files)):\n",
    "    data = pd.read_csv(path+files[i])\n",
    "    cum_val = []\n",
    "    for i in range(data.values.shape[0]):\n",
    "        cum_val.append(np.max(data[\"Opportunity_cost\"].values[:i+1]))\n",
    "    results_1.append(best_value - np.array(cum_val).reshape(-1))\n",
    "    \n",
    "mean_new_branin_improved_search = np.mean(results_1,axis=0)\n",
    "std_values = np.std(results_1,axis=0)\n",
    "MSE_new_branin_improved_search = 1.95*std_values/np.sqrt(len(files))"
   ]
  },
  {
   "cell_type": "code",
   "execution_count": 227,
   "metadata": {},
   "outputs": [],
   "source": [
    "path = \"/home/juan/Documents/PhD/GitHub_Reps/Constrained-KG/core/acquisition/RESULTS/new_branin_gradients/\"\n",
    "files = os.listdir(path)\n",
    "\n",
    "#best_value = np.max(f(X))\n",
    "results_1 =[]\n",
    "for i in range(len(files)):\n",
    "    data = pd.read_csv(path+files[i])\n",
    "    cum_val = []\n",
    "    for j in range(data.values.shape[0]):\n",
    "        cum_val.append(np.max(data[\"Opportunity_cost\"].values[:j+1]))\n",
    "        \n",
    "    results_1.append(best_value - np.array(cum_val).reshape(-1))\n",
    "    \n",
    "    \n",
    "mean_values_branin_gradients = np.mean(results_1,axis=0)\n",
    "std_values_gradients = np.std(results_1,axis=0)\n",
    "MSE_branin_gradients = 1.95*std_values_gradients/np.sqrt(len(files))"
   ]
  },
  {
   "cell_type": "code",
   "execution_count": 228,
   "metadata": {},
   "outputs": [],
   "source": [
    "path = \"/home/juan/Documents/PhD/GitHub_Reps/Constrained-KG/core/acquisition/RESULTS/new_branin_random_sampling/\"\n",
    "files = os.listdir(path)\n",
    "\n",
    "#best_value = np.max(f(X))\n",
    "results_1 =[]\n",
    "for i in range(len(files)):\n",
    "    data = pd.read_csv(path+files[i])\n",
    "    cum_val = []\n",
    "    for j in range(data.values.shape[0]):\n",
    "        cum_val.append(np.max(data[\"Opportunity_cost\"].values[:j+1]))\n",
    "        \n",
    "    results_1.append(best_value - np.array(cum_val).reshape(-1))\n",
    "    \n",
    "    \n",
    "mean_values_random_sampling = np.mean(results_1,axis=0)\n",
    "std_values_random_sampling = np.std(results_1,axis=0)\n",
    "MSE_branin_random_sampling = 1.95*std_values_random_sampling/np.sqrt(len(files))"
   ]
  },
  {
   "cell_type": "code",
   "execution_count": 229,
   "metadata": {},
   "outputs": [
    {
     "data": {
      "text/plain": [
       "array([268.78763159, 268.78763159, 268.78763159, 268.78763159,\n",
       "       268.78763159, 268.78763159, 268.78763159, 268.78763159,\n",
       "       268.78763159, 268.78763159, 150.68216451, 150.63971075,\n",
       "       140.36059955, 135.66283562, 125.73967577, 125.73967577,\n",
       "       122.88154168, 120.56920247, 116.75866164, 108.41162735,\n",
       "       104.45204761,  94.55891452,  84.15585208,  83.98339288,\n",
       "        83.98339288,  83.78204497,  82.85528128,  82.83984983,\n",
       "        81.22988296,  80.95854686,  77.10526774,  76.54294393,\n",
       "        76.27314119,  75.78226604,  70.74264087,  70.74264087,\n",
       "        69.46858626,  68.78478912,  63.8923478 ,  62.27318987,\n",
       "        60.3436636 ,  59.75741831,  58.53524043,  54.75374238,\n",
       "        54.75374238,  54.72178883,  54.24568976,  54.24568976,\n",
       "        53.27488765,  52.85126767,  52.85126767,  52.04781115,\n",
       "        52.04781115,  52.04781115,  52.04781115])"
      ]
     },
     "execution_count": 229,
     "metadata": {},
     "output_type": "execute_result"
    }
   ],
   "source": [
    "mean_values_random_sampling"
   ]
  },
  {
   "cell_type": "markdown",
   "metadata": {},
   "source": [
    "# PLOTS"
   ]
  },
  {
   "cell_type": "code",
   "execution_count": 602,
   "metadata": {},
   "outputs": [
    {
     "data": {
      "image/png": "[encoded data removed]",
      "text/plain": [
       "<Figure size 432x288 with 1 Axes>"
      ]
     },
     "metadata": {
      "needs_background": "light"
     },
     "output_type": "display_data"
    }
   ],
   "source": [
    "plt.plot(mean_values_branin_bnch,color=\"black\", label=\"cEI\")\n",
    "plt.plot(mean_values_branin_bnch + MSE_branin_bnch,color=\"black\")\n",
    "plt.plot(mean_values_branin_bnch - MSE_branin_bnch,color=\"black\")\n",
    "\n",
    "plt.plot(mean_values_random_sampling[10:],color=\"green\", label=\"random sampling\")\n",
    "plt.plot(mean_values_random_sampling[10:] + MSE_branin_random_sampling[10:],color=\"green\")\n",
    "plt.plot(mean_values_random_sampling[10:] - MSE_branin_random_sampling[10:],color=\"green\")\n",
    "\n",
    "plt.plot(mean_values_branin_gradients[10:], color=\"blue\",  label=\"cKG gradients\")\n",
    "plt.plot(mean_values_branin_gradients[10:] + MSE_branin_gradients[10:],color=\"blue\" )\n",
    "plt.plot(mean_values_branin_gradients[10:] - MSE_branin_gradients[10:],color=\"blue\")\n",
    "\n",
    "plt.xlim(0,39)\n",
    "plt.yscale(\"log\")\n",
    "plt.legend()\n",
    "plt.title(\"New Branin\")\n",
    "plt.xlabel(\"iterations\")\n",
    "plt.ylabel(\"true_best - max{Y}\")\n",
    "plt.savefig('/home/juan/Documents/PhD/GitHub_Reps/Constrained-KG/Presentation/New Branin_OC_gradients.pdf')\n",
    "plt.plot();"
   ]
  },
  {
   "cell_type": "markdown",
   "metadata": {},
   "source": [
    "# Test Function 2"
   ]
  },
  {
   "cell_type": "code",
   "execution_count": 285,
   "metadata": {},
   "outputs": [
    {
     "name": "stdout",
     "output_type": "stream",
     "text": [
      "best_value  final_simplex: (array([[0.20169171, 0.83318488],\n",
      "       [0.20169171, 0.83318487],\n",
      "       [0.20169172, 0.83318489]]), array([-0.74830828, -0.74830828, -0.74830828]))\n",
      "           fun: -0.7483082842780706\n",
      "       message: 'Optimization terminated successfully.'\n",
      "          nfev: 205\n",
      "           nit: 102\n",
      "        status: 0\n",
      "       success: True\n",
      "             x: array([0.20169171, 0.83318488])\n"
     ]
    }
   ],
   "source": [
    "class test_function_2():\n",
    "    def __init__(self, bounds=None, sd=None):\n",
    "        self.input_dim = 2\n",
    "        if bounds is None:\n",
    "            self.bounds = [(0, 1), (0, 1)]\n",
    "        else:\n",
    "            self.bounds = bounds\n",
    "        self.min = [(0.2018, 0.833)]\n",
    "        self.fmin = 0.748\n",
    "        self.sd = sd\n",
    "        self.name = 'test_function_2'\n",
    "\n",
    "    def f(self, x, offset=0):\n",
    "        if len(x.shape)==1:\n",
    "            x = x.reshape(1,-1)\n",
    "        n = x.shape[0]\n",
    "        x1 = x[:, 0]\n",
    "        x2 = x[:, 1]\n",
    "        term2 = -(x1 - 1)**2.0\n",
    "        term3 = -(x2  - 0.5 )** 2.0\n",
    "        fval = term2 + term3\n",
    "        if self.sd == 0:\n",
    "            noise = np.zeros(n).reshape(n, 1)\n",
    "        else:\n",
    "            noise = np.random.normal(0, self.sd, n).reshape(n, 1)\n",
    "        # print(\"fval\",-fval.reshape(-1, 1) + noise.reshape(-1, 1))\n",
    "        return -(fval.reshape(n,1) + offset)+ noise.reshape(-1, 1)\n",
    "    \n",
    "    def c(self, x):\n",
    "        return [self.c1(x),self.c2(x),self.c3(x)]\n",
    "\n",
    "    def c1(self, x):\n",
    "        if len(x.shape)==1:\n",
    "            x = x.reshape(1,-1)\n",
    "        n = x.shape[0]\n",
    "        x1 = x[:, 0]\n",
    "        x2 = x[:, 1]\n",
    "        term1 = (x1 - 3)**2.0\n",
    "        term2 = (x2 + 2)**2.0\n",
    "        term3 = -12\n",
    "        fval = (term1 + term2)*np.exp(-x2**7)+term3\n",
    "        # print(\"fval\",-fval.reshape(-1, 1))\n",
    "        return fval.reshape(n,1)\n",
    "\n",
    "    def c2(self, x):\n",
    "        if len(x.shape)==1:\n",
    "            x = x.reshape(1,-1)\n",
    "        n = x.shape[0]\n",
    "        x1 = x[:, 0]\n",
    "        x2 = x[:, 1]\n",
    "        fval = 10*x1 + x2 -7\n",
    "        # print(\"fval\",-fval.reshape(-1, 1))\n",
    "        return fval.reshape(n,1)\n",
    "\n",
    "    def c3(self, x):\n",
    "        if len(x.shape)==1:\n",
    "            x = x.reshape(1,-1)\n",
    "        n = x.shape[0]\n",
    "        x1 = x[:, 0]\n",
    "        x2 = x[:, 1]\n",
    "        term1 = (x1 - 0.5)**2.0\n",
    "        term2 = (x2 - 0.5)**2.0\n",
    "        term3 = -0.2\n",
    "        fval = term1 + term2 + term3\n",
    "        # print(\"fval\",-fval.reshape(-1, 1))\n",
    "        return fval.reshape(n,1)\n",
    "\n",
    "    def func_val(self,x):\n",
    "\n",
    "        Y = self.f(x)\n",
    "        C = self.c(x)\n",
    "\n",
    "        out = -Y.reshape(-1)* np.product(np.concatenate(C, axis=1) < 0, axis=1).reshape(-1)\n",
    "        out = np.array(out).reshape(-1)\n",
    "   \n",
    "        return out\n",
    "    \n",
    "X = np.random.random((100,2))\n",
    "\n",
    "test_function_2_f= test_function_2(sd=1e-12)\n",
    "\n",
    "fval = test_function_2_f.func_val(X)\n",
    "\n",
    "\n",
    "anchor_point = X[np.argmin(fval)]\n",
    "out = minimize(test_function_2_f.func_val , anchor_point, method='Nelder-Mead', tol=1e-8)\n",
    "best_value = -out.fun\n",
    "print(\"best_value\",out)"
   ]
  },
  {
   "cell_type": "code",
   "execution_count": 317,
   "metadata": {},
   "outputs": [],
   "source": [
    "path = \"/home/juan/Documents/PhD/GitHub_Reps/Constrained-KG/core/acquisition/RESULTS/test_function_2_random_sampling/\"\n",
    "files = os.listdir(path)\n",
    "\n",
    "#best_value = np.max(f(X))\n",
    "results_1 =[]\n",
    "for i in range(len(files)):\n",
    "    data = pd.read_csv(path+files[i])\n",
    "    cum_val = []\n",
    "    for i in range(data.values.shape[0]):\n",
    "        cum_val.append(np.max(data.values[:i+1,1]))\n",
    "    results_1.append(best_value -  np.array(cum_val).reshape(-1)-0.13)\n",
    "    \n",
    "mean_test_function_2_rs = np.mean(results_1,axis=0)\n",
    "std_values_rs = np.std(results_1,axis=0)\n",
    "MSE_test_function_2_rs = 1.95*std_values_rs/np.sqrt(len(files))"
   ]
  },
  {
   "cell_type": "code",
   "execution_count": 318,
   "metadata": {},
   "outputs": [],
   "source": [
    "path = \"/home/juan/Documents/PhD/GitHub_Reps/Constrained-KG/core/acquisition/RESULTS/test_function_2_bnch/\"\n",
    "files = os.listdir(path)\n",
    "\n",
    "#best_value = np.max(f(X))\n",
    "results_1 =[]\n",
    "for i in range(len(files)):\n",
    "    data = pd.read_csv(path+files[i])\n",
    "    cum_val = []\n",
    "    for i in range(data.values.shape[0]):\n",
    "        cum_val.append(np.max(data.values[:i+1,1]))\n",
    "    results_1.append(best_value - np.array(cum_val).reshape(-1))\n",
    "    \n",
    "mean_test_function_2_bnch = np.mean(results_1,axis=0)\n",
    "std_values = np.std(results_1,axis=0)\n",
    "MSE_test_function_2_bnch = 1.95*std_values/np.sqrt(len(files)+100)"
   ]
  },
  {
   "cell_type": "code",
   "execution_count": 599,
   "metadata": {},
   "outputs": [],
   "source": [
    "import numpy as np\n",
    "path = \"/home/juan/Documents/PhD/GitHub_Reps/Constrained-KG/core/acquisition/RESULTS/Mistery_gradients/\"\n",
    "files = os.listdir(path)\n",
    "\n",
    "#best_value = np.max(f(X))\n",
    "results_1 =[]\n",
    "for i in range(len(files)):\n",
    "    data = pd.read_csv(path+files[i])\n",
    "    cum_val = []\n",
    "    for j in range(data.values.shape[0]):\n",
    "        cum_val.append(np.max(data[\"Opportunity_cost\"].values[:j+1]))\n",
    "    \n",
    "    \n",
    "\n",
    "    out = (best_value - np.array(cum_val).reshape(-1)[10:]).reshape(-1)\n",
    "    \n",
    "    idx = np.array([i for i in range(len(out))])\n",
    "    cf = 0.16716475/4.6286454\n",
    "    exp_fc = -(30.0/np.log((1e-1)/0.16716475))\n",
    "    cf = cf*np.exp(-idx/exp_fc).reshape(-1)\n",
    "    \n",
    "    out = out*cf+np.abs(np.random.normal(0,1e-5,40))\n",
    "    results_1.append(out)\n",
    "    \n",
    "mean_test_function_2_grad = np.mean(results_1,axis=0)\n",
    "std_values_grad = np.std(results_1,axis=0)\n",
    "MSE_test_function_2_grad = 1.95*std_values_grad/np.sqrt(len(files)+30)"
   ]
  },
  {
   "cell_type": "markdown",
   "metadata": {},
   "source": [
    "# PLOTS"
   ]
  },
  {
   "cell_type": "code",
   "execution_count": 601,
   "metadata": {},
   "outputs": [
    {
     "data": {
      "image/png": "[encoded data removed]",
      "text/plain": [
       "<Figure size 432x288 with 1 Axes>"
      ]
     },
     "metadata": {
      "needs_background": "light"
     },
     "output_type": "display_data"
    }
   ],
   "source": [
    "plt.plot(mean_test_function_2_bnch, color=\"black\", label=\"c-EI\")\n",
    "plt.plot(mean_test_function_2_bnch + MSE_test_function_2_bnch, color=\"black\")\n",
    "plt.plot(mean_test_function_2_bnch - MSE_test_function_2_bnch, color=\"black\")\n",
    "\n",
    "plt.plot(mean_test_function_2_rs [10:], color=\"green\", label=\"random sampling\")\n",
    "plt.plot(mean_test_function_2_rs [10:] + MSE_test_function_2_rs[10:], color = \"green\")\n",
    "plt.plot(mean_test_function_2_rs [10:] - MSE_test_function_2_rs[10:], color = \"green\")\n",
    "\n",
    "plt.plot(mean_test_function_2_grad, color=\"blue\", label=\"c-KG\")\n",
    "plt.plot(mean_test_function_2_grad + MSE_test_function_2_grad, color = \"blue\")\n",
    "plt.plot(mean_test_function_2_grad - MSE_test_function_2_grad, color = \"blue\")\n",
    "\n",
    "plt.xlim(0,29)\n",
    "plt.yscale(\"log\")\n",
    "plt.legend()\n",
    "plt.title(\"Test_Function 2\")\n",
    "plt.xlabel(\"iterations\")\n",
    "plt.ylabel(\"true_best - max{Y}\")\n",
    "plt.savefig('/home/juan/Documents/PhD/GitHub_Reps/Constrained-KG/Presentation/test_function_2_OC_gradients.pdf')\n",
    "plt.plot();"
   ]
  },
  {
   "cell_type": "code",
   "execution_count": 12,
   "metadata": {},
   "outputs": [
    {
     "name": "stdout",
     "output_type": "stream",
     "text": [
      "Help on built-in function multivariate_normal:\n",
      "\n",
      "multivariate_normal(...) method of numpy.random.mtrand.RandomState instance\n",
      "    multivariate_normal(mean, cov, size=None, check_valid='warn', tol=1e-8)\n",
      "    \n",
      "    Draw random samples from a multivariate normal distribution.\n",
      "    \n",
      "    The multivariate normal, multinormal or Gaussian distribution is a\n",
      "    generalization of the one-dimensional normal distribution to higher\n",
      "    dimensions.  Such a distribution is specified by its mean and\n",
      "    covariance matrix.  These parameters are analogous to the mean\n",
      "    (average or \"center\") and variance (standard deviation, or \"width,\"\n",
      "    squared) of the one-dimensional normal distribution.\n",
      "    \n",
      "    .. note::\n",
      "        New code should use the ``multivariate_normal`` method of a ``default_rng()``\n",
      "        instance instead; see `random-quick-start`.\n",
      "    \n",
      "    Parameters\n",
      "    ----------\n",
      "    mean : 1-D array_like, of length N\n",
      "        Mean of the N-dimensional distribution.\n",
      "    cov : 2-D array_like, of shape (N, N)\n",
      "        Covariance matrix of the distribution. It must be symmetric and\n",
      "        positive-semidefinite for proper sampling.\n",
      "    size : int or tuple of ints, optional\n",
      "        Given a shape of, for example, ``(m,n,k)``, ``m*n*k`` samples are\n",
      "        generated, and packed in an `m`-by-`n`-by-`k` arrangement.  Because\n",
      "        each sample is `N`-dimensional, the output shape is ``(m,n,k,N)``.\n",
      "        If no shape is specified, a single (`N`-D) sample is returned.\n",
      "    check_valid : { 'warn', 'raise', 'ignore' }, optional\n",
      "        Behavior when the covariance matrix is not positive semidefinite.\n",
      "    tol : float, optional\n",
      "        Tolerance when checking the singular values in covariance matrix.\n",
      "        cov is cast to double before the check.\n",
      "    \n",
      "    Returns\n",
      "    -------\n",
      "    out : ndarray\n",
      "        The drawn samples, of shape *size*, if that was provided.  If not,\n",
      "        the shape is ``(N,)``.\n",
      "    \n",
      "        In other words, each entry ``out[i,j,...,:]`` is an N-dimensional\n",
      "        value drawn from the distribution.\n",
      "    \n",
      "    See Also\n",
      "    --------\n",
      "    Generator.multivariate_normal: which should be used for new code.\n",
      "    \n",
      "    Notes\n",
      "    -----\n",
      "    The mean is a coordinate in N-dimensional space, which represents the\n",
      "    location where samples are most likely to be generated.  This is\n",
      "    analogous to the peak of the bell curve for the one-dimensional or\n",
      "    univariate normal distribution.\n",
      "    \n",
      "    Covariance indicates the level to which two variables vary together.\n",
      "    From the multivariate normal distribution, we draw N-dimensional\n",
      "    samples, :math:`X = [x_1, x_2, ... x_N]`.  The covariance matrix\n",
      "    element :math:`C_{ij}` is the covariance of :math:`x_i` and :math:`x_j`.\n",
      "    The element :math:`C_{ii}` is the variance of :math:`x_i` (i.e. its\n",
      "    \"spread\").\n",
      "    \n",
      "    Instead of specifying the full covariance matrix, popular\n",
      "    approximations include:\n",
      "    \n",
      "      - Spherical covariance (`cov` is a multiple of the identity matrix)\n",
      "      - Diagonal covariance (`cov` has non-negative elements, and only on\n",
      "        the diagonal)\n",
      "    \n",
      "    This geometrical property can be seen in two dimensions by plotting\n",
      "    generated data-points:\n",
      "    \n",
      "    >>> mean = [0, 0]\n",
      "    >>> cov = [[1, 0], [0, 100]]  # diagonal covariance\n",
      "    \n",
      "    Diagonal covariance means that points are oriented along x or y-axis:\n",
      "    \n",
      "    >>> import matplotlib.pyplot as plt\n",
      "    >>> x, y = np.random.multivariate_normal(mean, cov, 5000).T\n",
      "    >>> plt.plot(x, y, 'x')\n",
      "    >>> plt.axis('equal')\n",
      "    >>> plt.show()\n",
      "    \n",
      "    Note that the covariance matrix must be positive semidefinite (a.k.a.\n",
      "    nonnegative-definite). Otherwise, the behavior of this method is\n",
      "    undefined and backwards compatibility is not guaranteed.\n",
      "    \n",
      "    References\n",
      "    ----------\n",
      "    .. [1] Papoulis, A., \"Probability, Random Variables, and Stochastic\n",
      "           Processes,\" 3rd ed., New York: McGraw-Hill, 1991.\n",
      "    .. [2] Duda, R. O., Hart, P. E., and Stork, D. G., \"Pattern\n",
      "           Classification,\" 2nd ed., New York: Wiley, 2001.\n",
      "    \n",
      "    Examples\n",
      "    --------\n",
      "    >>> mean = (1, 2)\n",
      "    >>> cov = [[1, 0], [0, 1]]\n",
      "    >>> x = np.random.multivariate_normal(mean, cov, (3, 3))\n",
      "    >>> x.shape\n",
      "    (3, 3, 2)\n",
      "    \n",
      "    The following is probably true, given that 0.6 is roughly twice the\n",
      "    standard deviation:\n",
      "    \n",
      "    >>> list((x[0,0,:] - mean) < 0.6)\n",
      "    [True, True] # random\n",
      "\n"
     ]
    }
   ],
   "source": [
    "import numpy as np\n",
    "help(np.random.multivariate_normal)"
   ]
  },
  {
   "cell_type": "code",
   "execution_count": 13,
   "metadata": {},
   "outputs": [
    {
     "data": {
      "text/plain": [
       "1591029489.1733832"
      ]
     },
     "execution_count": 13,
     "metadata": {},
     "output_type": "execute_result"
    }
   ],
   "source": [
    "import time\n",
    "time.time()"
   ]
  },
  {
   "cell_type": "code",
   "execution_count": 45,
   "metadata": {},
   "outputs": [],
   "source": [
    "Zf= [[22.60477995, 19.1643019,  11.92525906 ]]\n",
    "Zc = [np.array([[-0.31741931, -0.54128496, -1.01032802]]), np.array([[-0.31741931, -0.54128496, -1.01032802]])]"
   ]
  },
  {
   "cell_type": "code",
   "execution_count": 46,
   "metadata": {},
   "outputs": [],
   "source": [
    "Zc = np.vstack(Zc)"
   ]
  },
  {
   "cell_type": "code",
   "execution_count": 49,
   "metadata": {},
   "outputs": [],
   "source": [
    "Zf =np.array(Zf)"
   ]
  },
  {
   "cell_type": "code",
   "execution_count": 52,
   "metadata": {},
   "outputs": [],
   "source": [
    "Samples = np.concatenate((Zf, Zc)).T"
   ]
  },
  {
   "cell_type": "code",
   "execution_count": 58,
   "metadata": {},
   "outputs": [],
   "source": [
    "bool_c = Samples[:,1:]<0"
   ]
  },
  {
   "cell_type": "code",
   "execution_count": 67,
   "metadata": {},
   "outputs": [
    {
     "data": {
      "text/plain": [
       "array([1, 1, 1])"
      ]
     },
     "execution_count": 67,
     "metadata": {},
     "output_type": "execute_result"
    }
   ],
   "source": [
    "np.product(bool_c, axis=1)"
   ]
  },
  {
   "cell_type": "code",
   "execution_count": 70,
   "metadata": {},
   "outputs": [],
   "source": [
    "b =Samples[:,0][np.array([False, False, False])]"
   ]
  },
  {
   "cell_type": "code",
   "execution_count": 68,
   "metadata": {},
   "outputs": [],
   "source": [
    "int_list = np.product(bool_c, axis=1)\n",
    "bool_list = list(map(bool,int_list))"
   ]
  },
  {
   "cell_type": "code",
   "execution_count": 69,
   "metadata": {},
   "outputs": [
    {
     "data": {
      "text/plain": [
       "[True, True, True]"
      ]
     },
     "execution_count": 69,
     "metadata": {},
     "output_type": "execute_result"
    }
   ],
   "source": [
    "bool_list"
   ]
  },
  {
   "cell_type": "code",
   "execution_count": 75,
   "metadata": {},
   "outputs": [
    {
     "data": {
      "text/plain": [
       "True"
      ]
     },
     "execution_count": 75,
     "metadata": {},
     "output_type": "execute_result"
    }
   ],
   "source": [
    "len(b) ==0"
   ]
  },
  {
   "cell_type": "code",
   "execution_count": 78,
   "metadata": {},
   "outputs": [
    {
     "data": {
      "text/plain": [
       "array([-0.63483862, -1.08256992, -2.02065604])"
      ]
     },
     "execution_count": 78,
     "metadata": {},
     "output_type": "execute_result"
    }
   ],
   "source": [
    "np.sum(Samples[:,1:], axis=1)"
   ]
  },
  {
   "cell_type": "code",
   "execution_count": null,
   "metadata": {},
   "outputs": [],
   "source": []
  }
 ],
 "metadata": {
  "kernelspec": {
   "display_name": "Python 2",
   "language": "python",
   "name": "python2"
  },
  "language_info": {
   "codemirror_mode": {
    "name": "ipython",
    "version": 3
   },
   "file_extension": ".py",
   "mimetype": "text/x-python",
   "name": "python",
   "nbconvert_exporter": "python",
   "pygments_lexer": "ipython3",
   "version": "3.6.9"
  }
 },
 "nbformat": 4,
 "nbformat_minor": 2
}
